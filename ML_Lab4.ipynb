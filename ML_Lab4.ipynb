{
  "cells": [
    {
      "cell_type": "markdown",
      "metadata": {
        "id": "hbIOPRAT_l6g"
      },
      "source": [
        "#Лабораторная работа №4\n",
        "##Оптимизировать алгоритмы градиентного спуска с помощью Optuna"
      ]
    },
    {
      "cell_type": "code",
      "execution_count": null,
      "metadata": {
        "colab": {
          "base_uri": "https://localhost:8080/"
        },
        "id": "n4GSHatq-mOR",
        "outputId": "d81c4907-f716-43d5-8fe6-ed727ea4d5eb"
      },
      "outputs": [
        {
          "name": "stdout",
          "output_type": "stream",
          "text": [
            "Looking in indexes: https://pypi.org/simple, https://us-python.pkg.dev/colab-wheels/public/simple/\n",
            "Requirement already satisfied: optuna in /usr/local/lib/python3.8/dist-packages (3.0.5)\n",
            "Requirement already satisfied: scipy<1.9.0,>=1.7.0 in /usr/local/lib/python3.8/dist-packages (from optuna) (1.7.3)\n",
            "Requirement already satisfied: PyYAML in /usr/local/lib/python3.8/dist-packages (from optuna) (6.0)\n",
            "Requirement already satisfied: colorlog in /usr/local/lib/python3.8/dist-packages (from optuna) (6.7.0)\n",
            "Requirement already satisfied: tqdm in /usr/local/lib/python3.8/dist-packages (from optuna) (4.64.1)\n",
            "Requirement already satisfied: cliff in /usr/local/lib/python3.8/dist-packages (from optuna) (4.1.0)\n",
            "Requirement already satisfied: sqlalchemy>=1.3.0 in /usr/local/lib/python3.8/dist-packages (from optuna) (1.4.45)\n",
            "Requirement already satisfied: packaging>=20.0 in /usr/local/lib/python3.8/dist-packages (from optuna) (21.3)\n",
            "Requirement already satisfied: alembic>=1.5.0 in /usr/local/lib/python3.8/dist-packages (from optuna) (1.9.1)\n",
            "Requirement already satisfied: cmaes>=0.8.2 in /usr/local/lib/python3.8/dist-packages (from optuna) (0.9.0)\n",
            "Requirement already satisfied: numpy in /usr/local/lib/python3.8/dist-packages (from optuna) (1.21.6)\n",
            "Requirement already satisfied: importlib-metadata<5.0.0 in /usr/local/lib/python3.8/dist-packages (from optuna) (4.13.0)\n",
            "Requirement already satisfied: importlib-resources in /usr/local/lib/python3.8/dist-packages (from alembic>=1.5.0->optuna) (5.10.1)\n",
            "Requirement already satisfied: Mako in /usr/local/lib/python3.8/dist-packages (from alembic>=1.5.0->optuna) (1.2.4)\n",
            "Requirement already satisfied: zipp>=0.5 in /usr/local/lib/python3.8/dist-packages (from importlib-metadata<5.0.0->optuna) (3.11.0)\n",
            "Requirement already satisfied: pyparsing!=3.0.5,>=2.0.2 in /usr/local/lib/python3.8/dist-packages (from packaging>=20.0->optuna) (3.0.9)\n",
            "Requirement already satisfied: greenlet!=0.4.17 in /usr/local/lib/python3.8/dist-packages (from sqlalchemy>=1.3.0->optuna) (2.0.1)\n",
            "Requirement already satisfied: stevedore>=2.0.1 in /usr/local/lib/python3.8/dist-packages (from cliff->optuna) (4.1.1)\n",
            "Requirement already satisfied: PrettyTable>=0.7.2 in /usr/local/lib/python3.8/dist-packages (from cliff->optuna) (3.5.0)\n",
            "Requirement already satisfied: cmd2>=1.0.0 in /usr/local/lib/python3.8/dist-packages (from cliff->optuna) (2.4.2)\n",
            "Requirement already satisfied: autopage>=0.4.0 in /usr/local/lib/python3.8/dist-packages (from cliff->optuna) (0.5.1)\n",
            "Requirement already satisfied: attrs>=16.3.0 in /usr/local/lib/python3.8/dist-packages (from cmd2>=1.0.0->cliff->optuna) (22.1.0)\n",
            "Requirement already satisfied: wcwidth>=0.1.7 in /usr/local/lib/python3.8/dist-packages (from cmd2>=1.0.0->cliff->optuna) (0.2.5)\n",
            "Requirement already satisfied: pyperclip>=1.6 in /usr/local/lib/python3.8/dist-packages (from cmd2>=1.0.0->cliff->optuna) (1.8.2)\n",
            "Requirement already satisfied: pbr!=2.1.0,>=2.0.0 in /usr/local/lib/python3.8/dist-packages (from stevedore>=2.0.1->cliff->optuna) (5.11.0)\n",
            "Requirement already satisfied: MarkupSafe>=0.9.2 in /usr/local/lib/python3.8/dist-packages (from Mako->alembic>=1.5.0->optuna) (2.0.1)\n"
          ]
        }
      ],
      "source": [
        "!pip install optuna"
      ]
    },
    {
      "cell_type": "code",
      "execution_count": null,
      "metadata": {
        "id": "nmJDzGGK-ihD"
      },
      "outputs": [],
      "source": [
        "import numpy as np\n",
        "import optuna\n",
        "import sklearn.datasets\n",
        "import sklearn.linear_model\n",
        "import sklearn.model_selection\n",
        "import logging\n",
        "import sys\n",
        "import math\n",
        "from optuna.visualization import plot_contour\n",
        "from optuna.visualization import plot_edf\n",
        "from optuna.visualization import plot_intermediate_values\n",
        "from optuna.visualization import plot_optimization_history\n",
        "from optuna.visualization import plot_parallel_coordinate\n",
        "from optuna.visualization import plot_param_importances\n",
        "from optuna.visualization import plot_slice"
      ]
    },
    {
      "cell_type": "markdown",
      "metadata": {
        "id": "cUBTsMeE_EG5"
      },
      "source": [
        "Функция Шаффера №2"
      ]
    },
    {
      "cell_type": "code",
      "execution_count": null,
      "metadata": {
        "id": "20-78wCW_EOk"
      },
      "outputs": [],
      "source": [
        "def Sh2_E(x,y):\n",
        "  return 0.5+((math.sin(x**2-y**2))**2-0.5)/(1+0.001*(x**2+y**2))**2\n",
        "def objective_Sh2(trial):\n",
        "    x = trial.suggest_float(\"x\", -100, 100)\n",
        "    y = trial.suggest_float(\"y\", -100, 100)\n",
        "    return Sh2_E(x, y)"
      ]
    },
    {
      "cell_type": "markdown",
      "metadata": {
        "id": "3fFA94iK_jhq"
      },
      "source": [
        "Функция Шаффера №4"
      ]
    },
    {
      "cell_type": "code",
      "execution_count": null,
      "metadata": {
        "id": "VIv7gYkx_jov"
      },
      "outputs": [],
      "source": [
        "def Sh4_E(x,y):\n",
        "  return 0.5+((math.cos(math.sin(abs(x**2-y**2))))**2-0.5)/(1+0.001*(x**2+y**2))**2\n",
        "def objective_Sh4(trial):\n",
        "    x = trial.suggest_float(\"x\", -100, 100)\n",
        "    y = trial.suggest_float(\"y\", -5, 5)\n",
        "    return Sh4_E(x, y)"
      ]
    },
    {
      "cell_type": "code",
      "execution_count": null,
      "metadata": {
        "colab": {
          "background_save": true
        },
        "id": "kcXRsSIl_-7b",
        "outputId": "afc3c383-7e3e-4877-b018-5067935fc296"
      },
      "outputs": [
        {
          "name": "stderr",
          "output_type": "stream",
          "text": [
            "\u001b[32m[I 2022-12-28 13:56:07,556]\u001b[0m A new study created in memory with name: no-name-c43efe84-b789-4e87-9c1d-f79b7b0fdbed\u001b[0m\n",
            "\u001b[32m[I 2022-12-28 13:56:07,561]\u001b[0m Trial 0 finished with value: 0.4945665518439392 and parameters: {'x': 23.185936111930943, 'y': 77.89246632503674}. Best is trial 0 with value: 0.4945665518439392.\u001b[0m\n",
            "\u001b[32m[I 2022-12-28 13:56:07,570]\u001b[0m Trial 1 finished with value: 0.49956473890214254 and parameters: {'x': -99.43563953391859, 'y': 46.56009366999078}. Best is trial 0 with value: 0.4945665518439392.\u001b[0m\n",
            "\u001b[32m[I 2022-12-28 13:56:07,575]\u001b[0m Trial 2 finished with value: 0.48567514767457587 and parameters: {'x': 65.43654607589139, 'y': 24.749009757780243}. Best is trial 2 with value: 0.48567514767457587.\u001b[0m\n",
            "\u001b[32m[I 2022-12-28 13:56:07,580]\u001b[0m Trial 3 finished with value: 0.5078121478416683 and parameters: {'x': 54.11903479963726, 'y': -31.256403119249}. Best is trial 2 with value: 0.48567514767457587.\u001b[0m\n",
            "\u001b[32m[I 2022-12-28 13:56:07,586]\u001b[0m Trial 4 finished with value: 0.4905441614425885 and parameters: {'x': 79.10758108982762, 'y': 0.013318477616536484}. Best is trial 2 with value: 0.48567514767457587.\u001b[0m\n",
            "\u001b[32m[I 2022-12-28 13:56:07,590]\u001b[0m Trial 5 finished with value: 0.5001516443112939 and parameters: {'x': -68.17462851764446, 'y': 7.347188969838925}. Best is trial 2 with value: 0.48567514767457587.\u001b[0m\n",
            "\u001b[32m[I 2022-12-28 13:56:07,595]\u001b[0m Trial 6 finished with value: 0.48497182958060503 and parameters: {'x': -35.089502582046975, 'y': -59.36825580919434}. Best is trial 6 with value: 0.48497182958060503.\u001b[0m\n",
            "\u001b[32m[I 2022-12-28 13:56:07,598]\u001b[0m Trial 7 finished with value: 0.509967148189994 and parameters: {'x': 64.22894980619878, 'y': 40.40161937088533}. Best is trial 6 with value: 0.48497182958060503.\u001b[0m\n",
            "\u001b[32m[I 2022-12-28 13:56:07,601]\u001b[0m Trial 8 finished with value: 0.4892595696902492 and parameters: {'x': 47.06907045508939, 'y': -50.447754811634816}. Best is trial 6 with value: 0.48497182958060503.\u001b[0m\n",
            "\u001b[32m[I 2022-12-28 13:56:07,605]\u001b[0m Trial 9 finished with value: 0.5380334142926384 and parameters: {'x': 27.445326733746597, 'y': 25.77335105082095}. Best is trial 6 with value: 0.48497182958060503.\u001b[0m\n",
            "\u001b[32m[I 2022-12-28 13:56:07,624]\u001b[0m Trial 10 finished with value: 0.4970508497769435 and parameters: {'x': -25.941682260832987, 'y': -85.54517071551608}. Best is trial 6 with value: 0.48497182958060503.\u001b[0m\n",
            "\u001b[32m[I 2022-12-28 13:56:07,641]\u001b[0m Trial 11 finished with value: 0.5299181318532304 and parameters: {'x': -23.987611482125438, 'y': -38.29541781070941}. Best is trial 6 with value: 0.48497182958060503.\u001b[0m\n",
            "\u001b[32m[I 2022-12-28 13:56:07,654]\u001b[0m Trial 12 finished with value: 0.5038588170788415 and parameters: {'x': -21.509530581065746, 'y': -98.7135817348688}. Best is trial 6 with value: 0.48497182958060503.\u001b[0m\n",
            "\u001b[32m[I 2022-12-28 13:56:07,665]\u001b[0m Trial 13 finished with value: 0.499654638714478 and parameters: {'x': 99.3226506550611, 'y': 81.76196524661077}. Best is trial 6 with value: 0.48497182958060503.\u001b[0m\n",
            "\u001b[32m[I 2022-12-28 13:56:07,678]\u001b[0m Trial 14 finished with value: 0.5085002685516699 and parameters: {'x': -49.264144814699435, 'y': -63.412496729034075}. Best is trial 6 with value: 0.48497182958060503.\u001b[0m\n",
            "\u001b[32m[I 2022-12-28 13:56:07,690]\u001b[0m Trial 15 finished with value: 0.40947579125459255 and parameters: {'x': 7.1706699081233864, 'y': -23.858828155290375}. Best is trial 15 with value: 0.40947579125459255.\u001b[0m\n",
            "\u001b[32m[I 2022-12-28 13:56:07,701]\u001b[0m Trial 16 finished with value: 0.35226453006105907 and parameters: {'x': 10.106351315692777, 'y': -25.28992608261966}. Best is trial 16 with value: 0.35226453006105907.\u001b[0m\n",
            "\u001b[32m[I 2022-12-28 13:56:07,713]\u001b[0m Trial 17 finished with value: 0.42688629808761047 and parameters: {'x': 11.67796679174654, 'y': -26.71899535497462}. Best is trial 16 with value: 0.35226453006105907.\u001b[0m\n",
            "\u001b[32m[I 2022-12-28 13:56:07,733]\u001b[0m Trial 18 finished with value: 0.5020519108129439 and parameters: {'x': -2.386471554617189, 'y': -14.29699221983532}. Best is trial 16 with value: 0.35226453006105907.\u001b[0m\n",
            "\u001b[32m[I 2022-12-28 13:56:07,750]\u001b[0m Trial 19 finished with value: 0.06472612420039303 and parameters: {'x': 1.5496583523768042, 'y': -8.267036406305108}. Best is trial 19 with value: 0.06472612420039303.\u001b[0m\n",
            "\u001b[32m[I 2022-12-28 13:56:07,761]\u001b[0m Trial 20 finished with value: 0.5866252436880466 and parameters: {'x': 35.26729045994183, 'y': -9.43804255594231}. Best is trial 19 with value: 0.06472612420039303.\u001b[0m\n",
            "\u001b[32m[I 2022-12-28 13:56:07,774]\u001b[0m Trial 21 finished with value: 0.7557337609666237 and parameters: {'x': -0.09201993698354016, 'y': -19.93476986279081}. Best is trial 19 with value: 0.06472612420039303.\u001b[0m\n",
            "\u001b[32m[I 2022-12-28 13:56:07,786]\u001b[0m Trial 22 finished with value: 0.807243227185449 and parameters: {'x': -7.564846967129167, 'y': 9.314171108116}. Best is trial 19 with value: 0.06472612420039303.\u001b[0m\n",
            "\u001b[32m[I 2022-12-28 13:56:07,797]\u001b[0m Trial 23 finished with value: 0.44293374572496114 and parameters: {'x': 16.238674245375183, 'y': -41.185625919777124}. Best is trial 19 with value: 0.06472612420039303.\u001b[0m\n",
            "\u001b[32m[I 2022-12-28 13:56:07,810]\u001b[0m Trial 24 finished with value: 0.49742463767796014 and parameters: {'x': -45.07829572501371, 'y': -70.15481837911085}. Best is trial 19 with value: 0.06472612420039303.\u001b[0m\n",
            "\u001b[32m[I 2022-12-28 13:56:07,822]\u001b[0m Trial 25 finished with value: 0.44088163600000185 and parameters: {'x': 10.604935258788267, 'y': 21.239535888291623}. Best is trial 19 with value: 0.06472612420039303.\u001b[0m\n",
            "\u001b[32m[I 2022-12-28 13:56:07,834]\u001b[0m Trial 26 finished with value: 0.4845466984702925 and parameters: {'x': 39.80118396102445, 'y': 55.69151211602763}. Best is trial 19 with value: 0.06472612420039303.\u001b[0m\n",
            "\u001b[32m[I 2022-12-28 13:56:07,845]\u001b[0m Trial 27 finished with value: 0.3073072811377219 and parameters: {'x': -8.85420966812044, 'y': -17.28248091624948}. Best is trial 19 with value: 0.06472612420039303.\u001b[0m\n",
            "\u001b[32m[I 2022-12-28 13:56:07,856]\u001b[0m Trial 28 finished with value: 0.3244553233659704 and parameters: {'x': -12.497973589291192, 'y': -10.717966720391377}. Best is trial 19 with value: 0.06472612420039303.\u001b[0m\n",
            "\u001b[32m[I 2022-12-28 13:56:07,870]\u001b[0m Trial 29 finished with value: 0.4826436564732255 and parameters: {'x': -63.69480062737002, 'y': -5.963540098221044}. Best is trial 19 with value: 0.06472612420039303.\u001b[0m\n",
            "\u001b[32m[I 2022-12-28 13:56:07,880]\u001b[0m Trial 30 finished with value: 0.5351100894251378 and parameters: {'x': -17.625307993226265, 'y': 12.300039805755482}. Best is trial 19 with value: 0.06472612420039303.\u001b[0m\n",
            "\u001b[32m[I 2022-12-28 13:56:07,893]\u001b[0m Trial 31 finished with value: 0.4878592081137828 and parameters: {'x': -12.029163656681238, 'y': -43.338047910193836}. Best is trial 19 with value: 0.06472612420039303.\u001b[0m\n",
            "\u001b[32m[I 2022-12-28 13:56:07,906]\u001b[0m Trial 32 finished with value: 0.7622349184143775 and parameters: {'x': 16.924773942579524, 'y': -4.934489887489393}. Best is trial 19 with value: 0.06472612420039303.\u001b[0m\n",
            "\u001b[32m[I 2022-12-28 13:56:07,920]\u001b[0m Trial 33 finished with value: 0.492094360206258 and parameters: {'x': -36.222949978750876, 'y': -18.95971197956976}. Best is trial 19 with value: 0.06472612420039303.\u001b[0m\n",
            "\u001b[32m[I 2022-12-28 13:56:07,931]\u001b[0m Trial 34 finished with value: 0.44929140081862334 and parameters: {'x': 24.212393127666957, 'y': -31.13022291888558}. Best is trial 19 with value: 0.06472612420039303.\u001b[0m\n",
            "\u001b[32m[I 2022-12-28 13:56:07,948]\u001b[0m Trial 35 finished with value: 0.5115393097154323 and parameters: {'x': -0.9400154433398411, 'y': 54.069694696468865}. Best is trial 19 with value: 0.06472612420039303.\u001b[0m\n",
            "\u001b[32m[I 2022-12-28 13:56:07,968]\u001b[0m Trial 36 finished with value: 0.4884323166163544 and parameters: {'x': -67.34792581808966, 'y': 31.99053324324942}. Best is trial 19 with value: 0.06472612420039303.\u001b[0m\n",
            "\u001b[32m[I 2022-12-28 13:56:07,980]\u001b[0m Trial 37 finished with value: 0.7360113875469575 and parameters: {'x': -14.149772964844903, 'y': 14.954289530274405}. Best is trial 19 with value: 0.06472612420039303.\u001b[0m\n",
            "\u001b[32m[I 2022-12-28 13:56:07,997]\u001b[0m Trial 38 finished with value: 0.5053033271092544 and parameters: {'x': -91.31854905628349, 'y': 2.4891806106066827}. Best is trial 19 with value: 0.06472612420039303.\u001b[0m\n",
            "\u001b[32m[I 2022-12-28 13:56:08,019]\u001b[0m Trial 39 finished with value: 0.5016634888526156 and parameters: {'x': -32.86224434095642, 'y': 95.69725193053445}. Best is trial 19 with value: 0.06472612420039303.\u001b[0m\n",
            "\u001b[32m[I 2022-12-28 13:56:08,038]\u001b[0m Trial 40 finished with value: 0.5108630222142733 and parameters: {'x': 52.25784919450989, 'y': -53.86975433794436}. Best is trial 19 with value: 0.06472612420039303.\u001b[0m\n",
            "\u001b[32m[I 2022-12-28 13:56:08,051]\u001b[0m Trial 41 finished with value: 0.39286645498695083 and parameters: {'x': 8.361822017187514, 'y': -27.2509786352571}. Best is trial 19 with value: 0.06472612420039303.\u001b[0m\n",
            "\u001b[32m[I 2022-12-28 13:56:08,062]\u001b[0m Trial 42 finished with value: 0.5123153753206422 and parameters: {'x': 32.13162997536308, 'y': -33.76635099125619}. Best is trial 19 with value: 0.06472612420039303.\u001b[0m\n",
            "\u001b[32m[I 2022-12-28 13:56:08,074]\u001b[0m Trial 43 finished with value: 0.6106092900946604 and parameters: {'x': 6.270014458203964, 'y': -12.929387393536114}. Best is trial 19 with value: 0.06472612420039303.\u001b[0m\n",
            "\u001b[32m[I 2022-12-28 13:56:08,092]\u001b[0m Trial 44 finished with value: 0.9291881194174816 and parameters: {'x': -8.542593585295142, 'y': -2.3368153910741576}. Best is trial 19 with value: 0.06472612420039303.\u001b[0m\n",
            "\u001b[32m[I 2022-12-28 13:56:08,110]\u001b[0m Trial 45 finished with value: 0.603742659984871 and parameters: {'x': 21.29491185451772, 'y': -27.103286872898202}. Best is trial 19 with value: 0.06472612420039303.\u001b[0m\n",
            "\u001b[32m[I 2022-12-28 13:56:08,125]\u001b[0m Trial 46 finished with value: 0.4610588494349654 and parameters: {'x': 3.7976782938992617, 'y': -49.20040355558679}. Best is trial 19 with value: 0.06472612420039303.\u001b[0m\n",
            "\u001b[32m[I 2022-12-28 13:56:08,142]\u001b[0m Trial 47 finished with value: 0.5536320698963538 and parameters: {'x': -27.954496772253187, 'y': -16.760619913062847}. Best is trial 19 with value: 0.06472612420039303.\u001b[0m\n",
            "\u001b[32m[I 2022-12-28 13:56:08,156]\u001b[0m Trial 48 finished with value: 0.5109228837215293 and parameters: {'x': 66.14223729725248, 'y': 4.034500558464281}. Best is trial 19 with value: 0.06472612420039303.\u001b[0m\n",
            "\u001b[32m[I 2022-12-28 13:56:08,168]\u001b[0m Trial 49 finished with value: 0.5281148536622177 and parameters: {'x': -45.509835142797485, 'y': -33.85177786806305}. Best is trial 19 with value: 0.06472612420039303.\u001b[0m\n",
            "\u001b[32m[I 2022-12-28 13:56:08,181]\u001b[0m Trial 50 finished with value: 0.5001647466356068 and parameters: {'x': 41.13503650872114, 'y': -71.55672063268177}. Best is trial 19 with value: 0.06472612420039303.\u001b[0m\n",
            "\u001b[32m[I 2022-12-28 13:56:08,194]\u001b[0m Trial 51 finished with value: 0.3737186074508555 and parameters: {'x': 6.681969550334845, 'y': -22.860918301494376}. Best is trial 19 with value: 0.06472612420039303.\u001b[0m\n",
            "\u001b[32m[I 2022-12-28 13:56:08,212]\u001b[0m Trial 52 finished with value: 0.6431320542311973 and parameters: {'x': -2.6971658506802676, 'y': -21.777210865466365}. Best is trial 19 with value: 0.06472612420039303.\u001b[0m\n",
            "\u001b[32m[I 2022-12-28 13:56:08,234]\u001b[0m Trial 53 finished with value: 0.4583434856428861 and parameters: {'x': -21.675878919619556, 'y': -42.48827261888354}. Best is trial 19 with value: 0.06472612420039303.\u001b[0m\n",
            "\u001b[32m[I 2022-12-28 13:56:08,247]\u001b[0m Trial 54 finished with value: 0.7078347112972498 and parameters: {'x': 16.311650790044517, 'y': -10.968524501109417}. Best is trial 19 with value: 0.06472612420039303.\u001b[0m\n",
            "\u001b[32m[I 2022-12-28 13:56:08,261]\u001b[0m Trial 55 finished with value: 0.4640033724587307 and parameters: {'x': 26.415754781248786, 'y': -26.105720233732356}. Best is trial 19 with value: 0.06472612420039303.\u001b[0m\n",
            "\u001b[32m[I 2022-12-28 13:56:08,273]\u001b[0m Trial 56 finished with value: 0.4981956311177225 and parameters: {'x': -7.141148656275425, 'y': -57.73395568539419}. Best is trial 19 with value: 0.06472612420039303.\u001b[0m\n",
            "\u001b[32m[I 2022-12-28 13:56:08,285]\u001b[0m Trial 57 finished with value: 0.5011401775590074 and parameters: {'x': 9.497000864845642, 'y': 3.0493266368343264}. Best is trial 19 with value: 0.06472612420039303.\u001b[0m\n",
            "\u001b[32m[I 2022-12-28 13:56:08,301]\u001b[0m Trial 58 finished with value: 0.48367781390490944 and parameters: {'x': -17.941160424653148, 'y': -37.98387164008446}. Best is trial 19 with value: 0.06472612420039303.\u001b[0m\n",
            "\u001b[32m[I 2022-12-28 13:56:08,315]\u001b[0m Trial 59 finished with value: 0.7068688753544381 and parameters: {'x': 2.677908922002402, 'y': 19.326091272561985}. Best is trial 19 with value: 0.06472612420039303.\u001b[0m\n",
            "\u001b[32m[I 2022-12-28 13:56:08,330]\u001b[0m Trial 60 finished with value: 0.5242349183643606 and parameters: {'x': 33.41901431468078, 'y': -48.539318856962836}. Best is trial 19 with value: 0.06472612420039303.\u001b[0m\n",
            "\u001b[32m[I 2022-12-28 13:56:08,347]\u001b[0m Trial 61 finished with value: 0.6783643152822051 and parameters: {'x': 12.623353742641623, 'y': -22.433680237208492}. Best is trial 19 with value: 0.06472612420039303.\u001b[0m\n",
            "\u001b[32m[I 2022-12-28 13:56:08,361]\u001b[0m Trial 62 finished with value: 0.45569304060599797 and parameters: {'x': 5.943823085610662, 'y': -12.023361287544768}. Best is trial 19 with value: 0.06472612420039303.\u001b[0m\n",
            "\u001b[32m[I 2022-12-28 13:56:08,374]\u001b[0m Trial 63 finished with value: 0.20638669304831986 and parameters: {'x': -7.62208293479269, 'y': -6.480587082426666}. Best is trial 19 with value: 0.06472612420039303.\u001b[0m\n",
            "\u001b[32m[I 2022-12-28 13:56:08,389]\u001b[0m Trial 64 finished with value: 0.08916006917118996 and parameters: {'x': -6.839820644106847, 'y': -7.498050811308607}. Best is trial 19 with value: 0.06472612420039303.\u001b[0m\n",
            "\u001b[32m[I 2022-12-28 13:56:08,404]\u001b[0m Trial 65 finished with value: 0.5527126576409712 and parameters: {'x': -5.733611216243309, 'y': -4.599132756855846}. Best is trial 19 with value: 0.06472612420039303.\u001b[0m\n",
            "\u001b[32m[I 2022-12-28 13:56:08,420]\u001b[0m Trial 66 finished with value: 0.6086315015327012 and parameters: {'x': -13.144523571260606, 'y': 31.13088411926958}. Best is trial 19 with value: 0.06472612420039303.\u001b[0m\n",
            "\u001b[32m[I 2022-12-28 13:56:08,434]\u001b[0m Trial 67 finished with value: 0.5089391647359455 and parameters: {'x': -27.142484234329636, 'y': 10.14536365670564}. Best is trial 19 with value: 0.06472612420039303.\u001b[0m\n",
            "\u001b[32m[I 2022-12-28 13:56:08,448]\u001b[0m Trial 68 finished with value: 0.7203552861904063 and parameters: {'x': 19.759595447995405, 'y': -8.991244866143155}. Best is trial 19 with value: 0.06472612420039303.\u001b[0m\n",
            "\u001b[32m[I 2022-12-28 13:56:08,462]\u001b[0m Trial 69 finished with value: 0.4503708337542881 and parameters: {'x': -39.23319433503245, 'y': -19.07873260506923}. Best is trial 19 with value: 0.06472612420039303.\u001b[0m\n",
            "\u001b[32m[I 2022-12-28 13:56:08,478]\u001b[0m Trial 70 finished with value: 0.20801058946551998 and parameters: {'x': -16.52762702382931, 'y': 0.08954877686336715}. Best is trial 19 with value: 0.06472612420039303.\u001b[0m\n",
            "\u001b[32m[I 2022-12-28 13:56:08,493]\u001b[0m Trial 71 finished with value: 0.7829465266352749 and parameters: {'x': -17.007447924752608, 'y': -1.4023051563197395}. Best is trial 19 with value: 0.06472612420039303.\u001b[0m\n",
            "\u001b[32m[I 2022-12-28 13:56:08,509]\u001b[0m Trial 72 finished with value: 0.5348591299080494 and parameters: {'x': -0.698133082324934, 'y': 8.009006993275118}. Best is trial 19 with value: 0.06472612420039303.\u001b[0m\n",
            "\u001b[32m[I 2022-12-28 13:56:08,523]\u001b[0m Trial 73 finished with value: 0.7509948109475685 and parameters: {'x': -10.290027635937475, 'y': -14.539076692066853}. Best is trial 19 with value: 0.06472612420039303.\u001b[0m\n",
            "\u001b[32m[I 2022-12-28 13:56:08,538]\u001b[0m Trial 74 finished with value: 0.6090987687292223 and parameters: {'x': -28.28192177588927, 'y': 18.08249767926076}. Best is trial 19 with value: 0.06472612420039303.\u001b[0m\n",
            "\u001b[32m[I 2022-12-28 13:56:08,558]\u001b[0m Trial 75 finished with value: 0.7507254803754573 and parameters: {'x': -17.9833430148872, 'y': -6.512200317529674}. Best is trial 19 with value: 0.06472612420039303.\u001b[0m\n",
            "\u001b[32m[I 2022-12-28 13:56:08,575]\u001b[0m Trial 76 finished with value: 0.963575623596042 and parameters: {'x': -4.516820797203184, 'y': 0.33597749234661123}. Best is trial 19 with value: 0.06472612420039303.\u001b[0m\n",
            "\u001b[32m[I 2022-12-28 13:56:08,593]\u001b[0m Trial 77 finished with value: 0.5716799954963238 and parameters: {'x': -22.723844448394654, 'y': -32.194548525733765}. Best is trial 19 with value: 0.06472612420039303.\u001b[0m\n",
            "\u001b[32m[I 2022-12-28 13:56:08,610]\u001b[0m Trial 78 finished with value: 0.2761478688809908 and parameters: {'x': 13.339988447064162, 'y': -16.301410747101855}. Best is trial 19 with value: 0.06472612420039303.\u001b[0m\n",
            "\u001b[32m[I 2022-12-28 13:56:08,625]\u001b[0m Trial 79 finished with value: 0.4864584405489834 and parameters: {'x': -55.736704857605595, 'y': 24.75110843877808}. Best is trial 19 with value: 0.06472612420039303.\u001b[0m\n",
            "\u001b[32m[I 2022-12-28 13:56:08,639]\u001b[0m Trial 80 finished with value: 0.7151967039254037 and parameters: {'x': 14.282123230002233, 'y': -16.567798660674423}. Best is trial 19 with value: 0.06472612420039303.\u001b[0m\n",
            "\u001b[32m[I 2022-12-28 13:56:08,659]\u001b[0m Trial 81 finished with value: 0.7153213688620929 and parameters: {'x': 1.4828268169156038, 'y': -8.382679404169359}. Best is trial 19 with value: 0.06472612420039303.\u001b[0m\n",
            "\u001b[32m[I 2022-12-28 13:56:08,672]\u001b[0m Trial 82 finished with value: 0.6832629567073266 and parameters: {'x': -9.947242133379827, 'y': 5.9232555967834415}. Best is trial 19 with value: 0.06472612420039303.\u001b[0m\n",
            "\u001b[32m[I 2022-12-28 13:56:08,687]\u001b[0m Trial 83 finished with value: 0.37949604643866464 and parameters: {'x': 21.954814240313375, 'y': -23.07345911940296}. Best is trial 19 with value: 0.06472612420039303.\u001b[0m\n",
            "\u001b[32m[I 2022-12-28 13:56:08,704]\u001b[0m Trial 84 finished with value: 0.4638707825072154 and parameters: {'x': 3.5219999896513823, 'y': -29.271746245338907}. Best is trial 19 with value: 0.06472612420039303.\u001b[0m\n",
            "\u001b[32m[I 2022-12-28 13:56:08,718]\u001b[0m Trial 85 finished with value: 0.26521424366572205 and parameters: {'x': -14.914198486853945, 'y': 13.468417317666624}. Best is trial 19 with value: 0.06472612420039303.\u001b[0m\n",
            "\u001b[32m[I 2022-12-28 13:56:08,733]\u001b[0m Trial 86 finished with value: 0.45966337001751434 and parameters: {'x': -36.72581913800198, 'y': -1.2637181786215894}. Best is trial 19 with value: 0.06472612420039303.\u001b[0m\n",
            "\u001b[32m[I 2022-12-28 13:56:08,744]\u001b[0m Trial 87 finished with value: 0.46933974043298265 and parameters: {'x': -14.442744713442202, 'y': 44.603020673969326}. Best is trial 19 with value: 0.06472612420039303.\u001b[0m\n",
            "\u001b[32m[I 2022-12-28 13:56:08,757]\u001b[0m Trial 88 finished with value: 0.6183805955369545 and parameters: {'x': -30.00515605911339, 'y': 11.355009048701428}. Best is trial 19 with value: 0.06472612420039303.\u001b[0m\n",
            "\u001b[32m[I 2022-12-28 13:56:08,772]\u001b[0m Trial 89 finished with value: 0.5432276958987179 and parameters: {'x': -3.082557110594795, 'y': -16.749230274947564}. Best is trial 19 with value: 0.06472612420039303.\u001b[0m\n",
            "\u001b[32m[I 2022-12-28 13:56:08,785]\u001b[0m Trial 90 finished with value: 0.42946542778469 and parameters: {'x': -22.314800343096415, 'y': 34.117181978873404}. Best is trial 19 with value: 0.06472612420039303.\u001b[0m\n",
            "\u001b[32m[I 2022-12-28 13:56:08,800]\u001b[0m Trial 91 finished with value: 0.4575846991134715 and parameters: {'x': 12.089671465936899, 'y': -36.050574821589606}. Best is trial 19 with value: 0.06472612420039303.\u001b[0m\n",
            "\u001b[32m[I 2022-12-28 13:56:08,817]\u001b[0m Trial 92 finished with value: 0.5164702108430926 and parameters: {'x': -6.960827990659578, 'y': 15.869574312609192}. Best is trial 19 with value: 0.06472612420039303.\u001b[0m\n",
            "\u001b[32m[I 2022-12-28 13:56:08,831]\u001b[0m Trial 93 finished with value: 0.5565399839970911 and parameters: {'x': 29.144628563634413, 'y': -11.356496554003456}. Best is trial 19 with value: 0.06472612420039303.\u001b[0m\n",
            "\u001b[32m[I 2022-12-28 13:56:08,845]\u001b[0m Trial 94 finished with value: 0.11202411433852277 and parameters: {'x': 7.80521336764267, 'y': -6.473273346028236}. Best is trial 19 with value: 0.06472612420039303.\u001b[0m\n",
            "\u001b[32m[I 2022-12-28 13:56:08,859]\u001b[0m Trial 95 finished with value: 0.5039372479890479 and parameters: {'x': 96.93560237682507, 'y': -4.826661163600971}. Best is trial 19 with value: 0.06472612420039303.\u001b[0m\n",
            "\u001b[32m[I 2022-12-28 13:56:08,872]\u001b[0m Trial 96 finished with value: 0.30254461416605954 and parameters: {'x': -0.1950658928795832, 'y': 3.6305784746582574}. Best is trial 19 with value: 0.06472612420039303.\u001b[0m\n",
            "\u001b[32m[I 2022-12-28 13:56:08,883]\u001b[0m Trial 97 finished with value: 0.17776777020344314 and parameters: {'x': -13.450977001460487, 'y': 6.046950264564799}. Best is trial 19 with value: 0.06472612420039303.\u001b[0m\n",
            "\u001b[32m[I 2022-12-28 13:56:08,896]\u001b[0m Trial 98 finished with value: 0.9426029604859394 and parameters: {'x': 0.19614228095324404, 'y': 4.501043930782762}. Best is trial 19 with value: 0.06472612420039303.\u001b[0m\n",
            "\u001b[32m[I 2022-12-28 13:56:08,913]\u001b[0m Trial 99 finished with value: 0.6450959092226224 and parameters: {'x': -14.66898326469638, 'y': 21.42342100454072}. Best is trial 19 with value: 0.06472612420039303.\u001b[0m\n",
            "\u001b[32m[I 2022-12-28 13:56:08,915]\u001b[0m A new study created in memory with name: no-name-5bdd0ed6-e66e-4eeb-97b0-2c96e8fbbb16\u001b[0m\n",
            "\u001b[32m[I 2022-12-28 13:56:08,919]\u001b[0m Trial 0 finished with value: 0.6241868555736125 and parameters: {'x': -16.44257736960448, 'y': -3.483557418864719}. Best is trial 0 with value: 0.6241868555736125.\u001b[0m\n",
            "\u001b[32m[I 2022-12-28 13:56:08,922]\u001b[0m Trial 1 finished with value: 0.5306010190570943 and parameters: {'x': -9.521758579413287, 'y': -0.6357331873236882}. Best is trial 1 with value: 0.5306010190570943.\u001b[0m\n",
            "\u001b[32m[I 2022-12-28 13:56:08,928]\u001b[0m Trial 2 finished with value: 0.4841892534096958 and parameters: {'x': -50.58007363816155, 'y': 4.97544495496984}. Best is trial 2 with value: 0.4841892534096958.\u001b[0m\n",
            "\u001b[32m[I 2022-12-28 13:56:08,930]\u001b[0m Trial 3 finished with value: 0.5076365370729237 and parameters: {'x': -81.98651066618625, 'y': 1.3065824597950604}. Best is trial 2 with value: 0.4841892534096958.\u001b[0m\n",
            "\u001b[32m[I 2022-12-28 13:56:08,932]\u001b[0m Trial 4 finished with value: 0.5108530624710498 and parameters: {'x': 50.111788485348086, 'y': -3.5943037050477358}. Best is trial 2 with value: 0.4841892534096958.\u001b[0m\n",
            "\u001b[32m[I 2022-12-28 13:56:08,937]\u001b[0m Trial 5 finished with value: 0.49839070846944267 and parameters: {'x': -89.54954865182876, 'y': -4.993283850123177}. Best is trial 2 with value: 0.4841892534096958.\u001b[0m\n",
            "\u001b[32m[I 2022-12-28 13:56:08,940]\u001b[0m Trial 6 finished with value: 0.4976482387549701 and parameters: {'x': 90.31614073433894, 'y': 0.11982914020773983}. Best is trial 2 with value: 0.4841892534096958.\u001b[0m\n",
            "\u001b[32m[I 2022-12-28 13:56:08,951]\u001b[0m Trial 7 finished with value: 0.3470343251999586 and parameters: {'x': 0.26312854469830427, 'y': -4.12542308782835}. Best is trial 7 with value: 0.3470343251999586.\u001b[0m\n",
            "\u001b[32m[I 2022-12-28 13:56:08,956]\u001b[0m Trial 8 finished with value: 0.49793652433405977 and parameters: {'x': 95.01606568718756, 'y': 3.182611127029361}. Best is trial 7 with value: 0.3470343251999586.\u001b[0m\n",
            "\u001b[32m[I 2022-12-28 13:56:08,959]\u001b[0m Trial 9 finished with value: 0.4174578526554215 and parameters: {'x': -17.88959692985091, 'y': -1.9842448209639474}. Best is trial 7 with value: 0.3470343251999586.\u001b[0m\n",
            "\u001b[32m[I 2022-12-28 13:56:08,973]\u001b[0m Trial 10 finished with value: 0.5587066130153027 and parameters: {'x': 32.103855364618674, 'y': -1.6720794778387864}. Best is trial 7 with value: 0.3470343251999586.\u001b[0m\n",
            "\u001b[32m[I 2022-12-28 13:56:08,991]\u001b[0m Trial 11 finished with value: 0.5192657866086695 and parameters: {'x': -40.190265953154665, 'y': -2.460199963486542}. Best is trial 7 with value: 0.3470343251999586.\u001b[0m\n",
            "\u001b[32m[I 2022-12-28 13:56:09,008]\u001b[0m Trial 12 finished with value: 0.6041298165843025 and parameters: {'x': 23.875794434649684, 'y': -4.893635724495403}. Best is trial 7 with value: 0.3470343251999586.\u001b[0m\n",
            "\u001b[32m[I 2022-12-28 13:56:09,025]\u001b[0m Trial 13 finished with value: 0.49066586107481747 and parameters: {'x': -40.37468248774681, 'y': -2.212432366600373}. Best is trial 7 with value: 0.3470343251999586.\u001b[0m\n",
            "\u001b[32m[I 2022-12-28 13:56:09,041]\u001b[0m Trial 14 finished with value: 0.36730707449905664 and parameters: {'x': 13.14295784210739, 'y': -3.3414089088206613}. Best is trial 7 with value: 0.3470343251999586.\u001b[0m\n",
            "\u001b[32m[I 2022-12-28 13:56:09,057]\u001b[0m Trial 15 finished with value: 0.40997252789558586 and parameters: {'x': 18.80482758604438, 'y': -3.53037177983607}. Best is trial 7 with value: 0.3470343251999586.\u001b[0m\n",
            "\u001b[32m[I 2022-12-28 13:56:09,070]\u001b[0m Trial 16 finished with value: 0.5324985839069434 and parameters: {'x': 48.21202966618647, 'y': -0.12696777580686103}. Best is trial 7 with value: 0.3470343251999586.\u001b[0m\n",
            "\u001b[32m[I 2022-12-28 13:56:09,082]\u001b[0m Trial 17 finished with value: 0.4961498639643918 and parameters: {'x': 68.73448109844786, 'y': 1.2101789446537792}. Best is trial 7 with value: 0.3470343251999586.\u001b[0m\n",
            "\u001b[32m[I 2022-12-28 13:56:09,098]\u001b[0m Trial 18 finished with value: 0.5025641345909004 and parameters: {'x': 7.6619059788342545, 'y': -3.9523510027883972}. Best is trial 7 with value: 0.3470343251999586.\u001b[0m\n",
            "\u001b[32m[I 2022-12-28 13:56:09,114]\u001b[0m Trial 19 finished with value: 0.5067909337258799 and parameters: {'x': -66.166286753317, 'y': -1.0563873619768192}. Best is trial 7 with value: 0.3470343251999586.\u001b[0m\n",
            "\u001b[32m[I 2022-12-28 13:56:09,127]\u001b[0m Trial 20 finished with value: 0.8017783928435469 and parameters: {'x': -3.3022392580938176, 'y': -2.8681335255784983}. Best is trial 7 with value: 0.3470343251999586.\u001b[0m\n",
            "\u001b[32m[I 2022-12-28 13:56:09,146]\u001b[0m Trial 21 finished with value: 0.36093574425254726 and parameters: {'x': 13.469155843375638, 'y': -4.444527262168269}. Best is trial 7 with value: 0.3470343251999586.\u001b[0m\n",
            "\u001b[32m[I 2022-12-28 13:56:09,162]\u001b[0m Trial 22 finished with value: 0.5331879975342475 and parameters: {'x': 36.19656744225116, 'y': -4.2838958173904125}. Best is trial 7 with value: 0.3470343251999586.\u001b[0m\n",
            "\u001b[32m[I 2022-12-28 13:56:09,177]\u001b[0m Trial 23 finished with value: 0.36270891273118944 and parameters: {'x': 11.125204111147626, 'y': -2.9728980331470627}. Best is trial 7 with value: 0.3470343251999586.\u001b[0m\n",
            "\u001b[32m[I 2022-12-28 13:56:09,192]\u001b[0m Trial 24 finished with value: 0.5555770987813642 and parameters: {'x': -27.819299332857504, 'y': -4.391396978734676}. Best is trial 7 with value: 0.3470343251999586.\u001b[0m\n",
            "\u001b[32m[I 2022-12-28 13:56:09,207]\u001b[0m Trial 25 finished with value: 0.2953617649599783 and parameters: {'x': 0.4949196573261663, 'y': -2.8451391143366047}. Best is trial 25 with value: 0.2953617649599783.\u001b[0m\n",
            "\u001b[32m[I 2022-12-28 13:56:09,219]\u001b[0m Trial 26 finished with value: 0.4966205288952661 and parameters: {'x': 63.49009338434596, 'y': -4.939801314748899}. Best is trial 25 with value: 0.2953617649599783.\u001b[0m\n",
            "\u001b[32m[I 2022-12-28 13:56:09,232]\u001b[0m Trial 27 finished with value: 0.48924097915491743 and parameters: {'x': 3.4839380154916393, 'y': -1.338517118225996}. Best is trial 25 with value: 0.2953617649599783.\u001b[0m\n",
            "\u001b[32m[I 2022-12-28 13:56:09,247]\u001b[0m Trial 28 finished with value: 0.4179605864642526 and parameters: {'x': -23.117922150329896, 'y': -4.2186928162572}. Best is trial 25 with value: 0.2953617649599783.\u001b[0m\n",
            "\u001b[32m[I 2022-12-28 13:56:09,262]\u001b[0m Trial 29 finished with value: 0.8800895706048172 and parameters: {'x': -6.556635075654111, 'y': -2.953300322481553}. Best is trial 25 with value: 0.2953617649599783.\u001b[0m\n",
            "\u001b[32m[I 2022-12-28 13:56:09,277]\u001b[0m Trial 30 finished with value: 0.5533666510481157 and parameters: {'x': 41.839250873539385, 'y': -2.5732340483668388}. Best is trial 25 with value: 0.2953617649599783.\u001b[0m\n",
            "\u001b[32m[I 2022-12-28 13:56:09,290]\u001b[0m Trial 31 finished with value: 0.6826394057971737 and parameters: {'x': 23.868914498313117, 'y': -3.210693300319137}. Best is trial 25 with value: 0.2953617649599783.\u001b[0m\n",
            "\u001b[32m[I 2022-12-28 13:56:09,302]\u001b[0m Trial 32 finished with value: 0.9510893622594883 and parameters: {'x': 5.566718033289025, 'y': -3.9190343215280175}. Best is trial 25 with value: 0.2953617649599783.\u001b[0m\n",
            "\u001b[32m[I 2022-12-28 13:56:09,314]\u001b[0m Trial 33 finished with value: 0.33246659865298883 and parameters: {'x': -6.0321011452136055, 'y': -0.7105458347599338}. Best is trial 25 with value: 0.2953617649599783.\u001b[0m\n",
            "\u001b[32m[I 2022-12-28 13:56:09,327]\u001b[0m Trial 34 finished with value: 0.6790065698576563 and parameters: {'x': -12.474222927810931, 'y': 1.050209632315033}. Best is trial 25 with value: 0.2953617649599783.\u001b[0m\n",
            "\u001b[32m[I 2022-12-28 13:56:09,339]\u001b[0m Trial 35 finished with value: 0.49935176144639004 and parameters: {'x': -31.576462516122284, 'y': -0.5297033563979148}. Best is trial 25 with value: 0.2953617649599783.\u001b[0m\n",
            "\u001b[32m[I 2022-12-28 13:56:09,356]\u001b[0m Trial 36 finished with value: 0.4933804444491337 and parameters: {'x': -56.7902938410127, 'y': 2.477197012082027}. Best is trial 25 with value: 0.2953617649599783.\u001b[0m\n",
            "\u001b[32m[I 2022-12-28 13:56:09,371]\u001b[0m Trial 37 finished with value: 0.3671467926841029 and parameters: {'x': -8.798497200459906, 'y': 0.3207579682319852}. Best is trial 25 with value: 0.2953617649599783.\u001b[0m\n",
            "\u001b[32m[I 2022-12-28 13:56:09,384]\u001b[0m Trial 38 finished with value: 0.6705728559804712 and parameters: {'x': 25.622619784153464, 'y': 4.666495073979372}. Best is trial 25 with value: 0.2953617649599783.\u001b[0m\n",
            "\u001b[32m[I 2022-12-28 13:56:09,398]\u001b[0m Trial 39 finished with value: 0.34774359472240657 and parameters: {'x': -1.0255372761152985, 'y': -1.7223716218649068}. Best is trial 25 with value: 0.2953617649599783.\u001b[0m\n",
            "\u001b[32m[I 2022-12-28 13:56:09,411]\u001b[0m Trial 40 finished with value: 0.4685643076307463 and parameters: {'x': -16.865937016898606, 'y': -1.6460021193524197}. Best is trial 25 with value: 0.2953617649599783.\u001b[0m\n",
            "\u001b[32m[I 2022-12-28 13:56:09,425]\u001b[0m Trial 41 finished with value: 0.7482184454272683 and parameters: {'x': -0.2857675846291532, 'y': -0.796658318143408}. Best is trial 25 with value: 0.2953617649599783.\u001b[0m\n",
            "\u001b[32m[I 2022-12-28 13:56:09,440]\u001b[0m Trial 42 finished with value: 0.7686994933673488 and parameters: {'x': 14.74720206664421, 'y': -1.8775337769085811}. Best is trial 25 with value: 0.2953617649599783.\u001b[0m\n",
            "\u001b[32m[I 2022-12-28 13:56:09,453]\u001b[0m Trial 43 finished with value: 0.5271536619568719 and parameters: {'x': -34.66514485196458, 'y': -3.6663276536609986}. Best is trial 25 with value: 0.2953617649599783.\u001b[0m\n",
            "\u001b[32m[I 2022-12-28 13:56:09,467]\u001b[0m Trial 44 finished with value: 0.8446138663161151 and parameters: {'x': -12.508749261643095, 'y': -2.341752084825453}. Best is trial 25 with value: 0.2953617649599783.\u001b[0m\n",
            "\u001b[32m[I 2022-12-28 13:56:09,483]\u001b[0m Trial 45 finished with value: 0.30529937612330105 and parameters: {'x': -0.20998702668217256, 'y': -4.511771457541048}. Best is trial 25 with value: 0.2953617649599783.\u001b[0m\n",
            "\u001b[32m[I 2022-12-28 13:56:09,500]\u001b[0m Trial 46 finished with value: 0.508348674456705 and parameters: {'x': -50.20651588139506, 'y': -1.3733610314939062}. Best is trial 25 with value: 0.2953617649599783.\u001b[0m\n",
            "\u001b[32m[I 2022-12-28 13:56:09,521]\u001b[0m Trial 47 finished with value: 0.5735265857810665 and parameters: {'x': -1.036799465291618, 'y': 0.5324116800470635}. Best is trial 25 with value: 0.2953617649599783.\u001b[0m\n",
            "\u001b[32m[I 2022-12-28 13:56:09,535]\u001b[0m Trial 48 finished with value: 0.6756103719909248 and parameters: {'x': -22.976468770124985, 'y': -2.5916656578843926}. Best is trial 25 with value: 0.2953617649599783.\u001b[0m\n",
            "\u001b[32m[I 2022-12-28 13:56:09,550]\u001b[0m Trial 49 finished with value: 0.47669231896326403 and parameters: {'x': -44.324283755792365, 'y': -4.641605942583574}. Best is trial 25 with value: 0.2953617649599783.\u001b[0m\n",
            "\u001b[32m[I 2022-12-28 13:56:09,573]\u001b[0m Trial 50 finished with value: 0.5866372798628097 and parameters: {'x': 34.419478238335124, 'y': -0.13016267266664738}. Best is trial 25 with value: 0.2953617649599783.\u001b[0m\n",
            "\u001b[32m[I 2022-12-28 13:56:09,588]\u001b[0m Trial 51 finished with value: 0.6361874301176593 and parameters: {'x': 20.800643429727153, 'y': -3.916284810881736}. Best is trial 25 with value: 0.2953617649599783.\u001b[0m\n",
            "\u001b[32m[I 2022-12-28 13:56:09,603]\u001b[0m Trial 52 finished with value: 0.9059074506057202 and parameters: {'x': 7.634120902297266, 'y': -4.5549716306146335}. Best is trial 25 with value: 0.2953617649599783.\u001b[0m\n",
            "\u001b[32m[I 2022-12-28 13:56:09,618]\u001b[0m Trial 53 finished with value: 0.7575166553264655 and parameters: {'x': -18.91610363535186, 'y': -3.480484398722194}. Best is trial 25 with value: 0.2953617649599783.\u001b[0m\n",
            "\u001b[32m[I 2022-12-28 13:56:09,632]\u001b[0m Trial 54 finished with value: 0.6461506843458843 and parameters: {'x': 14.021660333716213, 'y': -3.8721297220817332}. Best is trial 25 with value: 0.2953617649599783.\u001b[0m\n",
            "\u001b[32m[I 2022-12-28 13:56:09,645]\u001b[0m Trial 55 finished with value: 0.32872905486352655 and parameters: {'x': -4.871300554449512, 'y': -3.134736698789207}. Best is trial 25 with value: 0.2953617649599783.\u001b[0m\n",
            "\u001b[32m[I 2022-12-28 13:56:09,660]\u001b[0m Trial 56 finished with value: 0.32114257840504457 and parameters: {'x': -5.5696970990178, 'y': -2.0318487240638863}. Best is trial 25 with value: 0.2953617649599783.\u001b[0m\n",
            "\u001b[32m[I 2022-12-28 13:56:09,678]\u001b[0m Trial 57 finished with value: 0.33815241906905225 and parameters: {'x': -4.948755974040797, 'y': -2.086312470346672}. Best is trial 25 with value: 0.2953617649599783.\u001b[0m\n",
            "\u001b[32m[I 2022-12-28 13:56:09,689]\u001b[0m Trial 58 finished with value: 0.6981493662838246 and parameters: {'x': -9.457490846439482, 'y': -2.277980055151725}. Best is trial 25 with value: 0.2953617649599783.\u001b[0m\n",
            "\u001b[32m[I 2022-12-28 13:56:09,700]\u001b[0m Trial 59 finished with value: 0.4980257224058373 and parameters: {'x': -96.05300693799423, 'y': -0.9757889948163601}. Best is trial 25 with value: 0.2953617649599783.\u001b[0m\n",
            "\u001b[32m[I 2022-12-28 13:56:09,715]\u001b[0m Trial 60 finished with value: 0.5277767033901413 and parameters: {'x': -22.336426707396484, 'y': -0.4588966996870101}. Best is trial 25 with value: 0.2953617649599783.\u001b[0m\n",
            "\u001b[32m[I 2022-12-28 13:56:09,726]\u001b[0m Trial 61 finished with value: 0.6431266703886245 and parameters: {'x': -4.575755358021746, 'y': -3.2909680311182403}. Best is trial 25 with value: 0.2953617649599783.\u001b[0m\n",
            "\u001b[32m[I 2022-12-28 13:56:09,739]\u001b[0m Trial 62 finished with value: 0.8257476943469746 and parameters: {'x': -13.835529999762695, 'y': -3.00547160230836}. Best is trial 25 with value: 0.2953617649599783.\u001b[0m\n",
            "\u001b[32m[I 2022-12-28 13:56:09,755]\u001b[0m Trial 63 finished with value: 0.4728963135935951 and parameters: {'x': 7.223464760649019, 'y': -2.6910909026085066}. Best is trial 25 with value: 0.2953617649599783.\u001b[0m\n",
            "\u001b[32m[I 2022-12-28 13:56:09,768]\u001b[0m Trial 64 finished with value: 0.6436254066147541 and parameters: {'x': 29.204707101449124, 'y': -2.1490087280498504}. Best is trial 25 with value: 0.2953617649599783.\u001b[0m\n",
            "\u001b[32m[I 2022-12-28 13:56:09,781]\u001b[0m Trial 65 finished with value: 0.6052251423282266 and parameters: {'x': -30.21001590804014, 'y': -1.3911420274866082}. Best is trial 25 with value: 0.2953617649599783.\u001b[0m\n",
            "\u001b[32m[I 2022-12-28 13:56:09,794]\u001b[0m Trial 66 finished with value: 0.7509960032318237 and parameters: {'x': 2.0768353610218035, 'y': -3.6332298228052267}. Best is trial 25 with value: 0.2953617649599783.\u001b[0m\n",
            "\u001b[32m[I 2022-12-28 13:56:09,808]\u001b[0m Trial 67 finished with value: 0.38458180950423165 and parameters: {'x': 18.228539822139535, 'y': -3.202602941150237}. Best is trial 25 with value: 0.2953617649599783.\u001b[0m\n",
            "\u001b[32m[I 2022-12-28 13:56:09,820]\u001b[0m Trial 68 finished with value: 0.5631336782370147 and parameters: {'x': -38.540686653525746, 'y': -4.233857963301745}. Best is trial 25 with value: 0.2953617649599783.\u001b[0m\n",
            "\u001b[32m[I 2022-12-28 13:56:09,840]\u001b[0m Trial 69 finished with value: 0.367567353963056 and parameters: {'x': -4.645780026749975, 'y': -1.9796012070908913}. Best is trial 25 with value: 0.2953617649599783.\u001b[0m\n",
            "\u001b[32m[I 2022-12-28 13:56:09,854]\u001b[0m Trial 70 finished with value: 0.4953586525168536 and parameters: {'x': -74.6023746814599, 'y': -4.6960823669537985}. Best is trial 25 with value: 0.2953617649599783.\u001b[0m\n",
            "\u001b[32m[I 2022-12-28 13:56:09,867]\u001b[0m Trial 71 finished with value: 0.33039025689508705 and parameters: {'x': 1.0688677406259122, 'y': -1.5583728575780582}. Best is trial 25 with value: 0.2953617649599783.\u001b[0m\n",
            "\u001b[32m[I 2022-12-28 13:56:09,886]\u001b[0m Trial 72 finished with value: 0.5516604037255687 and parameters: {'x': 8.831676813754456, 'y': -2.8413805865612236}. Best is trial 25 with value: 0.2953617649599783.\u001b[0m\n",
            "\u001b[32m[I 2022-12-28 13:56:09,899]\u001b[0m Trial 73 finished with value: 0.32975930971900036 and parameters: {'x': -7.4752385393514125, 'y': -1.0483790268548203}. Best is trial 25 with value: 0.2953617649599783.\u001b[0m\n",
            "\u001b[32m[I 2022-12-28 13:56:09,912]\u001b[0m Trial 74 finished with value: 0.3887279619286915 and parameters: {'x': -17.44300827275155, 'y': -1.1382173865252343}. Best is trial 25 with value: 0.2953617649599783.\u001b[0m\n",
            "\u001b[32m[I 2022-12-28 13:56:09,925]\u001b[0m Trial 75 finished with value: 0.6495009156866915 and parameters: {'x': 3.348527849288367, 'y': -1.5711309273871907}. Best is trial 25 with value: 0.2953617649599783.\u001b[0m\n",
            "\u001b[32m[I 2022-12-28 13:56:09,938]\u001b[0m Trial 76 finished with value: 0.7076275398606011 and parameters: {'x': -6.624531293770751, 'y': -0.6963727036999047}. Best is trial 25 with value: 0.2953617649599783.\u001b[0m\n",
            "\u001b[32m[I 2022-12-28 13:56:09,950]\u001b[0m Trial 77 finished with value: 0.6615407102527899 and parameters: {'x': -26.996522857383344, 'y': -0.3072637923874805}. Best is trial 25 with value: 0.2953617649599783.\u001b[0m\n",
            "\u001b[32m[I 2022-12-28 13:56:09,964]\u001b[0m Trial 78 finished with value: 0.5334322431380109 and parameters: {'x': -11.435300849214391, 'y': -2.065415639806045}. Best is trial 25 with value: 0.2953617649599783.\u001b[0m\n",
            "\u001b[32m[I 2022-12-28 13:56:09,979]\u001b[0m Trial 79 finished with value: 0.5148293790317798 and parameters: {'x': 15.052725055677005, 'y': -1.1215412174586872}. Best is trial 25 with value: 0.2953617649599783.\u001b[0m\n",
            "\u001b[32m[I 2022-12-28 13:56:09,993]\u001b[0m Trial 80 finished with value: 0.987697362556456 and parameters: {'x': 2.527304917203966, 'y': -1.8162404021145475}. Best is trial 25 with value: 0.2953617649599783.\u001b[0m\n",
            "\u001b[32m[I 2022-12-28 13:56:10,006]\u001b[0m Trial 81 finished with value: 0.29655658235859617 and parameters: {'x': -2.012826409879531, 'y': -2.36289852962606}. Best is trial 25 with value: 0.2953617649599783.\u001b[0m\n",
            "\u001b[32m[I 2022-12-28 13:56:10,023]\u001b[0m Trial 82 finished with value: 0.593929082510478 and parameters: {'x': -7.140922171865077, 'y': -2.5026447571637966}. Best is trial 25 with value: 0.2953617649599783.\u001b[0m\n",
            "\u001b[32m[I 2022-12-28 13:56:10,038]\u001b[0m Trial 83 finished with value: 0.660696563056651 and parameters: {'x': -19.961930882627197, 'y': -1.4756806089855157}. Best is trial 25 with value: 0.2953617649599783.\u001b[0m\n",
            "\u001b[32m[I 2022-12-28 13:56:10,050]\u001b[0m Trial 84 finished with value: 0.34688764043948733 and parameters: {'x': -1.6561193638739233, 'y': -0.9111329289296926}. Best is trial 25 with value: 0.2953617649599783.\u001b[0m\n",
            "\u001b[32m[I 2022-12-28 13:56:10,063]\u001b[0m Trial 85 finished with value: 0.6229731088021488 and parameters: {'x': -14.962696908448986, 'y': -1.2116427236052638}. Best is trial 25 with value: 0.2953617649599783.\u001b[0m\n",
            "\u001b[32m[I 2022-12-28 13:56:10,085]\u001b[0m Trial 86 finished with value: 0.33553521864755176 and parameters: {'x': 10.94067440510054, 'y': -2.2443168296651486}. Best is trial 25 with value: 0.2953617649599783.\u001b[0m\n",
            "\u001b[32m[I 2022-12-28 13:56:10,099]\u001b[0m Trial 87 finished with value: 0.43186612667761404 and parameters: {'x': 10.75515788713666, 'y': -2.792911187468564}. Best is trial 25 with value: 0.2953617649599783.\u001b[0m\n",
            "\u001b[32m[I 2022-12-28 13:56:10,112]\u001b[0m Trial 88 finished with value: 0.663509204797583 and parameters: {'x': 21.31302385816806, 'y': -2.3256669289959744}. Best is trial 25 with value: 0.2953617649599783.\u001b[0m\n",
            "\u001b[32m[I 2022-12-28 13:56:10,127]\u001b[0m Trial 89 finished with value: 0.6123756465842615 and parameters: {'x': 6.21075804585942, 'y': -3.0947532457763893}. Best is trial 25 with value: 0.2953617649599783.\u001b[0m\n",
            "\u001b[32m[I 2022-12-28 13:56:10,140]\u001b[0m Trial 90 finished with value: 0.43639230123971623 and parameters: {'x': 27.938445750333262, 'y': -1.7676201528045816}. Best is trial 25 with value: 0.2953617649599783.\u001b[0m\n",
            "\u001b[32m[I 2022-12-28 13:56:10,153]\u001b[0m Trial 91 finished with value: 0.4142789392532094 and parameters: {'x': -3.0068996908581687, 'y': -1.954794068942506}. Best is trial 25 with value: 0.2953617649599783.\u001b[0m\n",
            "\u001b[32m[I 2022-12-28 13:56:10,169]\u001b[0m Trial 92 finished with value: 0.4487953602001064 and parameters: {'x': -10.887119241820786, 'y': -2.539437959840563}. Best is trial 25 with value: 0.2953617649599783.\u001b[0m\n",
            "\u001b[32m[I 2022-12-28 13:56:10,187]\u001b[0m Trial 93 finished with value: 0.9833393497323261 and parameters: {'x': 2.7971655289119344, 'y': -2.1792655116049744}. Best is trial 25 with value: 0.2953617649599783.\u001b[0m\n",
            "\u001b[32m[I 2022-12-28 13:56:10,201]\u001b[0m Trial 94 finished with value: 0.8239536300855363 and parameters: {'x': 11.333489436879878, 'y': -1.57565761927223}. Best is trial 25 with value: 0.2953617649599783.\u001b[0m\n",
            "\u001b[32m[I 2022-12-28 13:56:10,220]\u001b[0m Trial 95 finished with value: 0.4834290858251438 and parameters: {'x': -25.297284182893385, 'y': 0.21642756043476874}. Best is trial 25 with value: 0.2953617649599783.\u001b[0m\n",
            "\u001b[32m[I 2022-12-28 13:56:10,234]\u001b[0m Trial 96 finished with value: 0.5409578185109084 and parameters: {'x': 16.62187464560159, 'y': -0.7925184168585357}. Best is trial 25 with value: 0.2953617649599783.\u001b[0m\n",
            "\u001b[32m[I 2022-12-28 13:56:10,252]\u001b[0m Trial 97 finished with value: 0.9349275061602768 and parameters: {'x': -6.5762242723203395, 'y': -3.457871469015452}. Best is trial 25 with value: 0.2953617649599783.\u001b[0m\n",
            "\u001b[32m[I 2022-12-28 13:56:10,270]\u001b[0m Trial 98 finished with value: 0.3899497500539921 and parameters: {'x': -14.96131946755111, 'y': -2.408613623746624}. Best is trial 25 with value: 0.2953617649599783.\u001b[0m\n",
            "\u001b[32m[I 2022-12-28 13:56:10,283]\u001b[0m Trial 99 finished with value: 0.8948272372362653 and parameters: {'x': -0.15530302007649277, 'y': 0.6001582263431713}. Best is trial 25 with value: 0.2953617649599783.\u001b[0m\n"
          ]
        }
      ],
      "source": [
        "study_Sh2 = optuna.create_study()\n",
        "study_Sh2.optimize(objective_Sh2, n_trials=100)\n",
        "\n",
        "study_Sh4 = optuna.create_study()\n",
        "study_Sh4.optimize(objective_Sh4, n_trials=100)"
      ]
    },
    {
      "cell_type": "markdown",
      "metadata": {
        "id": "kkJ28ZYxCRSY"
      },
      "source": [
        "Выводим результат"
      ]
    },
    {
      "cell_type": "code",
      "execution_count": null,
      "metadata": {
        "colab": {
          "base_uri": "https://localhost:8080/"
        },
        "id": "6xxUwnX2ALHx",
        "outputId": "8076e819-69de-455c-d92b-3987870588aa"
      },
      "outputs": [
        {
          "name": "stdout",
          "output_type": "stream",
          "text": [
            "Функция Гольдшейна-Прайса:\n",
            "x: -0.016585135340439733, y: -0.956219127535605, E: 3.9894198326836223\n",
            "Функция Химмельблау:\n",
            "x: -2.74501531414102, y: 3.004744729792382, E: 0.7251417697341881\n"
          ]
        }
      ],
      "source": [
        "best_params_GP = study_GP.best_params\n",
        "found_x = best_params_GP[\"x\"]\n",
        "found_y = best_params_GP[\"y\"]\n",
        "print(\"Функция Гольдшейна-Прайса:\")\n",
        "print(f\"x: {found_x}, y: {found_y}, E: {GP_E(found_x, found_y)}\")\n",
        "best_params_H = study_H.best_params\n",
        "found_x = best_params_H[\"x\"]\n",
        "found_y = best_params_H[\"y\"]\n",
        "print(\"Функция Химмельблау:\")\n",
        "print(f\"x: {found_x}, y: {found_y}, E: {H_E(found_x, found_y)}\")"
      ]
    },
    {
      "cell_type": "markdown",
      "metadata": {
        "id": "_EOewlRkDXRX"
      },
      "source": [
        "##Часть 2\n",
        "Проведем оптимизацию градиентного спуска на датасете Diabetes"
      ]
    },
    {
      "cell_type": "code",
      "execution_count": null,
      "metadata": {
        "id": "pzzr01kdDeT2"
      },
      "outputs": [],
      "source": [
        "def objective(trial):\n",
        "    BC = sklearn.datasets.load_diabetes()\n",
        "    classes = list(set(BC.target))\n",
        "    train_x, valid_x, train_y, valid_y = sklearn.model_selection.train_test_split(\n",
        "        BC.data, BC.target, test_size=0.25, random_state=0)\n",
        "    alpha = trial.suggest_float(\"alpha\", 1e-5, 1e-1, log=True)\n",
        "    clf = sklearn.linear_model.SGDClassifier(alpha=alpha)\n",
        "    for step in range(100):\n",
        "        clf.partial_fit(train_x, train_y, classes=classes)\n",
        "        intermediate_value = 1.0 - clf.score(valid_x, valid_y)\n",
        "        trial.report(intermediate_value, step)\n",
        "        if trial.should_prune():\n",
        "            raise optuna.TrialPruned()\n",
        "    return 1.0 - clf.score(valid_x, valid_y)"
      ]
    },
    {
      "cell_type": "code",
      "execution_count": null,
      "metadata": {
        "colab": {
          "base_uri": "https://localhost:8080/"
        },
        "id": "e1MSA40MFPVr",
        "outputId": "3bbb45bf-d5fc-4250-ecd5-05704b1d1ce5"
      },
      "outputs": [
        {
          "name": "stderr",
          "output_type": "stream",
          "text": [
            "\u001b[32m[I 2022-11-13 18:07:13,844]\u001b[0m A new study created in memory with name: no-name-3ae68bbf-8d38-4f38-91ae-df88fad04afc\u001b[0m\n"
          ]
        },
        {
          "name": "stdout",
          "output_type": "stream",
          "text": [
            "A new study created in memory with name: no-name-3ae68bbf-8d38-4f38-91ae-df88fad04afc\n",
            "A new study created in memory with name: no-name-3ae68bbf-8d38-4f38-91ae-df88fad04afc\n",
            "A new study created in memory with name: no-name-3ae68bbf-8d38-4f38-91ae-df88fad04afc\n",
            "A new study created in memory with name: no-name-3ae68bbf-8d38-4f38-91ae-df88fad04afc\n"
          ]
        },
        {
          "name": "stderr",
          "output_type": "stream",
          "text": [
            "\u001b[32m[I 2022-11-13 18:07:22,159]\u001b[0m Trial 0 finished with value: 1.0 and parameters: {'alpha': 0.00017496238466290127}. Best is trial 0 with value: 1.0.\u001b[0m\n"
          ]
        },
        {
          "name": "stdout",
          "output_type": "stream",
          "text": [
            "Trial 0 finished with value: 1.0 and parameters: {'alpha': 0.00017496238466290127}. Best is trial 0 with value: 1.0.\n",
            "Trial 0 finished with value: 1.0 and parameters: {'alpha': 0.00017496238466290127}. Best is trial 0 with value: 1.0.\n",
            "Trial 0 finished with value: 1.0 and parameters: {'alpha': 0.00017496238466290127}. Best is trial 0 with value: 1.0.\n",
            "Trial 0 finished with value: 1.0 and parameters: {'alpha': 0.00017496238466290127}. Best is trial 0 with value: 1.0.\n"
          ]
        },
        {
          "name": "stderr",
          "output_type": "stream",
          "text": [
            "\u001b[32m[I 2022-11-13 18:07:30,369]\u001b[0m Trial 1 finished with value: 1.0 and parameters: {'alpha': 0.0016142203351917478}. Best is trial 0 with value: 1.0.\u001b[0m\n"
          ]
        },
        {
          "name": "stdout",
          "output_type": "stream",
          "text": [
            "Trial 1 finished with value: 1.0 and parameters: {'alpha': 0.0016142203351917478}. Best is trial 0 with value: 1.0.\n",
            "Trial 1 finished with value: 1.0 and parameters: {'alpha': 0.0016142203351917478}. Best is trial 0 with value: 1.0.\n",
            "Trial 1 finished with value: 1.0 and parameters: {'alpha': 0.0016142203351917478}. Best is trial 0 with value: 1.0.\n",
            "Trial 1 finished with value: 1.0 and parameters: {'alpha': 0.0016142203351917478}. Best is trial 0 with value: 1.0.\n"
          ]
        },
        {
          "name": "stderr",
          "output_type": "stream",
          "text": [
            "\u001b[32m[I 2022-11-13 18:07:38,615]\u001b[0m Trial 2 finished with value: 0.990990990990991 and parameters: {'alpha': 1.4483832834261326e-05}. Best is trial 2 with value: 0.990990990990991.\u001b[0m\n"
          ]
        },
        {
          "name": "stdout",
          "output_type": "stream",
          "text": [
            "Trial 2 finished with value: 0.990990990990991 and parameters: {'alpha': 1.4483832834261326e-05}. Best is trial 2 with value: 0.990990990990991.\n",
            "Trial 2 finished with value: 0.990990990990991 and parameters: {'alpha': 1.4483832834261326e-05}. Best is trial 2 with value: 0.990990990990991.\n",
            "Trial 2 finished with value: 0.990990990990991 and parameters: {'alpha': 1.4483832834261326e-05}. Best is trial 2 with value: 0.990990990990991.\n",
            "Trial 2 finished with value: 0.990990990990991 and parameters: {'alpha': 1.4483832834261326e-05}. Best is trial 2 with value: 0.990990990990991.\n"
          ]
        },
        {
          "name": "stderr",
          "output_type": "stream",
          "text": [
            "\u001b[32m[I 2022-11-13 18:07:46,817]\u001b[0m Trial 3 finished with value: 0.990990990990991 and parameters: {'alpha': 0.03955128688733634}. Best is trial 2 with value: 0.990990990990991.\u001b[0m\n"
          ]
        },
        {
          "name": "stdout",
          "output_type": "stream",
          "text": [
            "Trial 3 finished with value: 0.990990990990991 and parameters: {'alpha': 0.03955128688733634}. Best is trial 2 with value: 0.990990990990991.\n",
            "Trial 3 finished with value: 0.990990990990991 and parameters: {'alpha': 0.03955128688733634}. Best is trial 2 with value: 0.990990990990991.\n",
            "Trial 3 finished with value: 0.990990990990991 and parameters: {'alpha': 0.03955128688733634}. Best is trial 2 with value: 0.990990990990991.\n",
            "Trial 3 finished with value: 0.990990990990991 and parameters: {'alpha': 0.03955128688733634}. Best is trial 2 with value: 0.990990990990991.\n"
          ]
        },
        {
          "name": "stderr",
          "output_type": "stream",
          "text": [
            "\u001b[32m[I 2022-11-13 18:07:55,934]\u001b[0m Trial 4 finished with value: 0.990990990990991 and parameters: {'alpha': 2.3484371132479736e-05}. Best is trial 2 with value: 0.990990990990991.\u001b[0m\n"
          ]
        },
        {
          "name": "stdout",
          "output_type": "stream",
          "text": [
            "Trial 4 finished with value: 0.990990990990991 and parameters: {'alpha': 2.3484371132479736e-05}. Best is trial 2 with value: 0.990990990990991.\n",
            "Trial 4 finished with value: 0.990990990990991 and parameters: {'alpha': 2.3484371132479736e-05}. Best is trial 2 with value: 0.990990990990991.\n",
            "Trial 4 finished with value: 0.990990990990991 and parameters: {'alpha': 2.3484371132479736e-05}. Best is trial 2 with value: 0.990990990990991.\n",
            "Trial 4 finished with value: 0.990990990990991 and parameters: {'alpha': 2.3484371132479736e-05}. Best is trial 2 with value: 0.990990990990991.\n"
          ]
        },
        {
          "name": "stderr",
          "output_type": "stream",
          "text": [
            "\u001b[32m[I 2022-11-13 18:07:57,437]\u001b[0m Trial 5 pruned. \u001b[0m\n"
          ]
        },
        {
          "name": "stdout",
          "output_type": "stream",
          "text": [
            "Trial 5 pruned. \n",
            "Trial 5 pruned. \n",
            "Trial 5 pruned. \n",
            "Trial 5 pruned. \n"
          ]
        },
        {
          "name": "stderr",
          "output_type": "stream",
          "text": [
            "\u001b[32m[I 2022-11-13 18:07:57,634]\u001b[0m Trial 6 pruned. \u001b[0m\n"
          ]
        },
        {
          "name": "stdout",
          "output_type": "stream",
          "text": [
            "Trial 6 pruned. \n",
            "Trial 6 pruned. \n",
            "Trial 6 pruned. \n",
            "Trial 6 pruned. \n"
          ]
        },
        {
          "name": "stderr",
          "output_type": "stream",
          "text": [
            "\u001b[32m[I 2022-11-13 18:07:59,147]\u001b[0m Trial 7 pruned. \u001b[0m\n"
          ]
        },
        {
          "name": "stdout",
          "output_type": "stream",
          "text": [
            "Trial 7 pruned. \n",
            "Trial 7 pruned. \n",
            "Trial 7 pruned. \n",
            "Trial 7 pruned. \n"
          ]
        },
        {
          "name": "stderr",
          "output_type": "stream",
          "text": [
            "\u001b[32m[I 2022-11-13 18:08:07,393]\u001b[0m Trial 8 finished with value: 1.0 and parameters: {'alpha': 0.0001706053184721144}. Best is trial 2 with value: 0.990990990990991.\u001b[0m\n"
          ]
        },
        {
          "name": "stdout",
          "output_type": "stream",
          "text": [
            "Trial 8 finished with value: 1.0 and parameters: {'alpha': 0.0001706053184721144}. Best is trial 2 with value: 0.990990990990991.\n",
            "Trial 8 finished with value: 1.0 and parameters: {'alpha': 0.0001706053184721144}. Best is trial 2 with value: 0.990990990990991.\n",
            "Trial 8 finished with value: 1.0 and parameters: {'alpha': 0.0001706053184721144}. Best is trial 2 with value: 0.990990990990991.\n",
            "Trial 8 finished with value: 1.0 and parameters: {'alpha': 0.0001706053184721144}. Best is trial 2 with value: 0.990990990990991.\n"
          ]
        },
        {
          "name": "stderr",
          "output_type": "stream",
          "text": [
            "\u001b[32m[I 2022-11-13 18:08:08,896]\u001b[0m Trial 9 pruned. \u001b[0m\n"
          ]
        },
        {
          "name": "stdout",
          "output_type": "stream",
          "text": [
            "Trial 9 pruned. \n",
            "Trial 9 pruned. \n",
            "Trial 9 pruned. \n",
            "Trial 9 pruned. \n"
          ]
        },
        {
          "name": "stderr",
          "output_type": "stream",
          "text": [
            "\u001b[32m[I 2022-11-13 18:08:09,097]\u001b[0m Trial 10 pruned. \u001b[0m\n"
          ]
        },
        {
          "name": "stdout",
          "output_type": "stream",
          "text": [
            "Trial 10 pruned. \n",
            "Trial 10 pruned. \n",
            "Trial 10 pruned. \n",
            "Trial 10 pruned. \n"
          ]
        },
        {
          "name": "stderr",
          "output_type": "stream",
          "text": [
            "\u001b[32m[I 2022-11-13 18:08:09,292]\u001b[0m Trial 11 pruned. \u001b[0m\n"
          ]
        },
        {
          "name": "stdout",
          "output_type": "stream",
          "text": [
            "Trial 11 pruned. \n",
            "Trial 11 pruned. \n",
            "Trial 11 pruned. \n",
            "Trial 11 pruned. \n"
          ]
        },
        {
          "name": "stderr",
          "output_type": "stream",
          "text": [
            "\u001b[32m[I 2022-11-13 18:08:10,795]\u001b[0m Trial 12 pruned. \u001b[0m\n"
          ]
        },
        {
          "name": "stdout",
          "output_type": "stream",
          "text": [
            "Trial 12 pruned. \n",
            "Trial 12 pruned. \n",
            "Trial 12 pruned. \n",
            "Trial 12 pruned. \n"
          ]
        },
        {
          "name": "stderr",
          "output_type": "stream",
          "text": [
            "\u001b[32m[I 2022-11-13 18:08:12,305]\u001b[0m Trial 13 pruned. \u001b[0m\n"
          ]
        },
        {
          "name": "stdout",
          "output_type": "stream",
          "text": [
            "Trial 13 pruned. \n",
            "Trial 13 pruned. \n",
            "Trial 13 pruned. \n",
            "Trial 13 pruned. \n"
          ]
        },
        {
          "name": "stderr",
          "output_type": "stream",
          "text": [
            "\u001b[32m[I 2022-11-13 18:08:20,552]\u001b[0m Trial 14 finished with value: 0.990990990990991 and parameters: {'alpha': 0.021434493469228568}. Best is trial 2 with value: 0.990990990990991.\u001b[0m\n"
          ]
        },
        {
          "name": "stdout",
          "output_type": "stream",
          "text": [
            "Trial 14 finished with value: 0.990990990990991 and parameters: {'alpha': 0.021434493469228568}. Best is trial 2 with value: 0.990990990990991.\n",
            "Trial 14 finished with value: 0.990990990990991 and parameters: {'alpha': 0.021434493469228568}. Best is trial 2 with value: 0.990990990990991.\n",
            "Trial 14 finished with value: 0.990990990990991 and parameters: {'alpha': 0.021434493469228568}. Best is trial 2 with value: 0.990990990990991.\n",
            "Trial 14 finished with value: 0.990990990990991 and parameters: {'alpha': 0.021434493469228568}. Best is trial 2 with value: 0.990990990990991.\n"
          ]
        },
        {
          "name": "stderr",
          "output_type": "stream",
          "text": [
            "\u001b[32m[I 2022-11-13 18:08:28,794]\u001b[0m Trial 15 finished with value: 1.0 and parameters: {'alpha': 0.0013700512931635281}. Best is trial 2 with value: 0.990990990990991.\u001b[0m\n"
          ]
        },
        {
          "name": "stdout",
          "output_type": "stream",
          "text": [
            "Trial 15 finished with value: 1.0 and parameters: {'alpha': 0.0013700512931635281}. Best is trial 2 with value: 0.990990990990991.\n",
            "Trial 15 finished with value: 1.0 and parameters: {'alpha': 0.0013700512931635281}. Best is trial 2 with value: 0.990990990990991.\n",
            "Trial 15 finished with value: 1.0 and parameters: {'alpha': 0.0013700512931635281}. Best is trial 2 with value: 0.990990990990991.\n",
            "Trial 15 finished with value: 1.0 and parameters: {'alpha': 0.0013700512931635281}. Best is trial 2 with value: 0.990990990990991.\n"
          ]
        },
        {
          "name": "stderr",
          "output_type": "stream",
          "text": [
            "\u001b[32m[I 2022-11-13 18:08:28,989]\u001b[0m Trial 16 pruned. \u001b[0m\n"
          ]
        },
        {
          "name": "stdout",
          "output_type": "stream",
          "text": [
            "Trial 16 pruned. \n",
            "Trial 16 pruned. \n",
            "Trial 16 pruned. \n",
            "Trial 16 pruned. \n"
          ]
        },
        {
          "name": "stderr",
          "output_type": "stream",
          "text": [
            "\u001b[32m[I 2022-11-13 18:08:37,214]\u001b[0m Trial 17 finished with value: 1.0 and parameters: {'alpha': 0.009919987407471208}. Best is trial 2 with value: 0.990990990990991.\u001b[0m\n"
          ]
        },
        {
          "name": "stdout",
          "output_type": "stream",
          "text": [
            "Trial 17 finished with value: 1.0 and parameters: {'alpha': 0.009919987407471208}. Best is trial 2 with value: 0.990990990990991.\n",
            "Trial 17 finished with value: 1.0 and parameters: {'alpha': 0.009919987407471208}. Best is trial 2 with value: 0.990990990990991.\n",
            "Trial 17 finished with value: 1.0 and parameters: {'alpha': 0.009919987407471208}. Best is trial 2 with value: 0.990990990990991.\n",
            "Trial 17 finished with value: 1.0 and parameters: {'alpha': 0.009919987407471208}. Best is trial 2 with value: 0.990990990990991.\n"
          ]
        },
        {
          "name": "stderr",
          "output_type": "stream",
          "text": [
            "\u001b[32m[I 2022-11-13 18:08:45,646]\u001b[0m Trial 18 finished with value: 1.0 and parameters: {'alpha': 0.00041391643021731144}. Best is trial 2 with value: 0.990990990990991.\u001b[0m\n"
          ]
        },
        {
          "name": "stdout",
          "output_type": "stream",
          "text": [
            "Trial 18 finished with value: 1.0 and parameters: {'alpha': 0.00041391643021731144}. Best is trial 2 with value: 0.990990990990991.\n",
            "Trial 18 finished with value: 1.0 and parameters: {'alpha': 0.00041391643021731144}. Best is trial 2 with value: 0.990990990990991.\n",
            "Trial 18 finished with value: 1.0 and parameters: {'alpha': 0.00041391643021731144}. Best is trial 2 with value: 0.990990990990991.\n",
            "Trial 18 finished with value: 1.0 and parameters: {'alpha': 0.00041391643021731144}. Best is trial 2 with value: 0.990990990990991.\n"
          ]
        },
        {
          "name": "stderr",
          "output_type": "stream",
          "text": [
            "\u001b[32m[I 2022-11-13 18:08:54,571]\u001b[0m Trial 19 finished with value: 1.0 and parameters: {'alpha': 0.003447198232149919}. Best is trial 2 with value: 0.990990990990991.\u001b[0m\n"
          ]
        },
        {
          "name": "stdout",
          "output_type": "stream",
          "text": [
            "Trial 19 finished with value: 1.0 and parameters: {'alpha': 0.003447198232149919}. Best is trial 2 with value: 0.990990990990991.\n",
            "Trial 19 finished with value: 1.0 and parameters: {'alpha': 0.003447198232149919}. Best is trial 2 with value: 0.990990990990991.\n",
            "Trial 19 finished with value: 1.0 and parameters: {'alpha': 0.003447198232149919}. Best is trial 2 with value: 0.990990990990991.\n",
            "Trial 19 finished with value: 1.0 and parameters: {'alpha': 0.003447198232149919}. Best is trial 2 with value: 0.990990990990991.\n"
          ]
        }
      ],
      "source": [
        "optuna.logging.get_logger(\"optuna\").addHandler(logging.StreamHandler(sys.stdout))\n",
        "study = optuna.create_study(pruner=optuna.pruners.MedianPruner())\n",
        "study.optimize(objective, n_trials=20)"
      ]
    },
    {
      "cell_type": "code",
      "execution_count": null,
      "metadata": {
        "colab": {
          "base_uri": "https://localhost:8080/",
          "height": 542
        },
        "id": "wuWzO5EgFX9p",
        "outputId": "26c32ab5-d61e-4708-fdd2-7fc12af97884"
      },
      "outputs": [
        {
          "data": {
            "text/html": [
              "<html>\n",
              "<head><meta charset=\"utf-8\" /></head>\n",
              "<body>\n",
              "    <div>            <script src=\"https://cdnjs.cloudflare.com/ajax/libs/mathjax/2.7.5/MathJax.js?config=TeX-AMS-MML_SVG\"></script><script type=\"text/javascript\">if (window.MathJax) {MathJax.Hub.Config({SVG: {font: \"STIX-Web\"}});}</script>                <script type=\"text/javascript\">window.PlotlyConfig = {MathJaxConfig: 'local'};</script>\n",
              "        <script src=\"https://cdn.plot.ly/plotly-2.8.3.min.js\"></script>                <div id=\"150e5d1c-ae40-47ff-bb59-6b48a3dd7cff\" class=\"plotly-graph-div\" style=\"height:525px; width:100%;\"></div>            <script type=\"text/javascript\">                                    window.PLOTLYENV=window.PLOTLYENV || {};                                    if (document.getElementById(\"150e5d1c-ae40-47ff-bb59-6b48a3dd7cff\")) {                    Plotly.newPlot(                        \"150e5d1c-ae40-47ff-bb59-6b48a3dd7cff\",                        [{\"mode\":\"markers\",\"name\":\"Objective Value\",\"x\":[0,1,2,3,4,8,14,15,17,18,19],\"y\":[1.0,1.0,0.990990990990991,0.990990990990991,0.990990990990991,1.0,0.990990990990991,1.0,1.0,1.0,1.0],\"type\":\"scatter\"},{\"name\":\"Best Value\",\"x\":[0,1,2,3,4,8,14,15,17,18,19],\"y\":[1.0,1.0,0.990990990990991,0.990990990990991,0.990990990990991,0.990990990990991,0.990990990990991,0.990990990990991,0.990990990990991,0.990990990990991,0.990990990990991],\"type\":\"scatter\"}],                        {\"title\":{\"text\":\"Optimization History Plot\"},\"xaxis\":{\"title\":{\"text\":\"Trial\"}},\"yaxis\":{\"title\":{\"text\":\"Objective Value\"}},\"template\":{\"data\":{\"bar\":[{\"error_x\":{\"color\":\"#2a3f5f\"},\"error_y\":{\"color\":\"#2a3f5f\"},\"marker\":{\"line\":{\"color\":\"#E5ECF6\",\"width\":0.5},\"pattern\":{\"fillmode\":\"overlay\",\"size\":10,\"solidity\":0.2}},\"type\":\"bar\"}],\"barpolar\":[{\"marker\":{\"line\":{\"color\":\"#E5ECF6\",\"width\":0.5},\"pattern\":{\"fillmode\":\"overlay\",\"size\":10,\"solidity\":0.2}},\"type\":\"barpolar\"}],\"carpet\":[{\"aaxis\":{\"endlinecolor\":\"#2a3f5f\",\"gridcolor\":\"white\",\"linecolor\":\"white\",\"minorgridcolor\":\"white\",\"startlinecolor\":\"#2a3f5f\"},\"baxis\":{\"endlinecolor\":\"#2a3f5f\",\"gridcolor\":\"white\",\"linecolor\":\"white\",\"minorgridcolor\":\"white\",\"startlinecolor\":\"#2a3f5f\"},\"type\":\"carpet\"}],\"choropleth\":[{\"colorbar\":{\"outlinewidth\":0,\"ticks\":\"\"},\"type\":\"choropleth\"}],\"contour\":[{\"colorbar\":{\"outlinewidth\":0,\"ticks\":\"\"},\"colorscale\":[[0.0,\"#0d0887\"],[0.1111111111111111,\"#46039f\"],[0.2222222222222222,\"#7201a8\"],[0.3333333333333333,\"#9c179e\"],[0.4444444444444444,\"#bd3786\"],[0.5555555555555556,\"#d8576b\"],[0.6666666666666666,\"#ed7953\"],[0.7777777777777778,\"#fb9f3a\"],[0.8888888888888888,\"#fdca26\"],[1.0,\"#f0f921\"]],\"type\":\"contour\"}],\"contourcarpet\":[{\"colorbar\":{\"outlinewidth\":0,\"ticks\":\"\"},\"type\":\"contourcarpet\"}],\"heatmap\":[{\"colorbar\":{\"outlinewidth\":0,\"ticks\":\"\"},\"colorscale\":[[0.0,\"#0d0887\"],[0.1111111111111111,\"#46039f\"],[0.2222222222222222,\"#7201a8\"],[0.3333333333333333,\"#9c179e\"],[0.4444444444444444,\"#bd3786\"],[0.5555555555555556,\"#d8576b\"],[0.6666666666666666,\"#ed7953\"],[0.7777777777777778,\"#fb9f3a\"],[0.8888888888888888,\"#fdca26\"],[1.0,\"#f0f921\"]],\"type\":\"heatmap\"}],\"heatmapgl\":[{\"colorbar\":{\"outlinewidth\":0,\"ticks\":\"\"},\"colorscale\":[[0.0,\"#0d0887\"],[0.1111111111111111,\"#46039f\"],[0.2222222222222222,\"#7201a8\"],[0.3333333333333333,\"#9c179e\"],[0.4444444444444444,\"#bd3786\"],[0.5555555555555556,\"#d8576b\"],[0.6666666666666666,\"#ed7953\"],[0.7777777777777778,\"#fb9f3a\"],[0.8888888888888888,\"#fdca26\"],[1.0,\"#f0f921\"]],\"type\":\"heatmapgl\"}],\"histogram\":[{\"marker\":{\"pattern\":{\"fillmode\":\"overlay\",\"size\":10,\"solidity\":0.2}},\"type\":\"histogram\"}],\"histogram2d\":[{\"colorbar\":{\"outlinewidth\":0,\"ticks\":\"\"},\"colorscale\":[[0.0,\"#0d0887\"],[0.1111111111111111,\"#46039f\"],[0.2222222222222222,\"#7201a8\"],[0.3333333333333333,\"#9c179e\"],[0.4444444444444444,\"#bd3786\"],[0.5555555555555556,\"#d8576b\"],[0.6666666666666666,\"#ed7953\"],[0.7777777777777778,\"#fb9f3a\"],[0.8888888888888888,\"#fdca26\"],[1.0,\"#f0f921\"]],\"type\":\"histogram2d\"}],\"histogram2dcontour\":[{\"colorbar\":{\"outlinewidth\":0,\"ticks\":\"\"},\"colorscale\":[[0.0,\"#0d0887\"],[0.1111111111111111,\"#46039f\"],[0.2222222222222222,\"#7201a8\"],[0.3333333333333333,\"#9c179e\"],[0.4444444444444444,\"#bd3786\"],[0.5555555555555556,\"#d8576b\"],[0.6666666666666666,\"#ed7953\"],[0.7777777777777778,\"#fb9f3a\"],[0.8888888888888888,\"#fdca26\"],[1.0,\"#f0f921\"]],\"type\":\"histogram2dcontour\"}],\"mesh3d\":[{\"colorbar\":{\"outlinewidth\":0,\"ticks\":\"\"},\"type\":\"mesh3d\"}],\"parcoords\":[{\"line\":{\"colorbar\":{\"outlinewidth\":0,\"ticks\":\"\"}},\"type\":\"parcoords\"}],\"pie\":[{\"automargin\":true,\"type\":\"pie\"}],\"scatter\":[{\"marker\":{\"colorbar\":{\"outlinewidth\":0,\"ticks\":\"\"}},\"type\":\"scatter\"}],\"scatter3d\":[{\"line\":{\"colorbar\":{\"outlinewidth\":0,\"ticks\":\"\"}},\"marker\":{\"colorbar\":{\"outlinewidth\":0,\"ticks\":\"\"}},\"type\":\"scatter3d\"}],\"scattercarpet\":[{\"marker\":{\"colorbar\":{\"outlinewidth\":0,\"ticks\":\"\"}},\"type\":\"scattercarpet\"}],\"scattergeo\":[{\"marker\":{\"colorbar\":{\"outlinewidth\":0,\"ticks\":\"\"}},\"type\":\"scattergeo\"}],\"scattergl\":[{\"marker\":{\"colorbar\":{\"outlinewidth\":0,\"ticks\":\"\"}},\"type\":\"scattergl\"}],\"scattermapbox\":[{\"marker\":{\"colorbar\":{\"outlinewidth\":0,\"ticks\":\"\"}},\"type\":\"scattermapbox\"}],\"scatterpolar\":[{\"marker\":{\"colorbar\":{\"outlinewidth\":0,\"ticks\":\"\"}},\"type\":\"scatterpolar\"}],\"scatterpolargl\":[{\"marker\":{\"colorbar\":{\"outlinewidth\":0,\"ticks\":\"\"}},\"type\":\"scatterpolargl\"}],\"scatterternary\":[{\"marker\":{\"colorbar\":{\"outlinewidth\":0,\"ticks\":\"\"}},\"type\":\"scatterternary\"}],\"surface\":[{\"colorbar\":{\"outlinewidth\":0,\"ticks\":\"\"},\"colorscale\":[[0.0,\"#0d0887\"],[0.1111111111111111,\"#46039f\"],[0.2222222222222222,\"#7201a8\"],[0.3333333333333333,\"#9c179e\"],[0.4444444444444444,\"#bd3786\"],[0.5555555555555556,\"#d8576b\"],[0.6666666666666666,\"#ed7953\"],[0.7777777777777778,\"#fb9f3a\"],[0.8888888888888888,\"#fdca26\"],[1.0,\"#f0f921\"]],\"type\":\"surface\"}],\"table\":[{\"cells\":{\"fill\":{\"color\":\"#EBF0F8\"},\"line\":{\"color\":\"white\"}},\"header\":{\"fill\":{\"color\":\"#C8D4E3\"},\"line\":{\"color\":\"white\"}},\"type\":\"table\"}]},\"layout\":{\"annotationdefaults\":{\"arrowcolor\":\"#2a3f5f\",\"arrowhead\":0,\"arrowwidth\":1},\"autotypenumbers\":\"strict\",\"coloraxis\":{\"colorbar\":{\"outlinewidth\":0,\"ticks\":\"\"}},\"colorscale\":{\"diverging\":[[0,\"#8e0152\"],[0.1,\"#c51b7d\"],[0.2,\"#de77ae\"],[0.3,\"#f1b6da\"],[0.4,\"#fde0ef\"],[0.5,\"#f7f7f7\"],[0.6,\"#e6f5d0\"],[0.7,\"#b8e186\"],[0.8,\"#7fbc41\"],[0.9,\"#4d9221\"],[1,\"#276419\"]],\"sequential\":[[0.0,\"#0d0887\"],[0.1111111111111111,\"#46039f\"],[0.2222222222222222,\"#7201a8\"],[0.3333333333333333,\"#9c179e\"],[0.4444444444444444,\"#bd3786\"],[0.5555555555555556,\"#d8576b\"],[0.6666666666666666,\"#ed7953\"],[0.7777777777777778,\"#fb9f3a\"],[0.8888888888888888,\"#fdca26\"],[1.0,\"#f0f921\"]],\"sequentialminus\":[[0.0,\"#0d0887\"],[0.1111111111111111,\"#46039f\"],[0.2222222222222222,\"#7201a8\"],[0.3333333333333333,\"#9c179e\"],[0.4444444444444444,\"#bd3786\"],[0.5555555555555556,\"#d8576b\"],[0.6666666666666666,\"#ed7953\"],[0.7777777777777778,\"#fb9f3a\"],[0.8888888888888888,\"#fdca26\"],[1.0,\"#f0f921\"]]},\"colorway\":[\"#636efa\",\"#EF553B\",\"#00cc96\",\"#ab63fa\",\"#FFA15A\",\"#19d3f3\",\"#FF6692\",\"#B6E880\",\"#FF97FF\",\"#FECB52\"],\"font\":{\"color\":\"#2a3f5f\"},\"geo\":{\"bgcolor\":\"white\",\"lakecolor\":\"white\",\"landcolor\":\"#E5ECF6\",\"showlakes\":true,\"showland\":true,\"subunitcolor\":\"white\"},\"hoverlabel\":{\"align\":\"left\"},\"hovermode\":\"closest\",\"mapbox\":{\"style\":\"light\"},\"paper_bgcolor\":\"white\",\"plot_bgcolor\":\"#E5ECF6\",\"polar\":{\"angularaxis\":{\"gridcolor\":\"white\",\"linecolor\":\"white\",\"ticks\":\"\"},\"bgcolor\":\"#E5ECF6\",\"radialaxis\":{\"gridcolor\":\"white\",\"linecolor\":\"white\",\"ticks\":\"\"}},\"scene\":{\"xaxis\":{\"backgroundcolor\":\"#E5ECF6\",\"gridcolor\":\"white\",\"gridwidth\":2,\"linecolor\":\"white\",\"showbackground\":true,\"ticks\":\"\",\"zerolinecolor\":\"white\"},\"yaxis\":{\"backgroundcolor\":\"#E5ECF6\",\"gridcolor\":\"white\",\"gridwidth\":2,\"linecolor\":\"white\",\"showbackground\":true,\"ticks\":\"\",\"zerolinecolor\":\"white\"},\"zaxis\":{\"backgroundcolor\":\"#E5ECF6\",\"gridcolor\":\"white\",\"gridwidth\":2,\"linecolor\":\"white\",\"showbackground\":true,\"ticks\":\"\",\"zerolinecolor\":\"white\"}},\"shapedefaults\":{\"line\":{\"color\":\"#2a3f5f\"}},\"ternary\":{\"aaxis\":{\"gridcolor\":\"white\",\"linecolor\":\"white\",\"ticks\":\"\"},\"baxis\":{\"gridcolor\":\"white\",\"linecolor\":\"white\",\"ticks\":\"\"},\"bgcolor\":\"#E5ECF6\",\"caxis\":{\"gridcolor\":\"white\",\"linecolor\":\"white\",\"ticks\":\"\"}},\"title\":{\"x\":0.05},\"xaxis\":{\"automargin\":true,\"gridcolor\":\"white\",\"linecolor\":\"white\",\"ticks\":\"\",\"title\":{\"standoff\":15},\"zerolinecolor\":\"white\",\"zerolinewidth\":2},\"yaxis\":{\"automargin\":true,\"gridcolor\":\"white\",\"linecolor\":\"white\",\"ticks\":\"\",\"title\":{\"standoff\":15},\"zerolinecolor\":\"white\",\"zerolinewidth\":2}}}},                        {\"responsive\": true}                    ).then(function(){\n",
              "                            \n",
              "var gd = document.getElementById('150e5d1c-ae40-47ff-bb59-6b48a3dd7cff');\n",
              "var x = new MutationObserver(function (mutations, observer) {{\n",
              "        var display = window.getComputedStyle(gd).display;\n",
              "        if (!display || display === 'none') {{\n",
              "            console.log([gd, 'removed!']);\n",
              "            Plotly.purge(gd);\n",
              "            observer.disconnect();\n",
              "        }}\n",
              "}});\n",
              "\n",
              "// Listen for the removal of the full notebook cells\n",
              "var notebookContainer = gd.closest('#notebook-container');\n",
              "if (notebookContainer) {{\n",
              "    x.observe(notebookContainer, {childList: true});\n",
              "}}\n",
              "\n",
              "// Listen for the clearing of the current output cell\n",
              "var outputEl = gd.closest('.output');\n",
              "if (outputEl) {{\n",
              "    x.observe(outputEl, {childList: true});\n",
              "}}\n",
              "\n",
              "                        })                };                            </script>        </div>\n",
              "</body>\n",
              "</html>"
            ]
          },
          "metadata": {},
          "output_type": "display_data"
        }
      ],
      "source": [
        "plot_optimization_history(study)"
      ]
    },
    {
      "cell_type": "code",
      "execution_count": null,
      "metadata": {
        "colab": {
          "base_uri": "https://localhost:8080/",
          "height": 542
        },
        "id": "m377KxZiFY5V",
        "outputId": "75425909-6a4a-4d1d-fa1e-4a63013da20c"
      },
      "outputs": [
        {
          "data": {
            "text/html": [
              "<html>\n",
              "<head><meta charset=\"utf-8\" /></head>\n",
              "<body>\n",
              "    <div>            <script src=\"https://cdnjs.cloudflare.com/ajax/libs/mathjax/2.7.5/MathJax.js?config=TeX-AMS-MML_SVG\"></script><script type=\"text/javascript\">if (window.MathJax) {MathJax.Hub.Config({SVG: {font: \"STIX-Web\"}});}</script>                <script type=\"text/javascript\">window.PlotlyConfig = {MathJaxConfig: 'local'};</script>\n",
              "        <script src=\"https://cdn.plot.ly/plotly-2.8.3.min.js\"></script>                <div id=\"2a1f7fe6-4211-40fa-b1ab-1c4e4de95979\" class=\"plotly-graph-div\" style=\"height:525px; width:100%;\"></div>            <script type=\"text/javascript\">                                    window.PLOTLYENV=window.PLOTLYENV || {};                                    if (document.getElementById(\"2a1f7fe6-4211-40fa-b1ab-1c4e4de95979\")) {                    Plotly.newPlot(                        \"2a1f7fe6-4211-40fa-b1ab-1c4e4de95979\",                        [{\"marker\":{\"maxdisplayed\":10},\"mode\":\"lines+markers\",\"name\":\"Trial0\",\"x\":[0,1,2,3,4,5,6,7,8,9,10,11,12,13,14,15,16,17,18,19,20,21,22,23,24,25,26,27,28,29,30,31,32,33,34,35,36,37,38,39,40,41,42,43,44,45,46,47,48,49,50,51,52,53,54,55,56,57,58,59,60,61,62,63,64,65,66,67,68,69,70,71,72,73,74,75,76,77,78,79,80,81,82,83,84,85,86,87,88,89,90,91,92,93,94,95,96,97,98,99],\"y\":[1.0,0.990990990990991,1.0,1.0,0.990990990990991,1.0,0.990990990990991,1.0,0.990990990990991,1.0,1.0,0.990990990990991,1.0,0.990990990990991,1.0,1.0,1.0,0.9819819819819819,0.9819819819819819,1.0,0.972972972972973,0.990990990990991,0.990990990990991,1.0,0.990990990990991,0.9819819819819819,1.0,1.0,1.0,1.0,1.0,1.0,1.0,0.990990990990991,0.990990990990991,0.990990990990991,0.990990990990991,1.0,0.990990990990991,1.0,1.0,0.990990990990991,0.990990990990991,0.990990990990991,0.990990990990991,0.990990990990991,1.0,0.9819819819819819,1.0,1.0,1.0,1.0,0.990990990990991,1.0,1.0,1.0,1.0,1.0,1.0,1.0,1.0,1.0,1.0,1.0,0.990990990990991,1.0,0.990990990990991,1.0,0.990990990990991,0.990990990990991,0.990990990990991,1.0,1.0,1.0,1.0,1.0,0.990990990990991,1.0,0.990990990990991,0.9819819819819819,0.990990990990991,0.9819819819819819,1.0,1.0,1.0,0.9819819819819819,1.0,1.0,0.990990990990991,1.0,0.990990990990991,0.990990990990991,1.0,1.0,1.0,1.0,1.0,1.0,0.990990990990991,1.0],\"type\":\"scatter\"},{\"marker\":{\"maxdisplayed\":10},\"mode\":\"lines+markers\",\"name\":\"Trial1\",\"x\":[0,1,2,3,4,5,6,7,8,9,10,11,12,13,14,15,16,17,18,19,20,21,22,23,24,25,26,27,28,29,30,31,32,33,34,35,36,37,38,39,40,41,42,43,44,45,46,47,48,49,50,51,52,53,54,55,56,57,58,59,60,61,62,63,64,65,66,67,68,69,70,71,72,73,74,75,76,77,78,79,80,81,82,83,84,85,86,87,88,89,90,91,92,93,94,95,96,97,98,99],\"y\":[0.990990990990991,0.990990990990991,0.990990990990991,1.0,1.0,0.990990990990991,0.990990990990991,0.990990990990991,1.0,1.0,1.0,0.990990990990991,0.990990990990991,1.0,1.0,1.0,1.0,0.9819819819819819,1.0,1.0,1.0,1.0,1.0,0.990990990990991,0.990990990990991,1.0,1.0,0.990990990990991,0.990990990990991,0.990990990990991,0.990990990990991,1.0,0.990990990990991,1.0,1.0,0.990990990990991,1.0,1.0,1.0,0.990990990990991,1.0,0.990990990990991,1.0,1.0,0.990990990990991,0.990990990990991,1.0,1.0,1.0,1.0,1.0,0.990990990990991,1.0,1.0,0.990990990990991,0.990990990990991,0.990990990990991,1.0,1.0,0.990990990990991,1.0,1.0,0.990990990990991,1.0,0.9819819819819819,0.990990990990991,1.0,1.0,1.0,1.0,0.990990990990991,1.0,0.990990990990991,0.990990990990991,0.9819819819819819,1.0,1.0,0.990990990990991,1.0,0.9819819819819819,0.990990990990991,0.990990990990991,1.0,0.9819819819819819,1.0,0.990990990990991,0.990990990990991,1.0,1.0,1.0,0.990990990990991,1.0,0.990990990990991,0.990990990990991,0.990990990990991,1.0,0.990990990990991,1.0,1.0,1.0],\"type\":\"scatter\"},{\"marker\":{\"maxdisplayed\":10},\"mode\":\"lines+markers\",\"name\":\"Trial2\",\"x\":[0,1,2,3,4,5,6,7,8,9,10,11,12,13,14,15,16,17,18,19,20,21,22,23,24,25,26,27,28,29,30,31,32,33,34,35,36,37,38,39,40,41,42,43,44,45,46,47,48,49,50,51,52,53,54,55,56,57,58,59,60,61,62,63,64,65,66,67,68,69,70,71,72,73,74,75,76,77,78,79,80,81,82,83,84,85,86,87,88,89,90,91,92,93,94,95,96,97,98,99],\"y\":[1.0,1.0,1.0,1.0,1.0,1.0,0.990990990990991,1.0,1.0,1.0,1.0,1.0,1.0,1.0,1.0,1.0,1.0,0.990990990990991,1.0,1.0,0.990990990990991,1.0,0.990990990990991,1.0,1.0,0.990990990990991,0.990990990990991,1.0,1.0,1.0,1.0,0.990990990990991,1.0,1.0,1.0,1.0,1.0,1.0,1.0,1.0,1.0,1.0,1.0,0.990990990990991,0.990990990990991,0.990990990990991,1.0,0.990990990990991,1.0,1.0,0.9819819819819819,1.0,0.990990990990991,0.990990990990991,0.990990990990991,0.9819819819819819,1.0,1.0,1.0,1.0,1.0,1.0,1.0,1.0,1.0,1.0,0.990990990990991,1.0,1.0,1.0,1.0,0.990990990990991,0.990990990990991,1.0,0.972972972972973,0.9819819819819819,1.0,0.990990990990991,1.0,0.990990990990991,1.0,0.990990990990991,1.0,0.990990990990991,1.0,1.0,1.0,1.0,1.0,1.0,1.0,1.0,0.990990990990991,1.0,1.0,1.0,1.0,1.0,1.0,0.990990990990991],\"type\":\"scatter\"},{\"marker\":{\"maxdisplayed\":10},\"mode\":\"lines+markers\",\"name\":\"Trial3\",\"x\":[0,1,2,3,4,5,6,7,8,9,10,11,12,13,14,15,16,17,18,19,20,21,22,23,24,25,26,27,28,29,30,31,32,33,34,35,36,37,38,39,40,41,42,43,44,45,46,47,48,49,50,51,52,53,54,55,56,57,58,59,60,61,62,63,64,65,66,67,68,69,70,71,72,73,74,75,76,77,78,79,80,81,82,83,84,85,86,87,88,89,90,91,92,93,94,95,96,97,98,99],\"y\":[1.0,1.0,1.0,1.0,1.0,0.990990990990991,0.990990990990991,0.990990990990991,1.0,1.0,1.0,1.0,0.990990990990991,1.0,1.0,1.0,0.990990990990991,1.0,1.0,1.0,1.0,1.0,1.0,1.0,0.990990990990991,1.0,1.0,0.990990990990991,1.0,1.0,0.990990990990991,0.990990990990991,1.0,1.0,0.990990990990991,1.0,1.0,0.990990990990991,1.0,1.0,1.0,1.0,1.0,1.0,1.0,0.990990990990991,1.0,1.0,1.0,1.0,1.0,0.990990990990991,1.0,0.9819819819819819,0.990990990990991,0.990990990990991,0.990990990990991,0.990990990990991,1.0,0.990990990990991,0.990990990990991,1.0,1.0,1.0,0.990990990990991,0.990990990990991,1.0,1.0,1.0,1.0,0.990990990990991,1.0,1.0,0.9819819819819819,1.0,1.0,1.0,1.0,1.0,1.0,0.990990990990991,1.0,0.990990990990991,1.0,0.990990990990991,1.0,0.9819819819819819,1.0,0.990990990990991,0.990990990990991,0.990990990990991,0.990990990990991,0.9819819819819819,0.9819819819819819,0.990990990990991,0.990990990990991,1.0,1.0,0.990990990990991,0.990990990990991],\"type\":\"scatter\"},{\"marker\":{\"maxdisplayed\":10},\"mode\":\"lines+markers\",\"name\":\"Trial4\",\"x\":[0,1,2,3,4,5,6,7,8,9,10,11,12,13,14,15,16,17,18,19,20,21,22,23,24,25,26,27,28,29,30,31,32,33,34,35,36,37,38,39,40,41,42,43,44,45,46,47,48,49,50,51,52,53,54,55,56,57,58,59,60,61,62,63,64,65,66,67,68,69,70,71,72,73,74,75,76,77,78,79,80,81,82,83,84,85,86,87,88,89,90,91,92,93,94,95,96,97,98,99],\"y\":[1.0,0.9819819819819819,0.990990990990991,1.0,1.0,0.990990990990991,1.0,1.0,1.0,1.0,0.990990990990991,1.0,1.0,0.990990990990991,0.990990990990991,0.990990990990991,1.0,0.9819819819819819,1.0,1.0,1.0,1.0,1.0,0.990990990990991,0.990990990990991,1.0,0.990990990990991,0.990990990990991,1.0,1.0,0.990990990990991,1.0,1.0,0.990990990990991,1.0,1.0,1.0,1.0,1.0,1.0,1.0,1.0,1.0,0.990990990990991,1.0,0.990990990990991,1.0,1.0,1.0,0.990990990990991,0.990990990990991,0.990990990990991,1.0,1.0,0.9819819819819819,0.990990990990991,1.0,1.0,1.0,1.0,0.990990990990991,0.9819819819819819,0.990990990990991,1.0,1.0,1.0,0.990990990990991,0.990990990990991,1.0,0.990990990990991,0.990990990990991,1.0,1.0,1.0,1.0,0.990990990990991,1.0,1.0,1.0,0.990990990990991,1.0,1.0,1.0,1.0,0.990990990990991,1.0,1.0,0.990990990990991,0.972972972972973,0.990990990990991,1.0,0.9819819819819819,0.990990990990991,1.0,1.0,1.0,1.0,1.0,0.990990990990991,0.990990990990991],\"type\":\"scatter\"},{\"marker\":{\"maxdisplayed\":10},\"mode\":\"lines+markers\",\"name\":\"Trial5\",\"x\":[0,1,2,3,4,5,6,7,8,9,10,11,12,13,14,15,16,17],\"y\":[1.0,0.990990990990991,0.990990990990991,0.990990990990991,0.990990990990991,1.0,1.0,1.0,0.990990990990991,0.990990990990991,1.0,1.0,0.990990990990991,0.990990990990991,1.0,1.0,1.0,0.990990990990991],\"type\":\"scatter\"},{\"marker\":{\"maxdisplayed\":10},\"mode\":\"lines+markers\",\"name\":\"Trial6\",\"x\":[0,1],\"y\":[1.0,1.0],\"type\":\"scatter\"},{\"marker\":{\"maxdisplayed\":10},\"mode\":\"lines+markers\",\"name\":\"Trial7\",\"x\":[0,1,2,3,4,5,6,7,8,9,10,11,12,13,14,15,16,17],\"y\":[0.990990990990991,0.990990990990991,1.0,1.0,1.0,1.0,1.0,0.990990990990991,0.990990990990991,0.990990990990991,0.990990990990991,1.0,0.990990990990991,0.990990990990991,0.990990990990991,1.0,1.0,1.0],\"type\":\"scatter\"},{\"marker\":{\"maxdisplayed\":10},\"mode\":\"lines+markers\",\"name\":\"Trial8\",\"x\":[0,1,2,3,4,5,6,7,8,9,10,11,12,13,14,15,16,17,18,19,20,21,22,23,24,25,26,27,28,29,30,31,32,33,34,35,36,37,38,39,40,41,42,43,44,45,46,47,48,49,50,51,52,53,54,55,56,57,58,59,60,61,62,63,64,65,66,67,68,69,70,71,72,73,74,75,76,77,78,79,80,81,82,83,84,85,86,87,88,89,90,91,92,93,94,95,96,97,98,99],\"y\":[1.0,0.9819819819819819,0.990990990990991,0.990990990990991,1.0,1.0,1.0,1.0,1.0,0.9819819819819819,0.990990990990991,0.990990990990991,1.0,1.0,1.0,1.0,0.990990990990991,1.0,1.0,1.0,1.0,1.0,1.0,1.0,1.0,1.0,0.990990990990991,0.990990990990991,0.990990990990991,1.0,1.0,1.0,1.0,0.990990990990991,1.0,1.0,1.0,1.0,0.9819819819819819,0.990990990990991,1.0,1.0,1.0,1.0,1.0,1.0,0.990990990990991,1.0,0.990990990990991,0.990990990990991,1.0,0.9819819819819819,0.990990990990991,0.990990990990991,1.0,1.0,1.0,1.0,1.0,1.0,1.0,1.0,0.990990990990991,0.990990990990991,0.990990990990991,1.0,0.990990990990991,0.990990990990991,0.990990990990991,0.990990990990991,1.0,0.990990990990991,1.0,1.0,1.0,1.0,1.0,0.990990990990991,1.0,1.0,1.0,0.990990990990991,0.990990990990991,0.990990990990991,0.9819819819819819,1.0,0.990990990990991,1.0,1.0,1.0,0.990990990990991,1.0,0.990990990990991,1.0,0.990990990990991,1.0,1.0,1.0,1.0,1.0],\"type\":\"scatter\"},{\"marker\":{\"maxdisplayed\":10},\"mode\":\"lines+markers\",\"name\":\"Trial9\",\"x\":[0,1,2,3,4,5,6,7,8,9,10,11,12,13,14,15,16,17],\"y\":[1.0,0.990990990990991,1.0,1.0,1.0,1.0,0.990990990990991,1.0,1.0,1.0,0.990990990990991,1.0,1.0,1.0,1.0,1.0,1.0,1.0],\"type\":\"scatter\"},{\"marker\":{\"maxdisplayed\":10},\"mode\":\"lines+markers\",\"name\":\"Trial10\",\"x\":[0,1],\"y\":[1.0,1.0],\"type\":\"scatter\"},{\"marker\":{\"maxdisplayed\":10},\"mode\":\"lines+markers\",\"name\":\"Trial11\",\"x\":[0,1],\"y\":[1.0,1.0],\"type\":\"scatter\"},{\"marker\":{\"maxdisplayed\":10},\"mode\":\"lines+markers\",\"name\":\"Trial12\",\"x\":[0,1,2,3,4,5,6,7,8,9,10,11,12,13,14,15,16,17],\"y\":[0.990990990990991,0.990990990990991,1.0,0.990990990990991,1.0,1.0,0.990990990990991,1.0,1.0,0.990990990990991,1.0,1.0,1.0,1.0,0.990990990990991,0.990990990990991,1.0,1.0],\"type\":\"scatter\"},{\"marker\":{\"maxdisplayed\":10},\"mode\":\"lines+markers\",\"name\":\"Trial13\",\"x\":[0,1,2,3,4,5,6,7,8,9,10,11,12,13,14,15,16,17],\"y\":[0.990990990990991,1.0,1.0,0.990990990990991,1.0,1.0,0.990990990990991,1.0,1.0,0.990990990990991,1.0,1.0,1.0,0.990990990990991,0.990990990990991,0.990990990990991,1.0,0.990990990990991],\"type\":\"scatter\"},{\"marker\":{\"maxdisplayed\":10},\"mode\":\"lines+markers\",\"name\":\"Trial14\",\"x\":[0,1,2,3,4,5,6,7,8,9,10,11,12,13,14,15,16,17,18,19,20,21,22,23,24,25,26,27,28,29,30,31,32,33,34,35,36,37,38,39,40,41,42,43,44,45,46,47,48,49,50,51,52,53,54,55,56,57,58,59,60,61,62,63,64,65,66,67,68,69,70,71,72,73,74,75,76,77,78,79,80,81,82,83,84,85,86,87,88,89,90,91,92,93,94,95,96,97,98,99],\"y\":[1.0,0.990990990990991,0.990990990990991,1.0,1.0,0.990990990990991,0.9819819819819819,1.0,0.990990990990991,0.990990990990991,1.0,1.0,1.0,1.0,1.0,1.0,0.990990990990991,1.0,1.0,0.990990990990991,1.0,1.0,1.0,0.990990990990991,0.990990990990991,1.0,1.0,1.0,1.0,0.990990990990991,1.0,1.0,1.0,1.0,1.0,0.990990990990991,0.990990990990991,0.990990990990991,1.0,0.990990990990991,0.990990990990991,0.990990990990991,1.0,0.990990990990991,1.0,1.0,1.0,0.990990990990991,0.990990990990991,0.990990990990991,1.0,1.0,1.0,0.990990990990991,1.0,0.990990990990991,1.0,1.0,0.990990990990991,0.990990990990991,1.0,0.9819819819819819,1.0,0.9819819819819819,1.0,0.990990990990991,0.990990990990991,1.0,1.0,0.990990990990991,1.0,1.0,1.0,1.0,1.0,1.0,0.990990990990991,1.0,1.0,1.0,1.0,0.990990990990991,0.990990990990991,0.990990990990991,1.0,0.990990990990991,1.0,0.9819819819819819,1.0,1.0,1.0,1.0,1.0,1.0,1.0,0.990990990990991,1.0,1.0,1.0,0.990990990990991],\"type\":\"scatter\"},{\"marker\":{\"maxdisplayed\":10},\"mode\":\"lines+markers\",\"name\":\"Trial15\",\"x\":[0,1,2,3,4,5,6,7,8,9,10,11,12,13,14,15,16,17,18,19,20,21,22,23,24,25,26,27,28,29,30,31,32,33,34,35,36,37,38,39,40,41,42,43,44,45,46,47,48,49,50,51,52,53,54,55,56,57,58,59,60,61,62,63,64,65,66,67,68,69,70,71,72,73,74,75,76,77,78,79,80,81,82,83,84,85,86,87,88,89,90,91,92,93,94,95,96,97,98,99],\"y\":[0.990990990990991,1.0,0.990990990990991,1.0,0.990990990990991,0.990990990990991,0.9819819819819819,1.0,0.990990990990991,1.0,0.990990990990991,1.0,0.990990990990991,1.0,1.0,0.990990990990991,1.0,1.0,1.0,0.990990990990991,0.9819819819819819,0.990990990990991,0.990990990990991,1.0,1.0,1.0,0.990990990990991,0.990990990990991,0.990990990990991,1.0,0.990990990990991,0.990990990990991,1.0,0.990990990990991,0.9819819819819819,1.0,1.0,0.990990990990991,1.0,1.0,1.0,1.0,1.0,1.0,0.990990990990991,0.990990990990991,1.0,1.0,0.990990990990991,1.0,1.0,0.990990990990991,0.990990990990991,0.990990990990991,1.0,1.0,1.0,0.990990990990991,0.990990990990991,1.0,0.990990990990991,1.0,0.9819819819819819,1.0,1.0,0.9819819819819819,1.0,1.0,1.0,1.0,0.990990990990991,1.0,0.990990990990991,0.990990990990991,1.0,0.990990990990991,0.990990990990991,1.0,1.0,0.990990990990991,0.990990990990991,1.0,0.990990990990991,1.0,0.990990990990991,1.0,1.0,0.990990990990991,0.990990990990991,1.0,0.990990990990991,1.0,0.972972972972973,1.0,1.0,0.990990990990991,1.0,1.0,1.0,1.0],\"type\":\"scatter\"},{\"marker\":{\"maxdisplayed\":10},\"mode\":\"lines+markers\",\"name\":\"Trial16\",\"x\":[0,1],\"y\":[1.0,1.0],\"type\":\"scatter\"},{\"marker\":{\"maxdisplayed\":10},\"mode\":\"lines+markers\",\"name\":\"Trial17\",\"x\":[0,1,2,3,4,5,6,7,8,9,10,11,12,13,14,15,16,17,18,19,20,21,22,23,24,25,26,27,28,29,30,31,32,33,34,35,36,37,38,39,40,41,42,43,44,45,46,47,48,49,50,51,52,53,54,55,56,57,58,59,60,61,62,63,64,65,66,67,68,69,70,71,72,73,74,75,76,77,78,79,80,81,82,83,84,85,86,87,88,89,90,91,92,93,94,95,96,97,98,99],\"y\":[0.990990990990991,0.990990990990991,0.990990990990991,0.990990990990991,0.990990990990991,1.0,1.0,1.0,1.0,0.990990990990991,1.0,0.9819819819819819,0.990990990990991,1.0,0.990990990990991,1.0,1.0,0.990990990990991,0.990990990990991,1.0,1.0,1.0,1.0,0.990990990990991,1.0,0.990990990990991,1.0,1.0,0.9819819819819819,1.0,1.0,1.0,1.0,1.0,0.972972972972973,0.990990990990991,1.0,1.0,1.0,0.990990990990991,1.0,0.990990990990991,1.0,0.990990990990991,1.0,1.0,1.0,0.990990990990991,1.0,0.990990990990991,1.0,1.0,1.0,1.0,1.0,1.0,0.990990990990991,0.990990990990991,0.990990990990991,0.9819819819819819,1.0,0.9819819819819819,0.9819819819819819,0.990990990990991,0.990990990990991,0.990990990990991,1.0,1.0,0.990990990990991,1.0,0.9819819819819819,1.0,1.0,1.0,0.990990990990991,0.9819819819819819,0.990990990990991,1.0,0.990990990990991,1.0,0.990990990990991,1.0,1.0,1.0,0.990990990990991,0.990990990990991,0.990990990990991,0.990990990990991,1.0,1.0,1.0,1.0,0.990990990990991,1.0,1.0,1.0,1.0,1.0,1.0,1.0],\"type\":\"scatter\"},{\"marker\":{\"maxdisplayed\":10},\"mode\":\"lines+markers\",\"name\":\"Trial18\",\"x\":[0,1,2,3,4,5,6,7,8,9,10,11,12,13,14,15,16,17,18,19,20,21,22,23,24,25,26,27,28,29,30,31,32,33,34,35,36,37,38,39,40,41,42,43,44,45,46,47,48,49,50,51,52,53,54,55,56,57,58,59,60,61,62,63,64,65,66,67,68,69,70,71,72,73,74,75,76,77,78,79,80,81,82,83,84,85,86,87,88,89,90,91,92,93,94,95,96,97,98,99],\"y\":[0.990990990990991,0.990990990990991,1.0,1.0,1.0,1.0,1.0,0.990990990990991,0.990990990990991,0.990990990990991,1.0,0.990990990990991,0.990990990990991,0.990990990990991,0.990990990990991,1.0,0.990990990990991,0.990990990990991,1.0,0.9819819819819819,1.0,0.990990990990991,1.0,0.990990990990991,1.0,1.0,1.0,1.0,1.0,0.9819819819819819,1.0,1.0,0.990990990990991,1.0,1.0,0.9819819819819819,0.990990990990991,0.990990990990991,1.0,1.0,1.0,1.0,0.990990990990991,0.990990990990991,1.0,1.0,0.990990990990991,0.9819819819819819,1.0,0.990990990990991,1.0,1.0,0.990990990990991,1.0,0.990990990990991,1.0,0.990990990990991,1.0,1.0,0.990990990990991,1.0,1.0,1.0,1.0,0.990990990990991,1.0,1.0,1.0,1.0,1.0,1.0,1.0,1.0,1.0,0.990990990990991,0.990990990990991,1.0,1.0,0.990990990990991,0.990990990990991,0.990990990990991,0.9819819819819819,1.0,1.0,1.0,1.0,1.0,0.990990990990991,1.0,0.990990990990991,1.0,0.990990990990991,1.0,1.0,0.990990990990991,1.0,0.9819819819819819,0.990990990990991,0.990990990990991,1.0],\"type\":\"scatter\"},{\"marker\":{\"maxdisplayed\":10},\"mode\":\"lines+markers\",\"name\":\"Trial19\",\"x\":[0,1,2,3,4,5,6,7,8,9,10,11,12,13,14,15,16,17,18,19,20,21,22,23,24,25,26,27,28,29,30,31,32,33,34,35,36,37,38,39,40,41,42,43,44,45,46,47,48,49,50,51,52,53,54,55,56,57,58,59,60,61,62,63,64,65,66,67,68,69,70,71,72,73,74,75,76,77,78,79,80,81,82,83,84,85,86,87,88,89,90,91,92,93,94,95,96,97,98,99],\"y\":[1.0,0.990990990990991,0.990990990990991,1.0,1.0,0.990990990990991,1.0,1.0,0.990990990990991,1.0,1.0,0.990990990990991,1.0,0.990990990990991,0.9819819819819819,1.0,1.0,1.0,1.0,0.990990990990991,1.0,0.990990990990991,0.990990990990991,1.0,1.0,1.0,1.0,0.990990990990991,1.0,1.0,1.0,1.0,0.990990990990991,0.990990990990991,0.990990990990991,0.972972972972973,0.990990990990991,0.990990990990991,0.990990990990991,0.990990990990991,0.990990990990991,1.0,0.990990990990991,1.0,0.9819819819819819,1.0,1.0,1.0,1.0,1.0,0.9819819819819819,1.0,0.990990990990991,1.0,1.0,1.0,0.990990990990991,0.990990990990991,0.990990990990991,1.0,1.0,1.0,1.0,0.990990990990991,1.0,0.990990990990991,0.990990990990991,0.9819819819819819,1.0,0.990990990990991,1.0,0.9819819819819819,1.0,1.0,1.0,1.0,1.0,1.0,0.990990990990991,1.0,1.0,1.0,0.990990990990991,1.0,1.0,1.0,0.990990990990991,1.0,1.0,0.990990990990991,0.990990990990991,1.0,1.0,0.990990990990991,1.0,0.990990990990991,1.0,0.990990990990991,0.990990990990991,1.0],\"type\":\"scatter\"}],                        {\"showlegend\":false,\"title\":{\"text\":\"Intermediate Values Plot\"},\"xaxis\":{\"title\":{\"text\":\"Step\"}},\"yaxis\":{\"title\":{\"text\":\"Intermediate Value\"}},\"template\":{\"data\":{\"bar\":[{\"error_x\":{\"color\":\"#2a3f5f\"},\"error_y\":{\"color\":\"#2a3f5f\"},\"marker\":{\"line\":{\"color\":\"#E5ECF6\",\"width\":0.5},\"pattern\":{\"fillmode\":\"overlay\",\"size\":10,\"solidity\":0.2}},\"type\":\"bar\"}],\"barpolar\":[{\"marker\":{\"line\":{\"color\":\"#E5ECF6\",\"width\":0.5},\"pattern\":{\"fillmode\":\"overlay\",\"size\":10,\"solidity\":0.2}},\"type\":\"barpolar\"}],\"carpet\":[{\"aaxis\":{\"endlinecolor\":\"#2a3f5f\",\"gridcolor\":\"white\",\"linecolor\":\"white\",\"minorgridcolor\":\"white\",\"startlinecolor\":\"#2a3f5f\"},\"baxis\":{\"endlinecolor\":\"#2a3f5f\",\"gridcolor\":\"white\",\"linecolor\":\"white\",\"minorgridcolor\":\"white\",\"startlinecolor\":\"#2a3f5f\"},\"type\":\"carpet\"}],\"choropleth\":[{\"colorbar\":{\"outlinewidth\":0,\"ticks\":\"\"},\"type\":\"choropleth\"}],\"contour\":[{\"colorbar\":{\"outlinewidth\":0,\"ticks\":\"\"},\"colorscale\":[[0.0,\"#0d0887\"],[0.1111111111111111,\"#46039f\"],[0.2222222222222222,\"#7201a8\"],[0.3333333333333333,\"#9c179e\"],[0.4444444444444444,\"#bd3786\"],[0.5555555555555556,\"#d8576b\"],[0.6666666666666666,\"#ed7953\"],[0.7777777777777778,\"#fb9f3a\"],[0.8888888888888888,\"#fdca26\"],[1.0,\"#f0f921\"]],\"type\":\"contour\"}],\"contourcarpet\":[{\"colorbar\":{\"outlinewidth\":0,\"ticks\":\"\"},\"type\":\"contourcarpet\"}],\"heatmap\":[{\"colorbar\":{\"outlinewidth\":0,\"ticks\":\"\"},\"colorscale\":[[0.0,\"#0d0887\"],[0.1111111111111111,\"#46039f\"],[0.2222222222222222,\"#7201a8\"],[0.3333333333333333,\"#9c179e\"],[0.4444444444444444,\"#bd3786\"],[0.5555555555555556,\"#d8576b\"],[0.6666666666666666,\"#ed7953\"],[0.7777777777777778,\"#fb9f3a\"],[0.8888888888888888,\"#fdca26\"],[1.0,\"#f0f921\"]],\"type\":\"heatmap\"}],\"heatmapgl\":[{\"colorbar\":{\"outlinewidth\":0,\"ticks\":\"\"},\"colorscale\":[[0.0,\"#0d0887\"],[0.1111111111111111,\"#46039f\"],[0.2222222222222222,\"#7201a8\"],[0.3333333333333333,\"#9c179e\"],[0.4444444444444444,\"#bd3786\"],[0.5555555555555556,\"#d8576b\"],[0.6666666666666666,\"#ed7953\"],[0.7777777777777778,\"#fb9f3a\"],[0.8888888888888888,\"#fdca26\"],[1.0,\"#f0f921\"]],\"type\":\"heatmapgl\"}],\"histogram\":[{\"marker\":{\"pattern\":{\"fillmode\":\"overlay\",\"size\":10,\"solidity\":0.2}},\"type\":\"histogram\"}],\"histogram2d\":[{\"colorbar\":{\"outlinewidth\":0,\"ticks\":\"\"},\"colorscale\":[[0.0,\"#0d0887\"],[0.1111111111111111,\"#46039f\"],[0.2222222222222222,\"#7201a8\"],[0.3333333333333333,\"#9c179e\"],[0.4444444444444444,\"#bd3786\"],[0.5555555555555556,\"#d8576b\"],[0.6666666666666666,\"#ed7953\"],[0.7777777777777778,\"#fb9f3a\"],[0.8888888888888888,\"#fdca26\"],[1.0,\"#f0f921\"]],\"type\":\"histogram2d\"}],\"histogram2dcontour\":[{\"colorbar\":{\"outlinewidth\":0,\"ticks\":\"\"},\"colorscale\":[[0.0,\"#0d0887\"],[0.1111111111111111,\"#46039f\"],[0.2222222222222222,\"#7201a8\"],[0.3333333333333333,\"#9c179e\"],[0.4444444444444444,\"#bd3786\"],[0.5555555555555556,\"#d8576b\"],[0.6666666666666666,\"#ed7953\"],[0.7777777777777778,\"#fb9f3a\"],[0.8888888888888888,\"#fdca26\"],[1.0,\"#f0f921\"]],\"type\":\"histogram2dcontour\"}],\"mesh3d\":[{\"colorbar\":{\"outlinewidth\":0,\"ticks\":\"\"},\"type\":\"mesh3d\"}],\"parcoords\":[{\"line\":{\"colorbar\":{\"outlinewidth\":0,\"ticks\":\"\"}},\"type\":\"parcoords\"}],\"pie\":[{\"automargin\":true,\"type\":\"pie\"}],\"scatter\":[{\"marker\":{\"colorbar\":{\"outlinewidth\":0,\"ticks\":\"\"}},\"type\":\"scatter\"}],\"scatter3d\":[{\"line\":{\"colorbar\":{\"outlinewidth\":0,\"ticks\":\"\"}},\"marker\":{\"colorbar\":{\"outlinewidth\":0,\"ticks\":\"\"}},\"type\":\"scatter3d\"}],\"scattercarpet\":[{\"marker\":{\"colorbar\":{\"outlinewidth\":0,\"ticks\":\"\"}},\"type\":\"scattercarpet\"}],\"scattergeo\":[{\"marker\":{\"colorbar\":{\"outlinewidth\":0,\"ticks\":\"\"}},\"type\":\"scattergeo\"}],\"scattergl\":[{\"marker\":{\"colorbar\":{\"outlinewidth\":0,\"ticks\":\"\"}},\"type\":\"scattergl\"}],\"scattermapbox\":[{\"marker\":{\"colorbar\":{\"outlinewidth\":0,\"ticks\":\"\"}},\"type\":\"scattermapbox\"}],\"scatterpolar\":[{\"marker\":{\"colorbar\":{\"outlinewidth\":0,\"ticks\":\"\"}},\"type\":\"scatterpolar\"}],\"scatterpolargl\":[{\"marker\":{\"colorbar\":{\"outlinewidth\":0,\"ticks\":\"\"}},\"type\":\"scatterpolargl\"}],\"scatterternary\":[{\"marker\":{\"colorbar\":{\"outlinewidth\":0,\"ticks\":\"\"}},\"type\":\"scatterternary\"}],\"surface\":[{\"colorbar\":{\"outlinewidth\":0,\"ticks\":\"\"},\"colorscale\":[[0.0,\"#0d0887\"],[0.1111111111111111,\"#46039f\"],[0.2222222222222222,\"#7201a8\"],[0.3333333333333333,\"#9c179e\"],[0.4444444444444444,\"#bd3786\"],[0.5555555555555556,\"#d8576b\"],[0.6666666666666666,\"#ed7953\"],[0.7777777777777778,\"#fb9f3a\"],[0.8888888888888888,\"#fdca26\"],[1.0,\"#f0f921\"]],\"type\":\"surface\"}],\"table\":[{\"cells\":{\"fill\":{\"color\":\"#EBF0F8\"},\"line\":{\"color\":\"white\"}},\"header\":{\"fill\":{\"color\":\"#C8D4E3\"},\"line\":{\"color\":\"white\"}},\"type\":\"table\"}]},\"layout\":{\"annotationdefaults\":{\"arrowcolor\":\"#2a3f5f\",\"arrowhead\":0,\"arrowwidth\":1},\"autotypenumbers\":\"strict\",\"coloraxis\":{\"colorbar\":{\"outlinewidth\":0,\"ticks\":\"\"}},\"colorscale\":{\"diverging\":[[0,\"#8e0152\"],[0.1,\"#c51b7d\"],[0.2,\"#de77ae\"],[0.3,\"#f1b6da\"],[0.4,\"#fde0ef\"],[0.5,\"#f7f7f7\"],[0.6,\"#e6f5d0\"],[0.7,\"#b8e186\"],[0.8,\"#7fbc41\"],[0.9,\"#4d9221\"],[1,\"#276419\"]],\"sequential\":[[0.0,\"#0d0887\"],[0.1111111111111111,\"#46039f\"],[0.2222222222222222,\"#7201a8\"],[0.3333333333333333,\"#9c179e\"],[0.4444444444444444,\"#bd3786\"],[0.5555555555555556,\"#d8576b\"],[0.6666666666666666,\"#ed7953\"],[0.7777777777777778,\"#fb9f3a\"],[0.8888888888888888,\"#fdca26\"],[1.0,\"#f0f921\"]],\"sequentialminus\":[[0.0,\"#0d0887\"],[0.1111111111111111,\"#46039f\"],[0.2222222222222222,\"#7201a8\"],[0.3333333333333333,\"#9c179e\"],[0.4444444444444444,\"#bd3786\"],[0.5555555555555556,\"#d8576b\"],[0.6666666666666666,\"#ed7953\"],[0.7777777777777778,\"#fb9f3a\"],[0.8888888888888888,\"#fdca26\"],[1.0,\"#f0f921\"]]},\"colorway\":[\"#636efa\",\"#EF553B\",\"#00cc96\",\"#ab63fa\",\"#FFA15A\",\"#19d3f3\",\"#FF6692\",\"#B6E880\",\"#FF97FF\",\"#FECB52\"],\"font\":{\"color\":\"#2a3f5f\"},\"geo\":{\"bgcolor\":\"white\",\"lakecolor\":\"white\",\"landcolor\":\"#E5ECF6\",\"showlakes\":true,\"showland\":true,\"subunitcolor\":\"white\"},\"hoverlabel\":{\"align\":\"left\"},\"hovermode\":\"closest\",\"mapbox\":{\"style\":\"light\"},\"paper_bgcolor\":\"white\",\"plot_bgcolor\":\"#E5ECF6\",\"polar\":{\"angularaxis\":{\"gridcolor\":\"white\",\"linecolor\":\"white\",\"ticks\":\"\"},\"bgcolor\":\"#E5ECF6\",\"radialaxis\":{\"gridcolor\":\"white\",\"linecolor\":\"white\",\"ticks\":\"\"}},\"scene\":{\"xaxis\":{\"backgroundcolor\":\"#E5ECF6\",\"gridcolor\":\"white\",\"gridwidth\":2,\"linecolor\":\"white\",\"showbackground\":true,\"ticks\":\"\",\"zerolinecolor\":\"white\"},\"yaxis\":{\"backgroundcolor\":\"#E5ECF6\",\"gridcolor\":\"white\",\"gridwidth\":2,\"linecolor\":\"white\",\"showbackground\":true,\"ticks\":\"\",\"zerolinecolor\":\"white\"},\"zaxis\":{\"backgroundcolor\":\"#E5ECF6\",\"gridcolor\":\"white\",\"gridwidth\":2,\"linecolor\":\"white\",\"showbackground\":true,\"ticks\":\"\",\"zerolinecolor\":\"white\"}},\"shapedefaults\":{\"line\":{\"color\":\"#2a3f5f\"}},\"ternary\":{\"aaxis\":{\"gridcolor\":\"white\",\"linecolor\":\"white\",\"ticks\":\"\"},\"baxis\":{\"gridcolor\":\"white\",\"linecolor\":\"white\",\"ticks\":\"\"},\"bgcolor\":\"#E5ECF6\",\"caxis\":{\"gridcolor\":\"white\",\"linecolor\":\"white\",\"ticks\":\"\"}},\"title\":{\"x\":0.05},\"xaxis\":{\"automargin\":true,\"gridcolor\":\"white\",\"linecolor\":\"white\",\"ticks\":\"\",\"title\":{\"standoff\":15},\"zerolinecolor\":\"white\",\"zerolinewidth\":2},\"yaxis\":{\"automargin\":true,\"gridcolor\":\"white\",\"linecolor\":\"white\",\"ticks\":\"\",\"title\":{\"standoff\":15},\"zerolinecolor\":\"white\",\"zerolinewidth\":2}}}},                        {\"responsive\": true}                    ).then(function(){\n",
              "                            \n",
              "var gd = document.getElementById('2a1f7fe6-4211-40fa-b1ab-1c4e4de95979');\n",
              "var x = new MutationObserver(function (mutations, observer) {{\n",
              "        var display = window.getComputedStyle(gd).display;\n",
              "        if (!display || display === 'none') {{\n",
              "            console.log([gd, 'removed!']);\n",
              "            Plotly.purge(gd);\n",
              "            observer.disconnect();\n",
              "        }}\n",
              "}});\n",
              "\n",
              "// Listen for the removal of the full notebook cells\n",
              "var notebookContainer = gd.closest('#notebook-container');\n",
              "if (notebookContainer) {{\n",
              "    x.observe(notebookContainer, {childList: true});\n",
              "}}\n",
              "\n",
              "// Listen for the clearing of the current output cell\n",
              "var outputEl = gd.closest('.output');\n",
              "if (outputEl) {{\n",
              "    x.observe(outputEl, {childList: true});\n",
              "}}\n",
              "\n",
              "                        })                };                            </script>        </div>\n",
              "</body>\n",
              "</html>"
            ]
          },
          "metadata": {},
          "output_type": "display_data"
        }
      ],
      "source": [
        "plot_intermediate_values(study)"
      ]
    },
    {
      "cell_type": "code",
      "execution_count": null,
      "metadata": {
        "colab": {
          "base_uri": "https://localhost:8080/",
          "height": 542
        },
        "id": "LDE-pHolFZcP",
        "outputId": "a3091e07-0414-40b0-f169-a57701f11fd5"
      },
      "outputs": [
        {
          "data": {
            "text/html": [
              "<html>\n",
              "<head><meta charset=\"utf-8\" /></head>\n",
              "<body>\n",
              "    <div>            <script src=\"https://cdnjs.cloudflare.com/ajax/libs/mathjax/2.7.5/MathJax.js?config=TeX-AMS-MML_SVG\"></script><script type=\"text/javascript\">if (window.MathJax) {MathJax.Hub.Config({SVG: {font: \"STIX-Web\"}});}</script>                <script type=\"text/javascript\">window.PlotlyConfig = {MathJaxConfig: 'local'};</script>\n",
              "        <script src=\"https://cdn.plot.ly/plotly-2.8.3.min.js\"></script>                <div id=\"c4374ee7-2c8e-4f09-a2a2-cf51d500a599\" class=\"plotly-graph-div\" style=\"height:525px; width:100%;\"></div>            <script type=\"text/javascript\">                                    window.PLOTLYENV=window.PLOTLYENV || {};                                    if (document.getElementById(\"c4374ee7-2c8e-4f09-a2a2-cf51d500a599\")) {                    Plotly.newPlot(                        \"c4374ee7-2c8e-4f09-a2a2-cf51d500a599\",                        [{\"dimensions\":[{\"label\":\"Objective Value\",\"range\":[0.990990990990991,1.0],\"values\":[1.0,1.0,0.990990990990991,0.990990990990991,0.990990990990991,1.0,0.990990990990991,1.0,1.0,1.0,1.0]},{\"label\":\"alpha\",\"range\":[-4.8391164962533155,-1.4028393812187299],\"ticktext\":[\"1.45e-05\",\"0.0001\",\"0.001\",\"0.01\",\"0.0396\"],\"tickvals\":[-4.8391164962533155,-4,-3,-2,-1.4028393812187299],\"values\":[-3.757055310680973,-2.7920371859541246,-4.8391164962533155,-1.4028393812187299,-4.629221064918697,-3.768007434205493,-1.668886775093316,-2.863263173047335,-2.0034888791431236,-3.383087334142628,-2.46253374164182]}],\"labelangle\":30,\"labelside\":\"bottom\",\"line\":{\"color\":[1.0,1.0,0.990990990990991,0.990990990990991,0.990990990990991,1.0,0.990990990990991,1.0,1.0,1.0,1.0],\"colorbar\":{\"title\":{\"text\":\"Objective Value\"}},\"colorscale\":[[0.0,\"rgb(247,251,255)\"],[0.125,\"rgb(222,235,247)\"],[0.25,\"rgb(198,219,239)\"],[0.375,\"rgb(158,202,225)\"],[0.5,\"rgb(107,174,214)\"],[0.625,\"rgb(66,146,198)\"],[0.75,\"rgb(33,113,181)\"],[0.875,\"rgb(8,81,156)\"],[1.0,\"rgb(8,48,107)\"]],\"reversescale\":true,\"showscale\":true},\"type\":\"parcoords\"}],                        {\"title\":{\"text\":\"Parallel Coordinate Plot\"},\"template\":{\"data\":{\"bar\":[{\"error_x\":{\"color\":\"#2a3f5f\"},\"error_y\":{\"color\":\"#2a3f5f\"},\"marker\":{\"line\":{\"color\":\"#E5ECF6\",\"width\":0.5},\"pattern\":{\"fillmode\":\"overlay\",\"size\":10,\"solidity\":0.2}},\"type\":\"bar\"}],\"barpolar\":[{\"marker\":{\"line\":{\"color\":\"#E5ECF6\",\"width\":0.5},\"pattern\":{\"fillmode\":\"overlay\",\"size\":10,\"solidity\":0.2}},\"type\":\"barpolar\"}],\"carpet\":[{\"aaxis\":{\"endlinecolor\":\"#2a3f5f\",\"gridcolor\":\"white\",\"linecolor\":\"white\",\"minorgridcolor\":\"white\",\"startlinecolor\":\"#2a3f5f\"},\"baxis\":{\"endlinecolor\":\"#2a3f5f\",\"gridcolor\":\"white\",\"linecolor\":\"white\",\"minorgridcolor\":\"white\",\"startlinecolor\":\"#2a3f5f\"},\"type\":\"carpet\"}],\"choropleth\":[{\"colorbar\":{\"outlinewidth\":0,\"ticks\":\"\"},\"type\":\"choropleth\"}],\"contour\":[{\"colorbar\":{\"outlinewidth\":0,\"ticks\":\"\"},\"colorscale\":[[0.0,\"#0d0887\"],[0.1111111111111111,\"#46039f\"],[0.2222222222222222,\"#7201a8\"],[0.3333333333333333,\"#9c179e\"],[0.4444444444444444,\"#bd3786\"],[0.5555555555555556,\"#d8576b\"],[0.6666666666666666,\"#ed7953\"],[0.7777777777777778,\"#fb9f3a\"],[0.8888888888888888,\"#fdca26\"],[1.0,\"#f0f921\"]],\"type\":\"contour\"}],\"contourcarpet\":[{\"colorbar\":{\"outlinewidth\":0,\"ticks\":\"\"},\"type\":\"contourcarpet\"}],\"heatmap\":[{\"colorbar\":{\"outlinewidth\":0,\"ticks\":\"\"},\"colorscale\":[[0.0,\"#0d0887\"],[0.1111111111111111,\"#46039f\"],[0.2222222222222222,\"#7201a8\"],[0.3333333333333333,\"#9c179e\"],[0.4444444444444444,\"#bd3786\"],[0.5555555555555556,\"#d8576b\"],[0.6666666666666666,\"#ed7953\"],[0.7777777777777778,\"#fb9f3a\"],[0.8888888888888888,\"#fdca26\"],[1.0,\"#f0f921\"]],\"type\":\"heatmap\"}],\"heatmapgl\":[{\"colorbar\":{\"outlinewidth\":0,\"ticks\":\"\"},\"colorscale\":[[0.0,\"#0d0887\"],[0.1111111111111111,\"#46039f\"],[0.2222222222222222,\"#7201a8\"],[0.3333333333333333,\"#9c179e\"],[0.4444444444444444,\"#bd3786\"],[0.5555555555555556,\"#d8576b\"],[0.6666666666666666,\"#ed7953\"],[0.7777777777777778,\"#fb9f3a\"],[0.8888888888888888,\"#fdca26\"],[1.0,\"#f0f921\"]],\"type\":\"heatmapgl\"}],\"histogram\":[{\"marker\":{\"pattern\":{\"fillmode\":\"overlay\",\"size\":10,\"solidity\":0.2}},\"type\":\"histogram\"}],\"histogram2d\":[{\"colorbar\":{\"outlinewidth\":0,\"ticks\":\"\"},\"colorscale\":[[0.0,\"#0d0887\"],[0.1111111111111111,\"#46039f\"],[0.2222222222222222,\"#7201a8\"],[0.3333333333333333,\"#9c179e\"],[0.4444444444444444,\"#bd3786\"],[0.5555555555555556,\"#d8576b\"],[0.6666666666666666,\"#ed7953\"],[0.7777777777777778,\"#fb9f3a\"],[0.8888888888888888,\"#fdca26\"],[1.0,\"#f0f921\"]],\"type\":\"histogram2d\"}],\"histogram2dcontour\":[{\"colorbar\":{\"outlinewidth\":0,\"ticks\":\"\"},\"colorscale\":[[0.0,\"#0d0887\"],[0.1111111111111111,\"#46039f\"],[0.2222222222222222,\"#7201a8\"],[0.3333333333333333,\"#9c179e\"],[0.4444444444444444,\"#bd3786\"],[0.5555555555555556,\"#d8576b\"],[0.6666666666666666,\"#ed7953\"],[0.7777777777777778,\"#fb9f3a\"],[0.8888888888888888,\"#fdca26\"],[1.0,\"#f0f921\"]],\"type\":\"histogram2dcontour\"}],\"mesh3d\":[{\"colorbar\":{\"outlinewidth\":0,\"ticks\":\"\"},\"type\":\"mesh3d\"}],\"parcoords\":[{\"line\":{\"colorbar\":{\"outlinewidth\":0,\"ticks\":\"\"}},\"type\":\"parcoords\"}],\"pie\":[{\"automargin\":true,\"type\":\"pie\"}],\"scatter\":[{\"marker\":{\"colorbar\":{\"outlinewidth\":0,\"ticks\":\"\"}},\"type\":\"scatter\"}],\"scatter3d\":[{\"line\":{\"colorbar\":{\"outlinewidth\":0,\"ticks\":\"\"}},\"marker\":{\"colorbar\":{\"outlinewidth\":0,\"ticks\":\"\"}},\"type\":\"scatter3d\"}],\"scattercarpet\":[{\"marker\":{\"colorbar\":{\"outlinewidth\":0,\"ticks\":\"\"}},\"type\":\"scattercarpet\"}],\"scattergeo\":[{\"marker\":{\"colorbar\":{\"outlinewidth\":0,\"ticks\":\"\"}},\"type\":\"scattergeo\"}],\"scattergl\":[{\"marker\":{\"colorbar\":{\"outlinewidth\":0,\"ticks\":\"\"}},\"type\":\"scattergl\"}],\"scattermapbox\":[{\"marker\":{\"colorbar\":{\"outlinewidth\":0,\"ticks\":\"\"}},\"type\":\"scattermapbox\"}],\"scatterpolar\":[{\"marker\":{\"colorbar\":{\"outlinewidth\":0,\"ticks\":\"\"}},\"type\":\"scatterpolar\"}],\"scatterpolargl\":[{\"marker\":{\"colorbar\":{\"outlinewidth\":0,\"ticks\":\"\"}},\"type\":\"scatterpolargl\"}],\"scatterternary\":[{\"marker\":{\"colorbar\":{\"outlinewidth\":0,\"ticks\":\"\"}},\"type\":\"scatterternary\"}],\"surface\":[{\"colorbar\":{\"outlinewidth\":0,\"ticks\":\"\"},\"colorscale\":[[0.0,\"#0d0887\"],[0.1111111111111111,\"#46039f\"],[0.2222222222222222,\"#7201a8\"],[0.3333333333333333,\"#9c179e\"],[0.4444444444444444,\"#bd3786\"],[0.5555555555555556,\"#d8576b\"],[0.6666666666666666,\"#ed7953\"],[0.7777777777777778,\"#fb9f3a\"],[0.8888888888888888,\"#fdca26\"],[1.0,\"#f0f921\"]],\"type\":\"surface\"}],\"table\":[{\"cells\":{\"fill\":{\"color\":\"#EBF0F8\"},\"line\":{\"color\":\"white\"}},\"header\":{\"fill\":{\"color\":\"#C8D4E3\"},\"line\":{\"color\":\"white\"}},\"type\":\"table\"}]},\"layout\":{\"annotationdefaults\":{\"arrowcolor\":\"#2a3f5f\",\"arrowhead\":0,\"arrowwidth\":1},\"autotypenumbers\":\"strict\",\"coloraxis\":{\"colorbar\":{\"outlinewidth\":0,\"ticks\":\"\"}},\"colorscale\":{\"diverging\":[[0,\"#8e0152\"],[0.1,\"#c51b7d\"],[0.2,\"#de77ae\"],[0.3,\"#f1b6da\"],[0.4,\"#fde0ef\"],[0.5,\"#f7f7f7\"],[0.6,\"#e6f5d0\"],[0.7,\"#b8e186\"],[0.8,\"#7fbc41\"],[0.9,\"#4d9221\"],[1,\"#276419\"]],\"sequential\":[[0.0,\"#0d0887\"],[0.1111111111111111,\"#46039f\"],[0.2222222222222222,\"#7201a8\"],[0.3333333333333333,\"#9c179e\"],[0.4444444444444444,\"#bd3786\"],[0.5555555555555556,\"#d8576b\"],[0.6666666666666666,\"#ed7953\"],[0.7777777777777778,\"#fb9f3a\"],[0.8888888888888888,\"#fdca26\"],[1.0,\"#f0f921\"]],\"sequentialminus\":[[0.0,\"#0d0887\"],[0.1111111111111111,\"#46039f\"],[0.2222222222222222,\"#7201a8\"],[0.3333333333333333,\"#9c179e\"],[0.4444444444444444,\"#bd3786\"],[0.5555555555555556,\"#d8576b\"],[0.6666666666666666,\"#ed7953\"],[0.7777777777777778,\"#fb9f3a\"],[0.8888888888888888,\"#fdca26\"],[1.0,\"#f0f921\"]]},\"colorway\":[\"#636efa\",\"#EF553B\",\"#00cc96\",\"#ab63fa\",\"#FFA15A\",\"#19d3f3\",\"#FF6692\",\"#B6E880\",\"#FF97FF\",\"#FECB52\"],\"font\":{\"color\":\"#2a3f5f\"},\"geo\":{\"bgcolor\":\"white\",\"lakecolor\":\"white\",\"landcolor\":\"#E5ECF6\",\"showlakes\":true,\"showland\":true,\"subunitcolor\":\"white\"},\"hoverlabel\":{\"align\":\"left\"},\"hovermode\":\"closest\",\"mapbox\":{\"style\":\"light\"},\"paper_bgcolor\":\"white\",\"plot_bgcolor\":\"#E5ECF6\",\"polar\":{\"angularaxis\":{\"gridcolor\":\"white\",\"linecolor\":\"white\",\"ticks\":\"\"},\"bgcolor\":\"#E5ECF6\",\"radialaxis\":{\"gridcolor\":\"white\",\"linecolor\":\"white\",\"ticks\":\"\"}},\"scene\":{\"xaxis\":{\"backgroundcolor\":\"#E5ECF6\",\"gridcolor\":\"white\",\"gridwidth\":2,\"linecolor\":\"white\",\"showbackground\":true,\"ticks\":\"\",\"zerolinecolor\":\"white\"},\"yaxis\":{\"backgroundcolor\":\"#E5ECF6\",\"gridcolor\":\"white\",\"gridwidth\":2,\"linecolor\":\"white\",\"showbackground\":true,\"ticks\":\"\",\"zerolinecolor\":\"white\"},\"zaxis\":{\"backgroundcolor\":\"#E5ECF6\",\"gridcolor\":\"white\",\"gridwidth\":2,\"linecolor\":\"white\",\"showbackground\":true,\"ticks\":\"\",\"zerolinecolor\":\"white\"}},\"shapedefaults\":{\"line\":{\"color\":\"#2a3f5f\"}},\"ternary\":{\"aaxis\":{\"gridcolor\":\"white\",\"linecolor\":\"white\",\"ticks\":\"\"},\"baxis\":{\"gridcolor\":\"white\",\"linecolor\":\"white\",\"ticks\":\"\"},\"bgcolor\":\"#E5ECF6\",\"caxis\":{\"gridcolor\":\"white\",\"linecolor\":\"white\",\"ticks\":\"\"}},\"title\":{\"x\":0.05},\"xaxis\":{\"automargin\":true,\"gridcolor\":\"white\",\"linecolor\":\"white\",\"ticks\":\"\",\"title\":{\"standoff\":15},\"zerolinecolor\":\"white\",\"zerolinewidth\":2},\"yaxis\":{\"automargin\":true,\"gridcolor\":\"white\",\"linecolor\":\"white\",\"ticks\":\"\",\"title\":{\"standoff\":15},\"zerolinecolor\":\"white\",\"zerolinewidth\":2}}}},                        {\"responsive\": true}                    ).then(function(){\n",
              "                            \n",
              "var gd = document.getElementById('c4374ee7-2c8e-4f09-a2a2-cf51d500a599');\n",
              "var x = new MutationObserver(function (mutations, observer) {{\n",
              "        var display = window.getComputedStyle(gd).display;\n",
              "        if (!display || display === 'none') {{\n",
              "            console.log([gd, 'removed!']);\n",
              "            Plotly.purge(gd);\n",
              "            observer.disconnect();\n",
              "        }}\n",
              "}});\n",
              "\n",
              "// Listen for the removal of the full notebook cells\n",
              "var notebookContainer = gd.closest('#notebook-container');\n",
              "if (notebookContainer) {{\n",
              "    x.observe(notebookContainer, {childList: true});\n",
              "}}\n",
              "\n",
              "// Listen for the clearing of the current output cell\n",
              "var outputEl = gd.closest('.output');\n",
              "if (outputEl) {{\n",
              "    x.observe(outputEl, {childList: true});\n",
              "}}\n",
              "\n",
              "                        })                };                            </script>        </div>\n",
              "</body>\n",
              "</html>"
            ]
          },
          "metadata": {},
          "output_type": "display_data"
        }
      ],
      "source": [
        "plot_parallel_coordinate(study)"
      ]
    },
    {
      "cell_type": "code",
      "execution_count": null,
      "metadata": {
        "colab": {
          "base_uri": "https://localhost:8080/",
          "height": 542
        },
        "id": "SJLv78IqFaJm",
        "outputId": "280e77e4-bbc5-4f37-82ab-8e720b54dae6"
      },
      "outputs": [
        {
          "data": {
            "text/html": [
              "<html>\n",
              "<head><meta charset=\"utf-8\" /></head>\n",
              "<body>\n",
              "    <div>            <script src=\"https://cdnjs.cloudflare.com/ajax/libs/mathjax/2.7.5/MathJax.js?config=TeX-AMS-MML_SVG\"></script><script type=\"text/javascript\">if (window.MathJax) {MathJax.Hub.Config({SVG: {font: \"STIX-Web\"}});}</script>                <script type=\"text/javascript\">window.PlotlyConfig = {MathJaxConfig: 'local'};</script>\n",
              "        <script src=\"https://cdn.plot.ly/plotly-2.8.3.min.js\"></script>                <div id=\"2e27d68c-f888-451d-aefc-c2999b18aa29\" class=\"plotly-graph-div\" style=\"height:525px; width:100%;\"></div>            <script type=\"text/javascript\">                                    window.PLOTLYENV=window.PLOTLYENV || {};                                    if (document.getElementById(\"2e27d68c-f888-451d-aefc-c2999b18aa29\")) {                    Plotly.newPlot(                        \"2e27d68c-f888-451d-aefc-c2999b18aa29\",                        [{\"marker\":{\"color\":[0,1,2,3,4,8,14,15,17,18,19],\"colorbar\":{\"title\":{\"text\":\"Trial\"},\"x\":1.0,\"xpad\":40},\"colorscale\":[[0.0,\"rgb(247,251,255)\"],[0.125,\"rgb(222,235,247)\"],[0.25,\"rgb(198,219,239)\"],[0.375,\"rgb(158,202,225)\"],[0.5,\"rgb(107,174,214)\"],[0.625,\"rgb(66,146,198)\"],[0.75,\"rgb(33,113,181)\"],[0.875,\"rgb(8,81,156)\"],[1.0,\"rgb(8,48,107)\"]],\"line\":{\"color\":\"Grey\",\"width\":0.5}},\"mode\":\"markers\",\"showlegend\":false,\"x\":[0.00017496238466290127,0.0016142203351917478,1.4483832834261326e-05,0.03955128688733634,2.3484371132479736e-05,0.0001706053184721144,0.021434493469228568,0.0013700512931635281,0.009919987407471208,0.00041391643021731144,0.003447198232149919],\"y\":[1.0,1.0,0.990990990990991,0.990990990990991,0.990990990990991,1.0,0.990990990990991,1.0,1.0,1.0,1.0],\"type\":\"scatter\"}],                        {\"title\":{\"text\":\"Slice Plot\"},\"template\":{\"data\":{\"bar\":[{\"error_x\":{\"color\":\"#2a3f5f\"},\"error_y\":{\"color\":\"#2a3f5f\"},\"marker\":{\"line\":{\"color\":\"#E5ECF6\",\"width\":0.5},\"pattern\":{\"fillmode\":\"overlay\",\"size\":10,\"solidity\":0.2}},\"type\":\"bar\"}],\"barpolar\":[{\"marker\":{\"line\":{\"color\":\"#E5ECF6\",\"width\":0.5},\"pattern\":{\"fillmode\":\"overlay\",\"size\":10,\"solidity\":0.2}},\"type\":\"barpolar\"}],\"carpet\":[{\"aaxis\":{\"endlinecolor\":\"#2a3f5f\",\"gridcolor\":\"white\",\"linecolor\":\"white\",\"minorgridcolor\":\"white\",\"startlinecolor\":\"#2a3f5f\"},\"baxis\":{\"endlinecolor\":\"#2a3f5f\",\"gridcolor\":\"white\",\"linecolor\":\"white\",\"minorgridcolor\":\"white\",\"startlinecolor\":\"#2a3f5f\"},\"type\":\"carpet\"}],\"choropleth\":[{\"colorbar\":{\"outlinewidth\":0,\"ticks\":\"\"},\"type\":\"choropleth\"}],\"contour\":[{\"colorbar\":{\"outlinewidth\":0,\"ticks\":\"\"},\"colorscale\":[[0.0,\"#0d0887\"],[0.1111111111111111,\"#46039f\"],[0.2222222222222222,\"#7201a8\"],[0.3333333333333333,\"#9c179e\"],[0.4444444444444444,\"#bd3786\"],[0.5555555555555556,\"#d8576b\"],[0.6666666666666666,\"#ed7953\"],[0.7777777777777778,\"#fb9f3a\"],[0.8888888888888888,\"#fdca26\"],[1.0,\"#f0f921\"]],\"type\":\"contour\"}],\"contourcarpet\":[{\"colorbar\":{\"outlinewidth\":0,\"ticks\":\"\"},\"type\":\"contourcarpet\"}],\"heatmap\":[{\"colorbar\":{\"outlinewidth\":0,\"ticks\":\"\"},\"colorscale\":[[0.0,\"#0d0887\"],[0.1111111111111111,\"#46039f\"],[0.2222222222222222,\"#7201a8\"],[0.3333333333333333,\"#9c179e\"],[0.4444444444444444,\"#bd3786\"],[0.5555555555555556,\"#d8576b\"],[0.6666666666666666,\"#ed7953\"],[0.7777777777777778,\"#fb9f3a\"],[0.8888888888888888,\"#fdca26\"],[1.0,\"#f0f921\"]],\"type\":\"heatmap\"}],\"heatmapgl\":[{\"colorbar\":{\"outlinewidth\":0,\"ticks\":\"\"},\"colorscale\":[[0.0,\"#0d0887\"],[0.1111111111111111,\"#46039f\"],[0.2222222222222222,\"#7201a8\"],[0.3333333333333333,\"#9c179e\"],[0.4444444444444444,\"#bd3786\"],[0.5555555555555556,\"#d8576b\"],[0.6666666666666666,\"#ed7953\"],[0.7777777777777778,\"#fb9f3a\"],[0.8888888888888888,\"#fdca26\"],[1.0,\"#f0f921\"]],\"type\":\"heatmapgl\"}],\"histogram\":[{\"marker\":{\"pattern\":{\"fillmode\":\"overlay\",\"size\":10,\"solidity\":0.2}},\"type\":\"histogram\"}],\"histogram2d\":[{\"colorbar\":{\"outlinewidth\":0,\"ticks\":\"\"},\"colorscale\":[[0.0,\"#0d0887\"],[0.1111111111111111,\"#46039f\"],[0.2222222222222222,\"#7201a8\"],[0.3333333333333333,\"#9c179e\"],[0.4444444444444444,\"#bd3786\"],[0.5555555555555556,\"#d8576b\"],[0.6666666666666666,\"#ed7953\"],[0.7777777777777778,\"#fb9f3a\"],[0.8888888888888888,\"#fdca26\"],[1.0,\"#f0f921\"]],\"type\":\"histogram2d\"}],\"histogram2dcontour\":[{\"colorbar\":{\"outlinewidth\":0,\"ticks\":\"\"},\"colorscale\":[[0.0,\"#0d0887\"],[0.1111111111111111,\"#46039f\"],[0.2222222222222222,\"#7201a8\"],[0.3333333333333333,\"#9c179e\"],[0.4444444444444444,\"#bd3786\"],[0.5555555555555556,\"#d8576b\"],[0.6666666666666666,\"#ed7953\"],[0.7777777777777778,\"#fb9f3a\"],[0.8888888888888888,\"#fdca26\"],[1.0,\"#f0f921\"]],\"type\":\"histogram2dcontour\"}],\"mesh3d\":[{\"colorbar\":{\"outlinewidth\":0,\"ticks\":\"\"},\"type\":\"mesh3d\"}],\"parcoords\":[{\"line\":{\"colorbar\":{\"outlinewidth\":0,\"ticks\":\"\"}},\"type\":\"parcoords\"}],\"pie\":[{\"automargin\":true,\"type\":\"pie\"}],\"scatter\":[{\"marker\":{\"colorbar\":{\"outlinewidth\":0,\"ticks\":\"\"}},\"type\":\"scatter\"}],\"scatter3d\":[{\"line\":{\"colorbar\":{\"outlinewidth\":0,\"ticks\":\"\"}},\"marker\":{\"colorbar\":{\"outlinewidth\":0,\"ticks\":\"\"}},\"type\":\"scatter3d\"}],\"scattercarpet\":[{\"marker\":{\"colorbar\":{\"outlinewidth\":0,\"ticks\":\"\"}},\"type\":\"scattercarpet\"}],\"scattergeo\":[{\"marker\":{\"colorbar\":{\"outlinewidth\":0,\"ticks\":\"\"}},\"type\":\"scattergeo\"}],\"scattergl\":[{\"marker\":{\"colorbar\":{\"outlinewidth\":0,\"ticks\":\"\"}},\"type\":\"scattergl\"}],\"scattermapbox\":[{\"marker\":{\"colorbar\":{\"outlinewidth\":0,\"ticks\":\"\"}},\"type\":\"scattermapbox\"}],\"scatterpolar\":[{\"marker\":{\"colorbar\":{\"outlinewidth\":0,\"ticks\":\"\"}},\"type\":\"scatterpolar\"}],\"scatterpolargl\":[{\"marker\":{\"colorbar\":{\"outlinewidth\":0,\"ticks\":\"\"}},\"type\":\"scatterpolargl\"}],\"scatterternary\":[{\"marker\":{\"colorbar\":{\"outlinewidth\":0,\"ticks\":\"\"}},\"type\":\"scatterternary\"}],\"surface\":[{\"colorbar\":{\"outlinewidth\":0,\"ticks\":\"\"},\"colorscale\":[[0.0,\"#0d0887\"],[0.1111111111111111,\"#46039f\"],[0.2222222222222222,\"#7201a8\"],[0.3333333333333333,\"#9c179e\"],[0.4444444444444444,\"#bd3786\"],[0.5555555555555556,\"#d8576b\"],[0.6666666666666666,\"#ed7953\"],[0.7777777777777778,\"#fb9f3a\"],[0.8888888888888888,\"#fdca26\"],[1.0,\"#f0f921\"]],\"type\":\"surface\"}],\"table\":[{\"cells\":{\"fill\":{\"color\":\"#EBF0F8\"},\"line\":{\"color\":\"white\"}},\"header\":{\"fill\":{\"color\":\"#C8D4E3\"},\"line\":{\"color\":\"white\"}},\"type\":\"table\"}]},\"layout\":{\"annotationdefaults\":{\"arrowcolor\":\"#2a3f5f\",\"arrowhead\":0,\"arrowwidth\":1},\"autotypenumbers\":\"strict\",\"coloraxis\":{\"colorbar\":{\"outlinewidth\":0,\"ticks\":\"\"}},\"colorscale\":{\"diverging\":[[0,\"#8e0152\"],[0.1,\"#c51b7d\"],[0.2,\"#de77ae\"],[0.3,\"#f1b6da\"],[0.4,\"#fde0ef\"],[0.5,\"#f7f7f7\"],[0.6,\"#e6f5d0\"],[0.7,\"#b8e186\"],[0.8,\"#7fbc41\"],[0.9,\"#4d9221\"],[1,\"#276419\"]],\"sequential\":[[0.0,\"#0d0887\"],[0.1111111111111111,\"#46039f\"],[0.2222222222222222,\"#7201a8\"],[0.3333333333333333,\"#9c179e\"],[0.4444444444444444,\"#bd3786\"],[0.5555555555555556,\"#d8576b\"],[0.6666666666666666,\"#ed7953\"],[0.7777777777777778,\"#fb9f3a\"],[0.8888888888888888,\"#fdca26\"],[1.0,\"#f0f921\"]],\"sequentialminus\":[[0.0,\"#0d0887\"],[0.1111111111111111,\"#46039f\"],[0.2222222222222222,\"#7201a8\"],[0.3333333333333333,\"#9c179e\"],[0.4444444444444444,\"#bd3786\"],[0.5555555555555556,\"#d8576b\"],[0.6666666666666666,\"#ed7953\"],[0.7777777777777778,\"#fb9f3a\"],[0.8888888888888888,\"#fdca26\"],[1.0,\"#f0f921\"]]},\"colorway\":[\"#636efa\",\"#EF553B\",\"#00cc96\",\"#ab63fa\",\"#FFA15A\",\"#19d3f3\",\"#FF6692\",\"#B6E880\",\"#FF97FF\",\"#FECB52\"],\"font\":{\"color\":\"#2a3f5f\"},\"geo\":{\"bgcolor\":\"white\",\"lakecolor\":\"white\",\"landcolor\":\"#E5ECF6\",\"showlakes\":true,\"showland\":true,\"subunitcolor\":\"white\"},\"hoverlabel\":{\"align\":\"left\"},\"hovermode\":\"closest\",\"mapbox\":{\"style\":\"light\"},\"paper_bgcolor\":\"white\",\"plot_bgcolor\":\"#E5ECF6\",\"polar\":{\"angularaxis\":{\"gridcolor\":\"white\",\"linecolor\":\"white\",\"ticks\":\"\"},\"bgcolor\":\"#E5ECF6\",\"radialaxis\":{\"gridcolor\":\"white\",\"linecolor\":\"white\",\"ticks\":\"\"}},\"scene\":{\"xaxis\":{\"backgroundcolor\":\"#E5ECF6\",\"gridcolor\":\"white\",\"gridwidth\":2,\"linecolor\":\"white\",\"showbackground\":true,\"ticks\":\"\",\"zerolinecolor\":\"white\"},\"yaxis\":{\"backgroundcolor\":\"#E5ECF6\",\"gridcolor\":\"white\",\"gridwidth\":2,\"linecolor\":\"white\",\"showbackground\":true,\"ticks\":\"\",\"zerolinecolor\":\"white\"},\"zaxis\":{\"backgroundcolor\":\"#E5ECF6\",\"gridcolor\":\"white\",\"gridwidth\":2,\"linecolor\":\"white\",\"showbackground\":true,\"ticks\":\"\",\"zerolinecolor\":\"white\"}},\"shapedefaults\":{\"line\":{\"color\":\"#2a3f5f\"}},\"ternary\":{\"aaxis\":{\"gridcolor\":\"white\",\"linecolor\":\"white\",\"ticks\":\"\"},\"baxis\":{\"gridcolor\":\"white\",\"linecolor\":\"white\",\"ticks\":\"\"},\"bgcolor\":\"#E5ECF6\",\"caxis\":{\"gridcolor\":\"white\",\"linecolor\":\"white\",\"ticks\":\"\"}},\"title\":{\"x\":0.05},\"xaxis\":{\"automargin\":true,\"gridcolor\":\"white\",\"linecolor\":\"white\",\"ticks\":\"\",\"title\":{\"standoff\":15},\"zerolinecolor\":\"white\",\"zerolinewidth\":2},\"yaxis\":{\"automargin\":true,\"gridcolor\":\"white\",\"linecolor\":\"white\",\"ticks\":\"\",\"title\":{\"standoff\":15},\"zerolinecolor\":\"white\",\"zerolinewidth\":2}}},\"xaxis\":{\"title\":{\"text\":\"alpha\"},\"type\":\"log\"},\"yaxis\":{\"title\":{\"text\":\"Objective Value\"}}},                        {\"responsive\": true}                    ).then(function(){\n",
              "                            \n",
              "var gd = document.getElementById('2e27d68c-f888-451d-aefc-c2999b18aa29');\n",
              "var x = new MutationObserver(function (mutations, observer) {{\n",
              "        var display = window.getComputedStyle(gd).display;\n",
              "        if (!display || display === 'none') {{\n",
              "            console.log([gd, 'removed!']);\n",
              "            Plotly.purge(gd);\n",
              "            observer.disconnect();\n",
              "        }}\n",
              "}});\n",
              "\n",
              "// Listen for the removal of the full notebook cells\n",
              "var notebookContainer = gd.closest('#notebook-container');\n",
              "if (notebookContainer) {{\n",
              "    x.observe(notebookContainer, {childList: true});\n",
              "}}\n",
              "\n",
              "// Listen for the clearing of the current output cell\n",
              "var outputEl = gd.closest('.output');\n",
              "if (outputEl) {{\n",
              "    x.observe(outputEl, {childList: true});\n",
              "}}\n",
              "\n",
              "                        })                };                            </script>        </div>\n",
              "</body>\n",
              "</html>"
            ]
          },
          "metadata": {},
          "output_type": "display_data"
        }
      ],
      "source": [
        "plot_slice(study)"
      ]
    },
    {
      "cell_type": "code",
      "execution_count": null,
      "metadata": {
        "colab": {
          "base_uri": "https://localhost:8080/",
          "height": 542
        },
        "id": "S-NQJhihFaOh",
        "outputId": "682c8fbc-a05d-4aa8-e5a9-2c62e56b41a6"
      },
      "outputs": [
        {
          "data": {
            "text/html": [
              "<html>\n",
              "<head><meta charset=\"utf-8\" /></head>\n",
              "<body>\n",
              "    <div>            <script src=\"https://cdnjs.cloudflare.com/ajax/libs/mathjax/2.7.5/MathJax.js?config=TeX-AMS-MML_SVG\"></script><script type=\"text/javascript\">if (window.MathJax) {MathJax.Hub.Config({SVG: {font: \"STIX-Web\"}});}</script>                <script type=\"text/javascript\">window.PlotlyConfig = {MathJaxConfig: 'local'};</script>\n",
              "        <script src=\"https://cdn.plot.ly/plotly-2.8.3.min.js\"></script>                <div id=\"b4d47ea2-5e68-41dc-9262-e8aa8edc10c5\" class=\"plotly-graph-div\" style=\"height:525px; width:100%;\"></div>            <script type=\"text/javascript\">                                    window.PLOTLYENV=window.PLOTLYENV || {};                                    if (document.getElementById(\"b4d47ea2-5e68-41dc-9262-e8aa8edc10c5\")) {                    Plotly.newPlot(                        \"b4d47ea2-5e68-41dc-9262-e8aa8edc10c5\",                        [{\"cliponaxis\":false,\"hovertemplate\":[\"alpha (FloatDistribution): 1.0<extra></extra>\"],\"marker\":{\"color\":\"rgb(66,146,198)\"},\"orientation\":\"h\",\"text\":[\"1.00\"],\"textposition\":\"outside\",\"x\":[1.0],\"y\":[\"alpha\"],\"type\":\"bar\"}],                        {\"showlegend\":false,\"title\":{\"text\":\"Hyperparameter Importances\"},\"xaxis\":{\"title\":{\"text\":\"Importance for Objective Value\"}},\"yaxis\":{\"title\":{\"text\":\"Hyperparameter\"}},\"template\":{\"data\":{\"bar\":[{\"error_x\":{\"color\":\"#2a3f5f\"},\"error_y\":{\"color\":\"#2a3f5f\"},\"marker\":{\"line\":{\"color\":\"#E5ECF6\",\"width\":0.5},\"pattern\":{\"fillmode\":\"overlay\",\"size\":10,\"solidity\":0.2}},\"type\":\"bar\"}],\"barpolar\":[{\"marker\":{\"line\":{\"color\":\"#E5ECF6\",\"width\":0.5},\"pattern\":{\"fillmode\":\"overlay\",\"size\":10,\"solidity\":0.2}},\"type\":\"barpolar\"}],\"carpet\":[{\"aaxis\":{\"endlinecolor\":\"#2a3f5f\",\"gridcolor\":\"white\",\"linecolor\":\"white\",\"minorgridcolor\":\"white\",\"startlinecolor\":\"#2a3f5f\"},\"baxis\":{\"endlinecolor\":\"#2a3f5f\",\"gridcolor\":\"white\",\"linecolor\":\"white\",\"minorgridcolor\":\"white\",\"startlinecolor\":\"#2a3f5f\"},\"type\":\"carpet\"}],\"choropleth\":[{\"colorbar\":{\"outlinewidth\":0,\"ticks\":\"\"},\"type\":\"choropleth\"}],\"contour\":[{\"colorbar\":{\"outlinewidth\":0,\"ticks\":\"\"},\"colorscale\":[[0.0,\"#0d0887\"],[0.1111111111111111,\"#46039f\"],[0.2222222222222222,\"#7201a8\"],[0.3333333333333333,\"#9c179e\"],[0.4444444444444444,\"#bd3786\"],[0.5555555555555556,\"#d8576b\"],[0.6666666666666666,\"#ed7953\"],[0.7777777777777778,\"#fb9f3a\"],[0.8888888888888888,\"#fdca26\"],[1.0,\"#f0f921\"]],\"type\":\"contour\"}],\"contourcarpet\":[{\"colorbar\":{\"outlinewidth\":0,\"ticks\":\"\"},\"type\":\"contourcarpet\"}],\"heatmap\":[{\"colorbar\":{\"outlinewidth\":0,\"ticks\":\"\"},\"colorscale\":[[0.0,\"#0d0887\"],[0.1111111111111111,\"#46039f\"],[0.2222222222222222,\"#7201a8\"],[0.3333333333333333,\"#9c179e\"],[0.4444444444444444,\"#bd3786\"],[0.5555555555555556,\"#d8576b\"],[0.6666666666666666,\"#ed7953\"],[0.7777777777777778,\"#fb9f3a\"],[0.8888888888888888,\"#fdca26\"],[1.0,\"#f0f921\"]],\"type\":\"heatmap\"}],\"heatmapgl\":[{\"colorbar\":{\"outlinewidth\":0,\"ticks\":\"\"},\"colorscale\":[[0.0,\"#0d0887\"],[0.1111111111111111,\"#46039f\"],[0.2222222222222222,\"#7201a8\"],[0.3333333333333333,\"#9c179e\"],[0.4444444444444444,\"#bd3786\"],[0.5555555555555556,\"#d8576b\"],[0.6666666666666666,\"#ed7953\"],[0.7777777777777778,\"#fb9f3a\"],[0.8888888888888888,\"#fdca26\"],[1.0,\"#f0f921\"]],\"type\":\"heatmapgl\"}],\"histogram\":[{\"marker\":{\"pattern\":{\"fillmode\":\"overlay\",\"size\":10,\"solidity\":0.2}},\"type\":\"histogram\"}],\"histogram2d\":[{\"colorbar\":{\"outlinewidth\":0,\"ticks\":\"\"},\"colorscale\":[[0.0,\"#0d0887\"],[0.1111111111111111,\"#46039f\"],[0.2222222222222222,\"#7201a8\"],[0.3333333333333333,\"#9c179e\"],[0.4444444444444444,\"#bd3786\"],[0.5555555555555556,\"#d8576b\"],[0.6666666666666666,\"#ed7953\"],[0.7777777777777778,\"#fb9f3a\"],[0.8888888888888888,\"#fdca26\"],[1.0,\"#f0f921\"]],\"type\":\"histogram2d\"}],\"histogram2dcontour\":[{\"colorbar\":{\"outlinewidth\":0,\"ticks\":\"\"},\"colorscale\":[[0.0,\"#0d0887\"],[0.1111111111111111,\"#46039f\"],[0.2222222222222222,\"#7201a8\"],[0.3333333333333333,\"#9c179e\"],[0.4444444444444444,\"#bd3786\"],[0.5555555555555556,\"#d8576b\"],[0.6666666666666666,\"#ed7953\"],[0.7777777777777778,\"#fb9f3a\"],[0.8888888888888888,\"#fdca26\"],[1.0,\"#f0f921\"]],\"type\":\"histogram2dcontour\"}],\"mesh3d\":[{\"colorbar\":{\"outlinewidth\":0,\"ticks\":\"\"},\"type\":\"mesh3d\"}],\"parcoords\":[{\"line\":{\"colorbar\":{\"outlinewidth\":0,\"ticks\":\"\"}},\"type\":\"parcoords\"}],\"pie\":[{\"automargin\":true,\"type\":\"pie\"}],\"scatter\":[{\"marker\":{\"colorbar\":{\"outlinewidth\":0,\"ticks\":\"\"}},\"type\":\"scatter\"}],\"scatter3d\":[{\"line\":{\"colorbar\":{\"outlinewidth\":0,\"ticks\":\"\"}},\"marker\":{\"colorbar\":{\"outlinewidth\":0,\"ticks\":\"\"}},\"type\":\"scatter3d\"}],\"scattercarpet\":[{\"marker\":{\"colorbar\":{\"outlinewidth\":0,\"ticks\":\"\"}},\"type\":\"scattercarpet\"}],\"scattergeo\":[{\"marker\":{\"colorbar\":{\"outlinewidth\":0,\"ticks\":\"\"}},\"type\":\"scattergeo\"}],\"scattergl\":[{\"marker\":{\"colorbar\":{\"outlinewidth\":0,\"ticks\":\"\"}},\"type\":\"scattergl\"}],\"scattermapbox\":[{\"marker\":{\"colorbar\":{\"outlinewidth\":0,\"ticks\":\"\"}},\"type\":\"scattermapbox\"}],\"scatterpolar\":[{\"marker\":{\"colorbar\":{\"outlinewidth\":0,\"ticks\":\"\"}},\"type\":\"scatterpolar\"}],\"scatterpolargl\":[{\"marker\":{\"colorbar\":{\"outlinewidth\":0,\"ticks\":\"\"}},\"type\":\"scatterpolargl\"}],\"scatterternary\":[{\"marker\":{\"colorbar\":{\"outlinewidth\":0,\"ticks\":\"\"}},\"type\":\"scatterternary\"}],\"surface\":[{\"colorbar\":{\"outlinewidth\":0,\"ticks\":\"\"},\"colorscale\":[[0.0,\"#0d0887\"],[0.1111111111111111,\"#46039f\"],[0.2222222222222222,\"#7201a8\"],[0.3333333333333333,\"#9c179e\"],[0.4444444444444444,\"#bd3786\"],[0.5555555555555556,\"#d8576b\"],[0.6666666666666666,\"#ed7953\"],[0.7777777777777778,\"#fb9f3a\"],[0.8888888888888888,\"#fdca26\"],[1.0,\"#f0f921\"]],\"type\":\"surface\"}],\"table\":[{\"cells\":{\"fill\":{\"color\":\"#EBF0F8\"},\"line\":{\"color\":\"white\"}},\"header\":{\"fill\":{\"color\":\"#C8D4E3\"},\"line\":{\"color\":\"white\"}},\"type\":\"table\"}]},\"layout\":{\"annotationdefaults\":{\"arrowcolor\":\"#2a3f5f\",\"arrowhead\":0,\"arrowwidth\":1},\"autotypenumbers\":\"strict\",\"coloraxis\":{\"colorbar\":{\"outlinewidth\":0,\"ticks\":\"\"}},\"colorscale\":{\"diverging\":[[0,\"#8e0152\"],[0.1,\"#c51b7d\"],[0.2,\"#de77ae\"],[0.3,\"#f1b6da\"],[0.4,\"#fde0ef\"],[0.5,\"#f7f7f7\"],[0.6,\"#e6f5d0\"],[0.7,\"#b8e186\"],[0.8,\"#7fbc41\"],[0.9,\"#4d9221\"],[1,\"#276419\"]],\"sequential\":[[0.0,\"#0d0887\"],[0.1111111111111111,\"#46039f\"],[0.2222222222222222,\"#7201a8\"],[0.3333333333333333,\"#9c179e\"],[0.4444444444444444,\"#bd3786\"],[0.5555555555555556,\"#d8576b\"],[0.6666666666666666,\"#ed7953\"],[0.7777777777777778,\"#fb9f3a\"],[0.8888888888888888,\"#fdca26\"],[1.0,\"#f0f921\"]],\"sequentialminus\":[[0.0,\"#0d0887\"],[0.1111111111111111,\"#46039f\"],[0.2222222222222222,\"#7201a8\"],[0.3333333333333333,\"#9c179e\"],[0.4444444444444444,\"#bd3786\"],[0.5555555555555556,\"#d8576b\"],[0.6666666666666666,\"#ed7953\"],[0.7777777777777778,\"#fb9f3a\"],[0.8888888888888888,\"#fdca26\"],[1.0,\"#f0f921\"]]},\"colorway\":[\"#636efa\",\"#EF553B\",\"#00cc96\",\"#ab63fa\",\"#FFA15A\",\"#19d3f3\",\"#FF6692\",\"#B6E880\",\"#FF97FF\",\"#FECB52\"],\"font\":{\"color\":\"#2a3f5f\"},\"geo\":{\"bgcolor\":\"white\",\"lakecolor\":\"white\",\"landcolor\":\"#E5ECF6\",\"showlakes\":true,\"showland\":true,\"subunitcolor\":\"white\"},\"hoverlabel\":{\"align\":\"left\"},\"hovermode\":\"closest\",\"mapbox\":{\"style\":\"light\"},\"paper_bgcolor\":\"white\",\"plot_bgcolor\":\"#E5ECF6\",\"polar\":{\"angularaxis\":{\"gridcolor\":\"white\",\"linecolor\":\"white\",\"ticks\":\"\"},\"bgcolor\":\"#E5ECF6\",\"radialaxis\":{\"gridcolor\":\"white\",\"linecolor\":\"white\",\"ticks\":\"\"}},\"scene\":{\"xaxis\":{\"backgroundcolor\":\"#E5ECF6\",\"gridcolor\":\"white\",\"gridwidth\":2,\"linecolor\":\"white\",\"showbackground\":true,\"ticks\":\"\",\"zerolinecolor\":\"white\"},\"yaxis\":{\"backgroundcolor\":\"#E5ECF6\",\"gridcolor\":\"white\",\"gridwidth\":2,\"linecolor\":\"white\",\"showbackground\":true,\"ticks\":\"\",\"zerolinecolor\":\"white\"},\"zaxis\":{\"backgroundcolor\":\"#E5ECF6\",\"gridcolor\":\"white\",\"gridwidth\":2,\"linecolor\":\"white\",\"showbackground\":true,\"ticks\":\"\",\"zerolinecolor\":\"white\"}},\"shapedefaults\":{\"line\":{\"color\":\"#2a3f5f\"}},\"ternary\":{\"aaxis\":{\"gridcolor\":\"white\",\"linecolor\":\"white\",\"ticks\":\"\"},\"baxis\":{\"gridcolor\":\"white\",\"linecolor\":\"white\",\"ticks\":\"\"},\"bgcolor\":\"#E5ECF6\",\"caxis\":{\"gridcolor\":\"white\",\"linecolor\":\"white\",\"ticks\":\"\"}},\"title\":{\"x\":0.05},\"xaxis\":{\"automargin\":true,\"gridcolor\":\"white\",\"linecolor\":\"white\",\"ticks\":\"\",\"title\":{\"standoff\":15},\"zerolinecolor\":\"white\",\"zerolinewidth\":2},\"yaxis\":{\"automargin\":true,\"gridcolor\":\"white\",\"linecolor\":\"white\",\"ticks\":\"\",\"title\":{\"standoff\":15},\"zerolinecolor\":\"white\",\"zerolinewidth\":2}}}},                        {\"responsive\": true}                    ).then(function(){\n",
              "                            \n",
              "var gd = document.getElementById('b4d47ea2-5e68-41dc-9262-e8aa8edc10c5');\n",
              "var x = new MutationObserver(function (mutations, observer) {{\n",
              "        var display = window.getComputedStyle(gd).display;\n",
              "        if (!display || display === 'none') {{\n",
              "            console.log([gd, 'removed!']);\n",
              "            Plotly.purge(gd);\n",
              "            observer.disconnect();\n",
              "        }}\n",
              "}});\n",
              "\n",
              "// Listen for the removal of the full notebook cells\n",
              "var notebookContainer = gd.closest('#notebook-container');\n",
              "if (notebookContainer) {{\n",
              "    x.observe(notebookContainer, {childList: true});\n",
              "}}\n",
              "\n",
              "// Listen for the clearing of the current output cell\n",
              "var outputEl = gd.closest('.output');\n",
              "if (outputEl) {{\n",
              "    x.observe(outputEl, {childList: true});\n",
              "}}\n",
              "\n",
              "                        })                };                            </script>        </div>\n",
              "</body>\n",
              "</html>"
            ]
          },
          "metadata": {},
          "output_type": "display_data"
        }
      ],
      "source": [
        "plot_param_importances(study)"
      ]
    },
    {
      "cell_type": "code",
      "execution_count": null,
      "metadata": {
        "colab": {
          "base_uri": "https://localhost:8080/",
          "height": 542
        },
        "id": "sg3RjvFSFbt_",
        "outputId": "fa958bff-27df-41b7-f405-63ff0e52c2ff"
      },
      "outputs": [
        {
          "data": {
            "text/html": [
              "<html>\n",
              "<head><meta charset=\"utf-8\" /></head>\n",
              "<body>\n",
              "    <div>            <script src=\"https://cdnjs.cloudflare.com/ajax/libs/mathjax/2.7.5/MathJax.js?config=TeX-AMS-MML_SVG\"></script><script type=\"text/javascript\">if (window.MathJax) {MathJax.Hub.Config({SVG: {font: \"STIX-Web\"}});}</script>                <script type=\"text/javascript\">window.PlotlyConfig = {MathJaxConfig: 'local'};</script>\n",
              "        <script src=\"https://cdn.plot.ly/plotly-2.8.3.min.js\"></script>                <div id=\"e3507edb-df81-4c28-a1e2-d73c9b7fa855\" class=\"plotly-graph-div\" style=\"height:525px; width:100%;\"></div>            <script type=\"text/javascript\">                                    window.PLOTLYENV=window.PLOTLYENV || {};                                    if (document.getElementById(\"e3507edb-df81-4c28-a1e2-d73c9b7fa855\")) {                    Plotly.newPlot(                        \"e3507edb-df81-4c28-a1e2-d73c9b7fa855\",                        [{\"mode\":\"lines\",\"name\":\"no-name-3ae68bbf-8d38-4f38-91ae-df88fad04afc\",\"x\":[0.990990990990991,0.991081991081991,0.9911729911729912,0.9912639912639912,0.9913549913549914,0.9914459914459914,0.9915369915369915,0.9916279916279916,0.9917189917189917,0.9918099918099917,0.9919009919009919,0.991991991991992,0.9920829920829921,0.9921739921739922,0.9922649922649922,0.9923559923559924,0.9924469924469924,0.9925379925379926,0.9926289926289926,0.9927199927199927,0.9928109928109928,0.9929019929019929,0.9929929929929929,0.9930839930839931,0.9931749931749931,0.9932659932659933,0.9933569933569933,0.9934479934479934,0.9935389935389936,0.9936299936299936,0.9937209937209938,0.9938119938119938,0.9939029939029939,0.993993993993994,0.9940849940849941,0.9941759941759941,0.9942669942669943,0.9943579943579943,0.9944489944489945,0.9945399945399945,0.9946309946309946,0.9947219947219947,0.9948129948129948,0.9949039949039948,0.994994994994995,0.995085995085995,0.9951769951769952,0.9952679952679953,0.9953589953589953,0.9954499954499955,0.9955409955409955,0.9956319956319957,0.9957229957229957,0.9958139958139958,0.9959049959049959,0.995995995995996,0.996086996086996,0.9961779961779962,0.9962689962689962,0.9963599963599964,0.9964509964509964,0.9965419965419965,0.9966329966329966,0.9967239967239967,0.9968149968149969,0.9969059969059969,0.996996996996997,0.9970879970879971,0.9971789971789972,0.9972699972699972,0.9973609973609974,0.9974519974519974,0.9975429975429976,0.9976339976339976,0.9977249977249977,0.9978159978159978,0.9979069979069979,0.997997997997998,0.9980889980889981,0.9981799981799981,0.9982709982709983,0.9983619983619983,0.9984529984529984,0.9985439985439986,0.9986349986349986,0.9987259987259988,0.9988169988169988,0.9989079989079989,0.998998998998999,0.9990899990899991,0.9991809991809992,0.9992719992719993,0.9993629993629993,0.9994539994539995,0.9995449995449995,0.9996359996359996,0.9997269997269997,0.9998179998179998,0.999908999909,1.0],\"y\":[0.36363636363636365,0.36363636363636365,0.36363636363636365,0.36363636363636365,0.36363636363636365,0.36363636363636365,0.36363636363636365,0.36363636363636365,0.36363636363636365,0.36363636363636365,0.36363636363636365,0.36363636363636365,0.36363636363636365,0.36363636363636365,0.36363636363636365,0.36363636363636365,0.36363636363636365,0.36363636363636365,0.36363636363636365,0.36363636363636365,0.36363636363636365,0.36363636363636365,0.36363636363636365,0.36363636363636365,0.36363636363636365,0.36363636363636365,0.36363636363636365,0.36363636363636365,0.36363636363636365,0.36363636363636365,0.36363636363636365,0.36363636363636365,0.36363636363636365,0.36363636363636365,0.36363636363636365,0.36363636363636365,0.36363636363636365,0.36363636363636365,0.36363636363636365,0.36363636363636365,0.36363636363636365,0.36363636363636365,0.36363636363636365,0.36363636363636365,0.36363636363636365,0.36363636363636365,0.36363636363636365,0.36363636363636365,0.36363636363636365,0.36363636363636365,0.36363636363636365,0.36363636363636365,0.36363636363636365,0.36363636363636365,0.36363636363636365,0.36363636363636365,0.36363636363636365,0.36363636363636365,0.36363636363636365,0.36363636363636365,0.36363636363636365,0.36363636363636365,0.36363636363636365,0.36363636363636365,0.36363636363636365,0.36363636363636365,0.36363636363636365,0.36363636363636365,0.36363636363636365,0.36363636363636365,0.36363636363636365,0.36363636363636365,0.36363636363636365,0.36363636363636365,0.36363636363636365,0.36363636363636365,0.36363636363636365,0.36363636363636365,0.36363636363636365,0.36363636363636365,0.36363636363636365,0.36363636363636365,0.36363636363636365,0.36363636363636365,0.36363636363636365,0.36363636363636365,0.36363636363636365,0.36363636363636365,0.36363636363636365,0.36363636363636365,0.36363636363636365,0.36363636363636365,0.36363636363636365,0.36363636363636365,0.36363636363636365,0.36363636363636365,0.36363636363636365,0.36363636363636365,0.36363636363636365,1.0],\"type\":\"scatter\"}],                        {\"title\":{\"text\":\"Empirical Distribution Function Plot\"},\"xaxis\":{\"title\":{\"text\":\"Objective Value\"}},\"yaxis\":{\"title\":{\"text\":\"Cumulative Probability\"},\"range\":[0,1]},\"template\":{\"data\":{\"bar\":[{\"error_x\":{\"color\":\"#2a3f5f\"},\"error_y\":{\"color\":\"#2a3f5f\"},\"marker\":{\"line\":{\"color\":\"#E5ECF6\",\"width\":0.5},\"pattern\":{\"fillmode\":\"overlay\",\"size\":10,\"solidity\":0.2}},\"type\":\"bar\"}],\"barpolar\":[{\"marker\":{\"line\":{\"color\":\"#E5ECF6\",\"width\":0.5},\"pattern\":{\"fillmode\":\"overlay\",\"size\":10,\"solidity\":0.2}},\"type\":\"barpolar\"}],\"carpet\":[{\"aaxis\":{\"endlinecolor\":\"#2a3f5f\",\"gridcolor\":\"white\",\"linecolor\":\"white\",\"minorgridcolor\":\"white\",\"startlinecolor\":\"#2a3f5f\"},\"baxis\":{\"endlinecolor\":\"#2a3f5f\",\"gridcolor\":\"white\",\"linecolor\":\"white\",\"minorgridcolor\":\"white\",\"startlinecolor\":\"#2a3f5f\"},\"type\":\"carpet\"}],\"choropleth\":[{\"colorbar\":{\"outlinewidth\":0,\"ticks\":\"\"},\"type\":\"choropleth\"}],\"contour\":[{\"colorbar\":{\"outlinewidth\":0,\"ticks\":\"\"},\"colorscale\":[[0.0,\"#0d0887\"],[0.1111111111111111,\"#46039f\"],[0.2222222222222222,\"#7201a8\"],[0.3333333333333333,\"#9c179e\"],[0.4444444444444444,\"#bd3786\"],[0.5555555555555556,\"#d8576b\"],[0.6666666666666666,\"#ed7953\"],[0.7777777777777778,\"#fb9f3a\"],[0.8888888888888888,\"#fdca26\"],[1.0,\"#f0f921\"]],\"type\":\"contour\"}],\"contourcarpet\":[{\"colorbar\":{\"outlinewidth\":0,\"ticks\":\"\"},\"type\":\"contourcarpet\"}],\"heatmap\":[{\"colorbar\":{\"outlinewidth\":0,\"ticks\":\"\"},\"colorscale\":[[0.0,\"#0d0887\"],[0.1111111111111111,\"#46039f\"],[0.2222222222222222,\"#7201a8\"],[0.3333333333333333,\"#9c179e\"],[0.4444444444444444,\"#bd3786\"],[0.5555555555555556,\"#d8576b\"],[0.6666666666666666,\"#ed7953\"],[0.7777777777777778,\"#fb9f3a\"],[0.8888888888888888,\"#fdca26\"],[1.0,\"#f0f921\"]],\"type\":\"heatmap\"}],\"heatmapgl\":[{\"colorbar\":{\"outlinewidth\":0,\"ticks\":\"\"},\"colorscale\":[[0.0,\"#0d0887\"],[0.1111111111111111,\"#46039f\"],[0.2222222222222222,\"#7201a8\"],[0.3333333333333333,\"#9c179e\"],[0.4444444444444444,\"#bd3786\"],[0.5555555555555556,\"#d8576b\"],[0.6666666666666666,\"#ed7953\"],[0.7777777777777778,\"#fb9f3a\"],[0.8888888888888888,\"#fdca26\"],[1.0,\"#f0f921\"]],\"type\":\"heatmapgl\"}],\"histogram\":[{\"marker\":{\"pattern\":{\"fillmode\":\"overlay\",\"size\":10,\"solidity\":0.2}},\"type\":\"histogram\"}],\"histogram2d\":[{\"colorbar\":{\"outlinewidth\":0,\"ticks\":\"\"},\"colorscale\":[[0.0,\"#0d0887\"],[0.1111111111111111,\"#46039f\"],[0.2222222222222222,\"#7201a8\"],[0.3333333333333333,\"#9c179e\"],[0.4444444444444444,\"#bd3786\"],[0.5555555555555556,\"#d8576b\"],[0.6666666666666666,\"#ed7953\"],[0.7777777777777778,\"#fb9f3a\"],[0.8888888888888888,\"#fdca26\"],[1.0,\"#f0f921\"]],\"type\":\"histogram2d\"}],\"histogram2dcontour\":[{\"colorbar\":{\"outlinewidth\":0,\"ticks\":\"\"},\"colorscale\":[[0.0,\"#0d0887\"],[0.1111111111111111,\"#46039f\"],[0.2222222222222222,\"#7201a8\"],[0.3333333333333333,\"#9c179e\"],[0.4444444444444444,\"#bd3786\"],[0.5555555555555556,\"#d8576b\"],[0.6666666666666666,\"#ed7953\"],[0.7777777777777778,\"#fb9f3a\"],[0.8888888888888888,\"#fdca26\"],[1.0,\"#f0f921\"]],\"type\":\"histogram2dcontour\"}],\"mesh3d\":[{\"colorbar\":{\"outlinewidth\":0,\"ticks\":\"\"},\"type\":\"mesh3d\"}],\"parcoords\":[{\"line\":{\"colorbar\":{\"outlinewidth\":0,\"ticks\":\"\"}},\"type\":\"parcoords\"}],\"pie\":[{\"automargin\":true,\"type\":\"pie\"}],\"scatter\":[{\"marker\":{\"colorbar\":{\"outlinewidth\":0,\"ticks\":\"\"}},\"type\":\"scatter\"}],\"scatter3d\":[{\"line\":{\"colorbar\":{\"outlinewidth\":0,\"ticks\":\"\"}},\"marker\":{\"colorbar\":{\"outlinewidth\":0,\"ticks\":\"\"}},\"type\":\"scatter3d\"}],\"scattercarpet\":[{\"marker\":{\"colorbar\":{\"outlinewidth\":0,\"ticks\":\"\"}},\"type\":\"scattercarpet\"}],\"scattergeo\":[{\"marker\":{\"colorbar\":{\"outlinewidth\":0,\"ticks\":\"\"}},\"type\":\"scattergeo\"}],\"scattergl\":[{\"marker\":{\"colorbar\":{\"outlinewidth\":0,\"ticks\":\"\"}},\"type\":\"scattergl\"}],\"scattermapbox\":[{\"marker\":{\"colorbar\":{\"outlinewidth\":0,\"ticks\":\"\"}},\"type\":\"scattermapbox\"}],\"scatterpolar\":[{\"marker\":{\"colorbar\":{\"outlinewidth\":0,\"ticks\":\"\"}},\"type\":\"scatterpolar\"}],\"scatterpolargl\":[{\"marker\":{\"colorbar\":{\"outlinewidth\":0,\"ticks\":\"\"}},\"type\":\"scatterpolargl\"}],\"scatterternary\":[{\"marker\":{\"colorbar\":{\"outlinewidth\":0,\"ticks\":\"\"}},\"type\":\"scatterternary\"}],\"surface\":[{\"colorbar\":{\"outlinewidth\":0,\"ticks\":\"\"},\"colorscale\":[[0.0,\"#0d0887\"],[0.1111111111111111,\"#46039f\"],[0.2222222222222222,\"#7201a8\"],[0.3333333333333333,\"#9c179e\"],[0.4444444444444444,\"#bd3786\"],[0.5555555555555556,\"#d8576b\"],[0.6666666666666666,\"#ed7953\"],[0.7777777777777778,\"#fb9f3a\"],[0.8888888888888888,\"#fdca26\"],[1.0,\"#f0f921\"]],\"type\":\"surface\"}],\"table\":[{\"cells\":{\"fill\":{\"color\":\"#EBF0F8\"},\"line\":{\"color\":\"white\"}},\"header\":{\"fill\":{\"color\":\"#C8D4E3\"},\"line\":{\"color\":\"white\"}},\"type\":\"table\"}]},\"layout\":{\"annotationdefaults\":{\"arrowcolor\":\"#2a3f5f\",\"arrowhead\":0,\"arrowwidth\":1},\"autotypenumbers\":\"strict\",\"coloraxis\":{\"colorbar\":{\"outlinewidth\":0,\"ticks\":\"\"}},\"colorscale\":{\"diverging\":[[0,\"#8e0152\"],[0.1,\"#c51b7d\"],[0.2,\"#de77ae\"],[0.3,\"#f1b6da\"],[0.4,\"#fde0ef\"],[0.5,\"#f7f7f7\"],[0.6,\"#e6f5d0\"],[0.7,\"#b8e186\"],[0.8,\"#7fbc41\"],[0.9,\"#4d9221\"],[1,\"#276419\"]],\"sequential\":[[0.0,\"#0d0887\"],[0.1111111111111111,\"#46039f\"],[0.2222222222222222,\"#7201a8\"],[0.3333333333333333,\"#9c179e\"],[0.4444444444444444,\"#bd3786\"],[0.5555555555555556,\"#d8576b\"],[0.6666666666666666,\"#ed7953\"],[0.7777777777777778,\"#fb9f3a\"],[0.8888888888888888,\"#fdca26\"],[1.0,\"#f0f921\"]],\"sequentialminus\":[[0.0,\"#0d0887\"],[0.1111111111111111,\"#46039f\"],[0.2222222222222222,\"#7201a8\"],[0.3333333333333333,\"#9c179e\"],[0.4444444444444444,\"#bd3786\"],[0.5555555555555556,\"#d8576b\"],[0.6666666666666666,\"#ed7953\"],[0.7777777777777778,\"#fb9f3a\"],[0.8888888888888888,\"#fdca26\"],[1.0,\"#f0f921\"]]},\"colorway\":[\"#636efa\",\"#EF553B\",\"#00cc96\",\"#ab63fa\",\"#FFA15A\",\"#19d3f3\",\"#FF6692\",\"#B6E880\",\"#FF97FF\",\"#FECB52\"],\"font\":{\"color\":\"#2a3f5f\"},\"geo\":{\"bgcolor\":\"white\",\"lakecolor\":\"white\",\"landcolor\":\"#E5ECF6\",\"showlakes\":true,\"showland\":true,\"subunitcolor\":\"white\"},\"hoverlabel\":{\"align\":\"left\"},\"hovermode\":\"closest\",\"mapbox\":{\"style\":\"light\"},\"paper_bgcolor\":\"white\",\"plot_bgcolor\":\"#E5ECF6\",\"polar\":{\"angularaxis\":{\"gridcolor\":\"white\",\"linecolor\":\"white\",\"ticks\":\"\"},\"bgcolor\":\"#E5ECF6\",\"radialaxis\":{\"gridcolor\":\"white\",\"linecolor\":\"white\",\"ticks\":\"\"}},\"scene\":{\"xaxis\":{\"backgroundcolor\":\"#E5ECF6\",\"gridcolor\":\"white\",\"gridwidth\":2,\"linecolor\":\"white\",\"showbackground\":true,\"ticks\":\"\",\"zerolinecolor\":\"white\"},\"yaxis\":{\"backgroundcolor\":\"#E5ECF6\",\"gridcolor\":\"white\",\"gridwidth\":2,\"linecolor\":\"white\",\"showbackground\":true,\"ticks\":\"\",\"zerolinecolor\":\"white\"},\"zaxis\":{\"backgroundcolor\":\"#E5ECF6\",\"gridcolor\":\"white\",\"gridwidth\":2,\"linecolor\":\"white\",\"showbackground\":true,\"ticks\":\"\",\"zerolinecolor\":\"white\"}},\"shapedefaults\":{\"line\":{\"color\":\"#2a3f5f\"}},\"ternary\":{\"aaxis\":{\"gridcolor\":\"white\",\"linecolor\":\"white\",\"ticks\":\"\"},\"baxis\":{\"gridcolor\":\"white\",\"linecolor\":\"white\",\"ticks\":\"\"},\"bgcolor\":\"#E5ECF6\",\"caxis\":{\"gridcolor\":\"white\",\"linecolor\":\"white\",\"ticks\":\"\"}},\"title\":{\"x\":0.05},\"xaxis\":{\"automargin\":true,\"gridcolor\":\"white\",\"linecolor\":\"white\",\"ticks\":\"\",\"title\":{\"standoff\":15},\"zerolinecolor\":\"white\",\"zerolinewidth\":2},\"yaxis\":{\"automargin\":true,\"gridcolor\":\"white\",\"linecolor\":\"white\",\"ticks\":\"\",\"title\":{\"standoff\":15},\"zerolinecolor\":\"white\",\"zerolinewidth\":2}}}},                        {\"responsive\": true}                    ).then(function(){\n",
              "                            \n",
              "var gd = document.getElementById('e3507edb-df81-4c28-a1e2-d73c9b7fa855');\n",
              "var x = new MutationObserver(function (mutations, observer) {{\n",
              "        var display = window.getComputedStyle(gd).display;\n",
              "        if (!display || display === 'none') {{\n",
              "            console.log([gd, 'removed!']);\n",
              "            Plotly.purge(gd);\n",
              "            observer.disconnect();\n",
              "        }}\n",
              "}});\n",
              "\n",
              "// Listen for the removal of the full notebook cells\n",
              "var notebookContainer = gd.closest('#notebook-container');\n",
              "if (notebookContainer) {{\n",
              "    x.observe(notebookContainer, {childList: true});\n",
              "}}\n",
              "\n",
              "// Listen for the clearing of the current output cell\n",
              "var outputEl = gd.closest('.output');\n",
              "if (outputEl) {{\n",
              "    x.observe(outputEl, {childList: true});\n",
              "}}\n",
              "\n",
              "                        })                };                            </script>        </div>\n",
              "</body>\n",
              "</html>"
            ]
          },
          "metadata": {},
          "output_type": "display_data"
        }
      ],
      "source": [
        "plot_edf(study)"
      ]
    }
  ],
  "metadata": {
    "colab": {
      "provenance": []
    },
    "kernelspec": {
      "display_name": "Python 3",
      "name": "python3"
    },
    "language_info": {
      "name": "python"
    }
  },
  "nbformat": 4,
  "nbformat_minor": 0
}