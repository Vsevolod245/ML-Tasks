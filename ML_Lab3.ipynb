{
  "nbformat": 4,
  "nbformat_minor": 0,
  "metadata": {
    "colab": {
      "provenance": [],
      "include_colab_link": true
    },
    "kernelspec": {
      "name": "python3",
      "display_name": "Python 3"
    },
    "language_info": {
      "name": "python"
    }
  },
  "cells": [
    {
      "cell_type": "markdown",
      "metadata": {
        "id": "view-in-github",
        "colab_type": "text"
      },
      "source": [
        "<a href=\"https://colab.research.google.com/github/Vsevolod245/ML-Tasks/blob/master/ML_Lab3.ipynb\" target=\"_parent\"><img src=\"https://colab.research.google.com/assets/colab-badge.svg\" alt=\"Open In Colab\"/></a>"
      ]
    },
    {
      "cell_type": "markdown",
      "source": [
        "#Лабораторная работа №3\n",
        "##Выполнить реализацию GD в Numba и сравнить с реализацией в ЛР №1"
      ],
      "metadata": {
        "id": "s4RhQ35M0fvT"
      }
    },
    {
      "cell_type": "code",
      "execution_count": null,
      "metadata": {
        "id": "qycV87o1YsOE"
      },
      "outputs": [],
      "source": [
        "import numpy as np\n",
        "import numba as nb\n",
        "from numba import jit\n",
        "from datetime import datetime\n",
        "from typing import Tuple, Mapping\n",
        "import math"
      ]
    },
    {
      "cell_type": "markdown",
      "source": [
        "Функция Шаффера №2"
      ],
      "metadata": {
        "id": "VMADqOgcPs2y"
      }
    },
    {
      "cell_type": "code",
      "source": [
        "# Функция Шаффера №2\n",
        "def Sh2_E(x,y):\n",
        "  return 0.5+((math.sin(x**2-y**2))**2-0.5)/(1+0.001*(x**2+y**2))**2\n",
        "# Производная по x\n",
        "def Sh2_dEdx(x,y):\n",
        "  return (x*(-0.004*(math.sin(x**2-y**2))**2+(0.004*x**2+0.004*y**2+4)*math.sin(x**2-y**2)*math.cos(x**2-y**2)+0.002))/(0.001*(x**2+y**2)+1)**3\n",
        "# Производная по y\n",
        "def Sh2_dEdy(x,y):\n",
        "  return (y*(-0.004*(math.sin(x**2-y**2))**2+(-0.004*x**2-0.004*y**2-4)*math.sin(x**2-y**2)*math.cos(x**2-y**2)+0.002))/(0.001*(x**2+y**2)+1)**3\n",
        "\n",
        "# NUMBA\n",
        "\n",
        "# Функция Шаффера №2 \n",
        "@nb.njit(fastmath=True)\n",
        "def NB_Sh2_E(x: np.ndarray):\n",
        "  return [0.5+((math.sin(x[0]**2-x[1]**2))**2-0.5)/(1+0.001*(x[0]**2+x[1]**2))**2]\n",
        "# Производная по x\n",
        "@nb.njit(fastmath=True)\n",
        "def NB_Sh2_dEdx(x: np.ndarray):\n",
        "  return (x[0]*(-0.004*(math.sin(x[0]**2-x[1]**2))**2+(0.004*x[0]**2+0.004*x[1]**2+4)*math.sin(x[0]**2-x[1]**2)*math.cos(x[0]**2-x[1]**2)+0.002))/(0.001*(x[0]**2+x[1]**2)+1)**3\n",
        "# Производная по y\n",
        "@nb.njit(fastmath=True)\n",
        "def NB_Sh2_dEdy(x: np.ndarray):\n",
        "  return (x[1]*(-0.004*(math.sin(x[0]**2-x[1]**2))**2+(-0.004*x[0]**2-0.004*x[1]**2-4)*math.sin(x[0]**2-x[1]**2)*math.cos(x[0]**2-x[1]**2)+0.002))/(0.001*(x[0]**2+x[1]**2)+1)**3"
      ],
      "metadata": {
        "id": "QHbPhbPMPtA1"
      },
      "execution_count": null,
      "outputs": []
    },
    {
      "cell_type": "markdown",
      "source": [
        "Функция Шаффера №4"
      ],
      "metadata": {
        "id": "c6bN4X6-PtTN"
      }
    },
    {
      "cell_type": "code",
      "source": [
        "# Функция Шаффера №4\n",
        "def Sh4_E(x,y):\n",
        "  return 0.5+((math.cos(math.sin(abs(x**2-y**2))))**2-0.5)/(1+0.001*(x**2+y**2))**2\n",
        "# Производная по x\n",
        "def Sh4_dEdx(x,y):\n",
        "  return (x*(-0.004*((math.cos(math.sin(abs(x**2-y**2))))**2-0.5)-1/abs(x**2-y**2)*4*(x**2-y**2)*(0.001*(x**2+y**2)+1)*math.sin(math.sin(abs(x**2-y**2)))*math.cos(abs(x**2-y**2))*math.cos(math.sin(abs(x**2-y**2)))))/(0.001*(x**2+y**2)+1)**3\n",
        "# Производная по y\n",
        "def Sh4_dEdy(x,y):\n",
        "  return (y*(1/abs(x**2-y**2)*4*(x**2-y**2)*(0.001*(x**2+y**2)+1)*math.sin(math.sin(abs(x**2-y**2)))*math.cos(abs(x**2-y**2))*math.cos(math.sin(abs(x**2-y**2)))-0.004*((math.cos(math.sin(abs(x**2-y**2))))**2-0.5)))/(0.001*(x**2+y**2)+1)**3\n",
        "\n",
        "# NUMBA\n",
        "\n",
        "#Функция Шаффера №4\n",
        "@nb.njit(fastmath=True)\n",
        "def NB_Sh4_E(x: np.ndarray):\n",
        "  return 0.5+((math.cos(math.sin(abs(x[0]**2-x[1]**2))))**2-0.5)/(1+0.001*(x[0]**2+x[1]**2))**2\n",
        "#Производная по x\n",
        "@nb.njit(fastmath=True)\n",
        "def NB_Sh4_dEdx(x: np.ndarray):\n",
        "  return (x[0]*(-0.004*((math.cos(math.sin(abs(x[0]**2-x[1]**2))))**2-0.5)-1/abs(x[0]**2-x[1]**2)*4*(x[0]**2-x[1]**2)*(0.001*(x[0]**2+x[1]**2)+1)*math.sin(math.sin(abs(x[0]**2-x[1]**2)))*math.cos(abs(x[0]**2-x[1]**2))*math.cos(math.sin(abs(x[0]**2-x[1]**2)))))/(0.001*(x[0]**2+x[1]**2)+1)**3\n",
        "#Производная по y\n",
        "@nb.njit(fastmath=True)\n",
        "def NB_Sh4_dEdy(x: np.ndarray):\n",
        "  return (x[1]*(1/abs(x[0]**2-x[1]**2)*4*(x[0]**2-x[1]**2)*(0.001*(x[0]**2+x[1]**2)+1)*math.sin(math.sin(abs(x[0]**2-x[1]**2)))*math.cos(abs(x[0]**2-x[1]**2))*math.cos(math.sin(abs(x[0]**2-x[1]**2)))-0.004*((math.cos(math.sin(abs(x[0]**2-x[1]**2))))**2-0.5)))/(0.001*(x[0]**2+x[1]**2)+1)**3"
      ],
      "metadata": {
        "id": "-I-YIfmSPwce"
      },
      "execution_count": null,
      "outputs": []
    },
    {
      "cell_type": "markdown",
      "source": [
        "Градиентный спуск"
      ],
      "metadata": {
        "id": "7JC7MSifP1t9"
      }
    },
    {
      "cell_type": "code",
      "source": [
        "def GD(E, dEdx, dEdy, x0, y0, LearningRate, Iterations):\n",
        "  '''\n",
        "  E - функция\n",
        "  dEdx, dEdy - частные производные функции\n",
        "  x0, y0 - начальные приближения точки\n",
        "  LearningRate - скорость обучения\n",
        "  Iterations - количество итераций\n",
        "  '''\n",
        "  x1=x0-LearningRate * dEdx(x0,y0)\n",
        "  y1=y0-LearningRate * dEdy(x0,y0)\n",
        "  for _ in range(Iterations):\n",
        "    x0=x1\n",
        "    y0=y1\n",
        "    x1=x0-LearningRate * dEdx(x0,y0)\n",
        "    y1=y0-LearningRate * dEdy(x0,y0)\n",
        "  return x1,y1, E(x1,y1)\n",
        "\n",
        "# NUMBA\n",
        "\n",
        "@nb.njit(fastmath=True)\n",
        "def NB_GD(E: Mapping, dEdx: Mapping, dEdy: Mapping, x:np.ndarray,LearningRate, Iterations):\n",
        "  '''\n",
        "  E - функция\n",
        "  dEdx, dEdy - частные производные функции\n",
        "  x - начальные приближения точки\n",
        "  LearningRate - скорость обучения\n",
        "  Iterations - количество итераций\n",
        "  '''\n",
        "  #Алгоритм градиентного спуска\n",
        "  x0 = x[0];\n",
        "  y0 = x[1];\n",
        "  x1=x0-LearningRate * dEdx(np.array([x0, y0]))\n",
        "  y1=y0-LearningRate * dEdy(np.array([x0, y0]))\n",
        "  for _ in range(Iterations):\n",
        "    x0=x1\n",
        "    y0=y1\n",
        "    x1=x0-LearningRate * dEdx(np.array([x0, y0]))\n",
        "    y1=y0-LearningRate * dEdy(np.array([x0, y0]))\n",
        "  return x1,y1, E(np.array([x1,y1]))"
      ],
      "metadata": {
        "id": "oTOZ35fJP2HZ"
      },
      "execution_count": null,
      "outputs": []
    },
    {
      "cell_type": "markdown",
      "source": [
        "Тест"
      ],
      "metadata": {
        "id": "F_HWKxxPP4KI"
      }
    },
    {
      "cell_type": "code",
      "source": [
        "print(\"###Градиентный спуск без NUMBA###\")\n",
        "print(\"___Функция Шаффера №2___\")\n",
        "start_time_without_NUMBA_Sh2 = datetime.now()\n",
        "x, y, TestSh2 = GD(Sh2_E, Sh2_dEdx, Sh2_dEdy, -1, 1, 0.0001, 500000)\n",
        "time_without_NUMBA_Sh2 = datetime.now() - start_time_without_NUMBA_Sh2\n",
        "print(\"Время \", time_without_NUMBA_Sh2)\n",
        "print('x={0}, y={1}, E={2}'.format(x,y,TestSh2))\n",
        "print(\"================================================\")\n",
        "print(\"___Функция Шаффера №4___\")\n",
        "start_time_without_NUMBA_Sh4 = datetime.now()\n",
        "x,y,TestSh4 = GD(Sh4_E, Sh4_dEdx, Sh4_dEdy, 0, 1, 0.001, 500000)\n",
        "time_without_NUMBA_Sh4 = datetime.now() - start_time_without_NUMBA_Sh4\n",
        "print(\"Время \", time_without_NUMBA_Sh4)\n",
        "print('x={0}, y={1}, E={2}'.format(x,y,TestSh4))\n",
        "\n",
        "print(\"\\n###Градиентный спуск c NUMBA###\")\n",
        "print(\"___Функция Шаффера №2___\")\n",
        "start_time_with_NUMBA_Sh2 = datetime.now()\n",
        "x,y,TestNB_Sh2 = NB_GD(NB_Sh2_E, NB_Sh2_dEdx, NB_Sh2_dEdy, np.array([-1, 1]), 0.0001, 500000)\n",
        "time_with_NUMBA_Sh2 = datetime.now() - start_time_with_NUMBA_Sh2\n",
        "print(\"Время:\", time_with_NUMBA_Sh2)\n",
        "print('x={0}, y={1}, E={2}'.format(x,y,TestNB_Sh2))\n",
        "print(\"================================================\")\n",
        "print(\"___Функция Шаффера №4___\")\n",
        "start_time_with_NUMBA_Sh4 = datetime.now()\n",
        "x,y,TestNB_Sh4 = NB_GD(NB_Sh4_E, NB_Sh4_dEdx, NB_Sh4_dEdy, np.array([0,1]), 0.001, 500000)\n",
        "time_with_NUMBA_Sh4 = datetime.now() - start_time_with_NUMBA_Sh4\n",
        "print(\"Время:\", time_with_NUMBA_Sh4)\n",
        "print('x={0}, y={1}, E={2}'.format(x,y,TestNB_Sh4))"
      ],
      "metadata": {
        "colab": {
          "base_uri": "https://localhost:8080/"
        },
        "id": "ImjOAGppP4XB",
        "outputId": "b48bb06a-7405-40b7-e16b-dd51de4a6d22"
      },
      "execution_count": null,
      "outputs": [
        {
          "output_type": "stream",
          "name": "stdout",
          "text": [
            "###Градиентный спуск без NUMBA###\n",
            "___Функция Шаффера №2___\n",
            "Время  0:00:01.881756\n",
            "x=-0.9053279000724023, y=0.9053279000724023, E=0.0016352153569050842\n",
            "================================================\n",
            "___Функция Шаффера №4___\n",
            "Время  0:00:02.920717\n",
            "x=0.0, y=1.2531318314637139, E=0.29257863203598056\n",
            "\n",
            "###Градиентный спуск c NUMBA###\n",
            "___Функция Шаффера №2___\n",
            "Время: 0:00:00.117032\n",
            "x=-0.9053279000724023, y=0.9053279000724023, E=[0.0016352153569050842]\n",
            "================================================\n",
            "___Функция Шаффера №4___\n",
            "Время: 0:00:00.176648\n",
            "x=0.0, y=1.2531318314637139, E=0.29257863203598056\n"
          ]
        }
      ]
    },
    {
      "cell_type": "markdown",
      "source": [
        "Сравнение времени работы программы без NUMBA и с NUMBA"
      ],
      "metadata": {
        "id": "aLHgVA70D9zy"
      }
    },
    {
      "cell_type": "code",
      "source": [
        "print(\"Время работы программы для функции Шаффера №2 без NUMBA больше в {0} раз, по сравнению со временем работы с NUMBA.\".format(round(time_without_NUMBA_Sh2/time_with_NUMBA_Sh2)))\n",
        "print(\"Время работы программы для функции Шаффера №4 без NUMBA больше в {0} раз, по сравнению со временем работы с NUMBA.\".format(round(time_without_NUMBA_Sh4/time_with_NUMBA_Sh4)))"
      ],
      "metadata": {
        "colab": {
          "base_uri": "https://localhost:8080/"
        },
        "id": "Ovm0N09qEEcD",
        "outputId": "3007fecf-8cfa-4533-a1f4-8637818e3c33"
      },
      "execution_count": null,
      "outputs": [
        {
          "output_type": "stream",
          "name": "stdout",
          "text": [
            "Время работы программы для функции Шаффера №2 без NUMBA больше в 16 раз, по сравнению со временем работы с NUMBA.\n",
            "Время работы программы для функции Шаффера №4 без NUMBA больше в 17 раз, по сравнению со временем работы с NUMBA.\n"
          ]
        }
      ]
    }
  ]
}